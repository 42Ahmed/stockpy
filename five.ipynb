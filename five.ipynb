{
 "cells": [
  {
   "cell_type": "markdown",
   "id": "f84938ec-ce07-4513-b2f5-2cd474776a5d",
   "metadata": {},
   "source": [
    "# 5. Regression with a Single Regressor: Hypothesis Tests and Confidence Intervals"
   ]
  },
  {
   "cell_type": "code",
   "execution_count": 1,
   "id": "2c5f1f30-d494-4a08-b2d0-e1299cffdd87",
   "metadata": {},
   "outputs": [],
   "source": [
    "import pandas as pd\n",
    "import numpy as np\n",
    "import statsmodels.api as sm\n",
    "import statsmodels.formula.api as smf\n",
    "import matplotlib.pyplot as plt\n",
    "import seaborn as sns\n",
    "import math"
   ]
  },
  {
   "cell_type": "code",
   "execution_count": 2,
   "id": "511b3637-f491-4249-9ad8-edee52a4a8eb",
   "metadata": {},
   "outputs": [
    {
     "name": "stderr",
     "output_type": "stream",
     "text": [
      "F:\\miniconda3\\envs\\py\\Lib\\site-packages\\openpyxl\\worksheet\\_reader.py:329: UserWarning: Unknown extension is not supported and will be removed\n",
      "  warn(msg)\n"
     ]
    },
    {
     "data": {
      "text/html": [
       "<div>\n",
       "<style scoped>\n",
       "    .dataframe tbody tr th:only-of-type {\n",
       "        vertical-align: middle;\n",
       "    }\n",
       "\n",
       "    .dataframe tbody tr th {\n",
       "        vertical-align: top;\n",
       "    }\n",
       "\n",
       "    .dataframe thead th {\n",
       "        text-align: right;\n",
       "    }\n",
       "</style>\n",
       "<table border=\"1\" class=\"dataframe\">\n",
       "  <thead>\n",
       "    <tr style=\"text-align: right;\">\n",
       "      <th></th>\n",
       "      <th>Observation Number</th>\n",
       "      <th>dist_cod</th>\n",
       "      <th>county</th>\n",
       "      <th>district</th>\n",
       "      <th>gr_span</th>\n",
       "      <th>enrl_tot</th>\n",
       "      <th>teachers</th>\n",
       "      <th>calw_pct</th>\n",
       "      <th>meal_pct</th>\n",
       "      <th>computer</th>\n",
       "      <th>testscr</th>\n",
       "      <th>comp_stu</th>\n",
       "      <th>expn_stu</th>\n",
       "      <th>str</th>\n",
       "      <th>avginc</th>\n",
       "      <th>el_pct</th>\n",
       "      <th>read_scr</th>\n",
       "      <th>math_scr</th>\n",
       "    </tr>\n",
       "  </thead>\n",
       "  <tbody>\n",
       "    <tr>\n",
       "      <th>0</th>\n",
       "      <td>1</td>\n",
       "      <td>75119</td>\n",
       "      <td>Alameda</td>\n",
       "      <td>Sunol Glen Unified</td>\n",
       "      <td>KK-08</td>\n",
       "      <td>195</td>\n",
       "      <td>10.900000</td>\n",
       "      <td>0.510200</td>\n",
       "      <td>2.040800</td>\n",
       "      <td>67</td>\n",
       "      <td>690.799988</td>\n",
       "      <td>0.343590</td>\n",
       "      <td>6384.911133</td>\n",
       "      <td>17.889910</td>\n",
       "      <td>22.690001</td>\n",
       "      <td>0.000000</td>\n",
       "      <td>691.599976</td>\n",
       "      <td>690.000000</td>\n",
       "    </tr>\n",
       "    <tr>\n",
       "      <th>1</th>\n",
       "      <td>2</td>\n",
       "      <td>61499</td>\n",
       "      <td>Butte</td>\n",
       "      <td>Manzanita Elementary</td>\n",
       "      <td>KK-08</td>\n",
       "      <td>240</td>\n",
       "      <td>11.150000</td>\n",
       "      <td>15.416700</td>\n",
       "      <td>47.916698</td>\n",
       "      <td>101</td>\n",
       "      <td>661.200012</td>\n",
       "      <td>0.420833</td>\n",
       "      <td>5099.380859</td>\n",
       "      <td>21.524664</td>\n",
       "      <td>9.824000</td>\n",
       "      <td>4.583333</td>\n",
       "      <td>660.500000</td>\n",
       "      <td>661.900024</td>\n",
       "    </tr>\n",
       "    <tr>\n",
       "      <th>2</th>\n",
       "      <td>3</td>\n",
       "      <td>61549</td>\n",
       "      <td>Butte</td>\n",
       "      <td>Thermalito Union Elementary</td>\n",
       "      <td>KK-08</td>\n",
       "      <td>1550</td>\n",
       "      <td>82.900002</td>\n",
       "      <td>55.032299</td>\n",
       "      <td>76.322601</td>\n",
       "      <td>169</td>\n",
       "      <td>643.599976</td>\n",
       "      <td>0.109032</td>\n",
       "      <td>5501.954590</td>\n",
       "      <td>18.697226</td>\n",
       "      <td>8.978000</td>\n",
       "      <td>30.000002</td>\n",
       "      <td>636.299988</td>\n",
       "      <td>650.900024</td>\n",
       "    </tr>\n",
       "    <tr>\n",
       "      <th>3</th>\n",
       "      <td>4</td>\n",
       "      <td>61457</td>\n",
       "      <td>Butte</td>\n",
       "      <td>Golden Feather Union Elementary</td>\n",
       "      <td>KK-08</td>\n",
       "      <td>243</td>\n",
       "      <td>14.000000</td>\n",
       "      <td>36.475399</td>\n",
       "      <td>77.049202</td>\n",
       "      <td>85</td>\n",
       "      <td>647.700012</td>\n",
       "      <td>0.349794</td>\n",
       "      <td>7101.831055</td>\n",
       "      <td>17.357143</td>\n",
       "      <td>8.978000</td>\n",
       "      <td>0.000000</td>\n",
       "      <td>651.900024</td>\n",
       "      <td>643.500000</td>\n",
       "    </tr>\n",
       "    <tr>\n",
       "      <th>4</th>\n",
       "      <td>5</td>\n",
       "      <td>61523</td>\n",
       "      <td>Butte</td>\n",
       "      <td>Palermo Union Elementary</td>\n",
       "      <td>KK-08</td>\n",
       "      <td>1335</td>\n",
       "      <td>71.500000</td>\n",
       "      <td>33.108601</td>\n",
       "      <td>78.427002</td>\n",
       "      <td>171</td>\n",
       "      <td>640.849976</td>\n",
       "      <td>0.128090</td>\n",
       "      <td>5235.987793</td>\n",
       "      <td>18.671329</td>\n",
       "      <td>9.080333</td>\n",
       "      <td>13.857677</td>\n",
       "      <td>641.799988</td>\n",
       "      <td>639.900024</td>\n",
       "    </tr>\n",
       "  </tbody>\n",
       "</table>\n",
       "</div>"
      ],
      "text/plain": [
       "   Observation Number  dist_cod   county                         district  \\\n",
       "0                   1     75119  Alameda               Sunol Glen Unified   \n",
       "1                   2     61499    Butte             Manzanita Elementary   \n",
       "2                   3     61549    Butte      Thermalito Union Elementary   \n",
       "3                   4     61457    Butte  Golden Feather Union Elementary   \n",
       "4                   5     61523    Butte         Palermo Union Elementary   \n",
       "\n",
       "  gr_span  enrl_tot   teachers   calw_pct   meal_pct  computer     testscr  \\\n",
       "0   KK-08       195  10.900000   0.510200   2.040800        67  690.799988   \n",
       "1   KK-08       240  11.150000  15.416700  47.916698       101  661.200012   \n",
       "2   KK-08      1550  82.900002  55.032299  76.322601       169  643.599976   \n",
       "3   KK-08       243  14.000000  36.475399  77.049202        85  647.700012   \n",
       "4   KK-08      1335  71.500000  33.108601  78.427002       171  640.849976   \n",
       "\n",
       "   comp_stu     expn_stu        str     avginc     el_pct    read_scr  \\\n",
       "0  0.343590  6384.911133  17.889910  22.690001   0.000000  691.599976   \n",
       "1  0.420833  5099.380859  21.524664   9.824000   4.583333  660.500000   \n",
       "2  0.109032  5501.954590  18.697226   8.978000  30.000002  636.299988   \n",
       "3  0.349794  7101.831055  17.357143   8.978000   0.000000  651.900024   \n",
       "4  0.128090  5235.987793  18.671329   9.080333  13.857677  641.799988   \n",
       "\n",
       "     math_scr  \n",
       "0  690.000000  \n",
       "1  661.900024  \n",
       "2  650.900024  \n",
       "3  643.500000  \n",
       "4  639.900024  "
      ]
     },
     "execution_count": 2,
     "metadata": {},
     "output_type": "execute_result"
    }
   ],
   "source": [
    "df = pd.read_excel(\"data/replication/Replication Data/caschool.xlsx\")\n",
    "df.head()"
   ]
  },
  {
   "cell_type": "markdown",
   "id": "c22707f5-6aa5-4340-b3c1-bafdab0b19d2",
   "metadata": {},
   "source": [
    "## Testing Hypothesis About One Of The Regression Coefficients"
   ]
  },
  {
   "cell_type": "markdown",
   "id": "d29c0ec6-9ac2-49f8-acf0-37f2be39330d",
   "metadata": {},
   "source": [
    "### Two sided Hypothesis concerning $\\beta_1$"
   ]
  },
  {
   "cell_type": "markdown",
   "id": "58dafd7b-241c-4f24-a480-7331d70f0f62",
   "metadata": {},
   "source": [
    "If taxpayer claims that class size has no effect on test score $\\beta_{class size} = 0$"
   ]
  },
  {
   "cell_type": "markdown",
   "id": "b49f57a6-c99d-4e71-850b-b5b04ad30af8",
   "metadata": {},
   "source": [
    "Use Heteroskedasticity-Robust Standard Errors  \n",
    "$$  \\hat{\\sigma}^2_{\\beta_0} = \\frac{1}{n} \\times \\frac{\\frac{1}{n-2} \\sum H_i^2\\hat{u}^2_i}{{(\\frac{1}{n}\\sum H_i^2)}^2} $$"
   ]
  },
  {
   "cell_type": "markdown",
   "id": "f9ee2451-a497-4a74-ae46-a05ce9af60fc",
   "metadata": {},
   "source": [
    "$$ H_i^2 = 1 - (\\frac{\\bar{x}}{\\frac{1}{n}\\sum X^2_i})X_i$$"
   ]
  },
  {
   "cell_type": "code",
   "execution_count": 3,
   "id": "94d80d52-2e4d-4e28-af6a-f9016f008cee",
   "metadata": {},
   "outputs": [
    {
     "data": {
      "text/html": [
       "<table class=\"simpletable\">\n",
       "<caption>OLS Regression Results</caption>\n",
       "<tr>\n",
       "  <th>Dep. Variable:</th>         <td>testscr</td>     <th>  R-squared:         </th> <td>   0.051</td>\n",
       "</tr>\n",
       "<tr>\n",
       "  <th>Model:</th>                   <td>OLS</td>       <th>  Adj. R-squared:    </th> <td>   0.049</td>\n",
       "</tr>\n",
       "<tr>\n",
       "  <th>Method:</th>             <td>Least Squares</td>  <th>  F-statistic:       </th> <td>   19.13</td>\n",
       "</tr>\n",
       "<tr>\n",
       "  <th>Date:</th>             <td>Tue, 09 Jul 2024</td> <th>  Prob (F-statistic):</th> <td>1.55e-05</td>\n",
       "</tr>\n",
       "<tr>\n",
       "  <th>Time:</th>                 <td>13:02:21</td>     <th>  Log-Likelihood:    </th> <td> -1822.2</td>\n",
       "</tr>\n",
       "<tr>\n",
       "  <th>No. Observations:</th>      <td>   420</td>      <th>  AIC:               </th> <td>   3648.</td>\n",
       "</tr>\n",
       "<tr>\n",
       "  <th>Df Residuals:</th>          <td>   418</td>      <th>  BIC:               </th> <td>   3657.</td>\n",
       "</tr>\n",
       "<tr>\n",
       "  <th>Df Model:</th>              <td>     1</td>      <th>                     </th>     <td> </td>   \n",
       "</tr>\n",
       "<tr>\n",
       "  <th>Covariance Type:</th>         <td>HC2</td>       <th>                     </th>     <td> </td>   \n",
       "</tr>\n",
       "</table>\n",
       "<table class=\"simpletable\">\n",
       "<tr>\n",
       "      <td></td>         <th>coef</th>     <th>std err</th>      <th>z</th>      <th>P>|z|</th>  <th>[0.025</th>    <th>0.975]</th>  \n",
       "</tr>\n",
       "<tr>\n",
       "  <th>Intercept</th> <td>  698.9330</td> <td>   10.400</td> <td>   67.206</td> <td> 0.000</td> <td>  678.550</td> <td>  719.316</td>\n",
       "</tr>\n",
       "<tr>\n",
       "  <th>str</th>       <td>   -2.2798</td> <td>    0.521</td> <td>   -4.373</td> <td> 0.000</td> <td>   -3.302</td> <td>   -1.258</td>\n",
       "</tr>\n",
       "</table>\n",
       "<table class=\"simpletable\">\n",
       "<tr>\n",
       "  <th>Omnibus:</th>       <td> 5.390</td> <th>  Durbin-Watson:     </th> <td>   0.129</td>\n",
       "</tr>\n",
       "<tr>\n",
       "  <th>Prob(Omnibus):</th> <td> 0.068</td> <th>  Jarque-Bera (JB):  </th> <td>   3.589</td>\n",
       "</tr>\n",
       "<tr>\n",
       "  <th>Skew:</th>          <td>-0.012</td> <th>  Prob(JB):          </th> <td>   0.166</td>\n",
       "</tr>\n",
       "<tr>\n",
       "  <th>Kurtosis:</th>      <td> 2.548</td> <th>  Cond. No.          </th> <td>    207.</td>\n",
       "</tr>\n",
       "</table><br/><br/>Notes:<br/>[1] Standard Errors are heteroscedasticity robust (HC2)"
      ],
      "text/latex": [
       "\\begin{center}\n",
       "\\begin{tabular}{lclc}\n",
       "\\toprule\n",
       "\\textbf{Dep. Variable:}    &     testscr      & \\textbf{  R-squared:         } &     0.051   \\\\\n",
       "\\textbf{Model:}            &       OLS        & \\textbf{  Adj. R-squared:    } &     0.049   \\\\\n",
       "\\textbf{Method:}           &  Least Squares   & \\textbf{  F-statistic:       } &     19.13   \\\\\n",
       "\\textbf{Date:}             & Tue, 09 Jul 2024 & \\textbf{  Prob (F-statistic):} &  1.55e-05   \\\\\n",
       "\\textbf{Time:}             &     13:02:21     & \\textbf{  Log-Likelihood:    } &   -1822.2   \\\\\n",
       "\\textbf{No. Observations:} &         420      & \\textbf{  AIC:               } &     3648.   \\\\\n",
       "\\textbf{Df Residuals:}     &         418      & \\textbf{  BIC:               } &     3657.   \\\\\n",
       "\\textbf{Df Model:}         &           1      & \\textbf{                     } &             \\\\\n",
       "\\textbf{Covariance Type:}  &       HC2        & \\textbf{                     } &             \\\\\n",
       "\\bottomrule\n",
       "\\end{tabular}\n",
       "\\begin{tabular}{lcccccc}\n",
       "                   & \\textbf{coef} & \\textbf{std err} & \\textbf{z} & \\textbf{P$> |$z$|$} & \\textbf{[0.025} & \\textbf{0.975]}  \\\\\n",
       "\\midrule\n",
       "\\textbf{Intercept} &     698.9330  &       10.400     &    67.206  &         0.000        &      678.550    &      719.316     \\\\\n",
       "\\textbf{str}       &      -2.2798  &        0.521     &    -4.373  &         0.000        &       -3.302    &       -1.258     \\\\\n",
       "\\bottomrule\n",
       "\\end{tabular}\n",
       "\\begin{tabular}{lclc}\n",
       "\\textbf{Omnibus:}       &  5.390 & \\textbf{  Durbin-Watson:     } &    0.129  \\\\\n",
       "\\textbf{Prob(Omnibus):} &  0.068 & \\textbf{  Jarque-Bera (JB):  } &    3.589  \\\\\n",
       "\\textbf{Skew:}          & -0.012 & \\textbf{  Prob(JB):          } &    0.166  \\\\\n",
       "\\textbf{Kurtosis:}      &  2.548 & \\textbf{  Cond. No.          } &     207.  \\\\\n",
       "\\bottomrule\n",
       "\\end{tabular}\n",
       "%\\caption{OLS Regression Results}\n",
       "\\end{center}\n",
       "\n",
       "Notes: \\newline\n",
       " [1] Standard Errors are heteroscedasticity robust (HC2)"
      ],
      "text/plain": [
       "<class 'statsmodels.iolib.summary.Summary'>\n",
       "\"\"\"\n",
       "                            OLS Regression Results                            \n",
       "==============================================================================\n",
       "Dep. Variable:                testscr   R-squared:                       0.051\n",
       "Model:                            OLS   Adj. R-squared:                  0.049\n",
       "Method:                 Least Squares   F-statistic:                     19.13\n",
       "Date:                Tue, 09 Jul 2024   Prob (F-statistic):           1.55e-05\n",
       "Time:                        13:02:21   Log-Likelihood:                -1822.2\n",
       "No. Observations:                 420   AIC:                             3648.\n",
       "Df Residuals:                     418   BIC:                             3657.\n",
       "Df Model:                           1                                         \n",
       "Covariance Type:                  HC2                                         \n",
       "==============================================================================\n",
       "                 coef    std err          z      P>|z|      [0.025      0.975]\n",
       "------------------------------------------------------------------------------\n",
       "Intercept    698.9330     10.400     67.206      0.000     678.550     719.316\n",
       "str           -2.2798      0.521     -4.373      0.000      -3.302      -1.258\n",
       "==============================================================================\n",
       "Omnibus:                        5.390   Durbin-Watson:                   0.129\n",
       "Prob(Omnibus):                  0.068   Jarque-Bera (JB):                3.589\n",
       "Skew:                          -0.012   Prob(JB):                        0.166\n",
       "Kurtosis:                       2.548   Cond. No.                         207.\n",
       "==============================================================================\n",
       "\n",
       "Notes:\n",
       "[1] Standard Errors are heteroscedasticity robust (HC2)\n",
       "\"\"\""
      ]
     },
     "execution_count": 3,
     "metadata": {},
     "output_type": "execute_result"
    }
   ],
   "source": [
    "model = smf.ols('testscr ~ str', data=df).fit(cov_type='HC2')\n",
    "model.summary()"
   ]
  },
  {
   "cell_type": "code",
   "execution_count": 4,
   "id": "b63ad74f-42ad-4050-ac21-e97771d8b026",
   "metadata": {},
   "outputs": [
    {
     "data": {
      "text/plain": [
       "18.58096749678702"
      ]
     },
     "execution_count": 4,
     "metadata": {},
     "output_type": "execute_result"
    }
   ],
   "source": [
    "SER = math.sqrt(model.ssr/(model.nobs-2))\n",
    "SER"
   ]
  },
  {
   "cell_type": "markdown",
   "id": "22fe98af-d5a3-49ab-8b28-dec9b52674b0",
   "metadata": {},
   "source": [
    "$$ t_{act} = -4.38  \\text{, p value } =  0.000 $$\n",
    "null hypothesis is\n",
    "rejected in favor of the two-sided alternative at the 5% significance level."
   ]
  },
  {
   "cell_type": "markdown",
   "id": "95350f97-06aa-4719-af15-48ac495ac1c8",
   "metadata": {},
   "source": [
    "### Reporting Regression Equation"
   ]
  },
  {
   "cell_type": "markdown",
   "id": "ffeba24d-44e7-40b5-9db5-f25509f9e29b",
   "metadata": {},
   "source": [
    "\\begin{equation}\n",
    "\\text{TestScore} = 698.9 - 2.28 \\times \\text{STR}\n",
    "\\end{equation}\n",
    "\n",
    "\\begin{equation*}\n",
    "\\begin{array}{r@{}r@{}r}\n",
    "& &(10.4) &(0.52)\n",
    "\\end{array}\n",
    "\\end{equation*}\n",
    "\n",
    "\\begin{align*}\n",
    "R^2 &= 0.051 \\\\\n",
    "\\text{SER} &= 18.6\n",
    "\\end{align*}"
   ]
  },
  {
   "cell_type": "markdown",
   "id": "b3a8820c-5758-47b6-9fa2-248798f8df73",
   "metadata": {},
   "source": [
    "### one sided Hypothesis concerning $\\beta_1$"
   ]
  },
  {
   "cell_type": "code",
   "execution_count": 5,
   "id": "4a689543-ce74-4fa6-a6cf-98f323fee324",
   "metadata": {},
   "outputs": [
    {
     "data": {
      "text/plain": [
       "<class 'statsmodels.stats.contrast.ContrastResults'>\n",
       "                             Test for Constraints                             \n",
       "==============================================================================\n",
       "                 coef    std err          z      P>|z|      [0.025      0.975]\n",
       "------------------------------------------------------------------------------\n",
       "c0            -2.2798      0.521     -4.373      0.000      -3.302      -1.258\n",
       "=============================================================================="
      ]
     },
     "execution_count": 5,
     "metadata": {},
     "output_type": "execute_result"
    }
   ],
   "source": [
    "# two sided against specific value\n",
    "hypothesis = 'str = 0'\n",
    "t_test = model.t_test(hypothesis)\n",
    "t_test"
   ]
  },
  {
   "cell_type": "code",
   "execution_count": 6,
   "id": "16592428-2101-4c6b-9d2d-715a1173d566",
   "metadata": {},
   "outputs": [
    {
     "data": {
      "text/plain": [
       "array([[-4.37340446]])"
      ]
     },
     "execution_count": 6,
     "metadata": {},
     "output_type": "execute_result"
    }
   ],
   "source": [
    "t_stat = t_test.statistic\n",
    "t_stat"
   ]
  },
  {
   "cell_type": "markdown",
   "id": "9d903dfa-63ee-40d6-9f29-34460c49f012",
   "metadata": {},
   "source": [
    "$$  H_1: \\beta_1 < 0 $$"
   ]
  },
  {
   "cell_type": "code",
   "execution_count": 7,
   "id": "c385270c-0144-461a-920e-8c9626274b99",
   "metadata": {},
   "outputs": [
    {
     "data": {
      "text/plain": [
       "np.float64(7.730976280937029e-06)"
      ]
     },
     "execution_count": 7,
     "metadata": {},
     "output_type": "execute_result"
    }
   ],
   "source": [
    "from scipy import stats\n",
    "\n",
    "degree = model.nobs - 2\n",
    "t_stat = model.tvalues.iloc[1]\n",
    "p_value = stats.t.cdf(t_stat, degree)\n",
    "p_value"
   ]
  },
  {
   "cell_type": "code",
   "execution_count": 8,
   "id": "f38d36fd-dd32-41e4-8472-29a449bcb0c4",
   "metadata": {},
   "outputs": [
    {
     "data": {
      "text/plain": [
       "0"
      ]
     },
     "execution_count": 8,
     "metadata": {},
     "output_type": "execute_result"
    }
   ],
   "source": [
    "int(7.730976280937029e-06)"
   ]
  },
  {
   "cell_type": "markdown",
   "id": "88208f68-b9df-4dc1-ae92-56deda80f7fe",
   "metadata": {},
   "source": [
    "reject the null hypthesis,  \n",
    "you can reject the angry taxpayer’s assertion that the negative estimate of the slope arose purely because of\n",
    "random sampling variation at the 1% significance level."
   ]
  },
  {
   "cell_type": "markdown",
   "id": "ff85fdb9-d9bb-4b64-a7bf-714c5489909b",
   "metadata": {},
   "source": [
    "## Confidence Intervals for a Regression Coefficient"
   ]
  },
  {
   "cell_type": "code",
   "execution_count": 9,
   "id": "478385bd-40e3-45ba-a965-9d9db042922b",
   "metadata": {},
   "outputs": [
    {
     "data": {
      "text/html": [
       "<div>\n",
       "<style scoped>\n",
       "    .dataframe tbody tr th:only-of-type {\n",
       "        vertical-align: middle;\n",
       "    }\n",
       "\n",
       "    .dataframe tbody tr th {\n",
       "        vertical-align: top;\n",
       "    }\n",
       "\n",
       "    .dataframe thead th {\n",
       "        text-align: right;\n",
       "    }\n",
       "</style>\n",
       "<table border=\"1\" class=\"dataframe\">\n",
       "  <thead>\n",
       "    <tr style=\"text-align: right;\">\n",
       "      <th></th>\n",
       "      <th>0</th>\n",
       "      <th>1</th>\n",
       "    </tr>\n",
       "  </thead>\n",
       "  <tbody>\n",
       "    <tr>\n",
       "      <th>Intercept</th>\n",
       "      <td>678.549739</td>\n",
       "      <td>719.316166</td>\n",
       "    </tr>\n",
       "    <tr>\n",
       "      <th>str</th>\n",
       "      <td>-3.301516</td>\n",
       "      <td>-1.258100</td>\n",
       "    </tr>\n",
       "  </tbody>\n",
       "</table>\n",
       "</div>"
      ],
      "text/plain": [
       "                    0           1\n",
       "Intercept  678.549739  719.316166\n",
       "str         -3.301516   -1.258100"
      ]
     },
     "execution_count": 9,
     "metadata": {},
     "output_type": "execute_result"
    }
   ],
   "source": [
    "model.conf_int()"
   ]
  },
  {
   "cell_type": "markdown",
   "id": "da7df046-e6ef-476d-beda-2a9d0b74b782",
   "metadata": {},
   "source": [
    "The value $\\beta_1 = 0$ is not contained in this confidence interval,  the hypothesis $\\beta_1 = 0$ can be rejected at\n",
    "the 5% significance level.\n"
   ]
  },
  {
   "cell_type": "markdown",
   "id": "531da977-67c9-4304-85ab-c38064f3869c",
   "metadata": {},
   "source": [
    "### Confidence intervals for predicted effects of changing X."
   ]
  },
  {
   "cell_type": "markdown",
   "id": "e393f4f1-a4a6-4d91-b9fa-480878c6fd2d",
   "metadata": {},
   "source": [
    "If  the student teacher ratio is reduced  by 2"
   ]
  },
  {
   "cell_type": "code",
   "execution_count": 10,
   "id": "da79c123-d132-4614-a2a4-66690a4b44a1",
   "metadata": {},
   "outputs": [
    {
     "data": {
      "text/html": [
       "<div>\n",
       "<style scoped>\n",
       "    .dataframe tbody tr th:only-of-type {\n",
       "        vertical-align: middle;\n",
       "    }\n",
       "\n",
       "    .dataframe tbody tr th {\n",
       "        vertical-align: top;\n",
       "    }\n",
       "\n",
       "    .dataframe thead th {\n",
       "        text-align: right;\n",
       "    }\n",
       "</style>\n",
       "<table border=\"1\" class=\"dataframe\">\n",
       "  <thead>\n",
       "    <tr style=\"text-align: right;\">\n",
       "      <th></th>\n",
       "      <th>0</th>\n",
       "      <th>1</th>\n",
       "    </tr>\n",
       "  </thead>\n",
       "  <tbody>\n",
       "    <tr>\n",
       "      <th>str</th>\n",
       "      <td>6.603032</td>\n",
       "      <td>2.516201</td>\n",
       "    </tr>\n",
       "  </tbody>\n",
       "</table>\n",
       "</div>"
      ],
      "text/plain": [
       "            0         1\n",
       "str  6.603032  2.516201"
      ]
     },
     "execution_count": 10,
     "metadata": {},
     "output_type": "execute_result"
    }
   ],
   "source": [
    "model.conf_int()[1:]*-2"
   ]
  },
  {
   "cell_type": "markdown",
   "id": "a0ae3e13-b9c8-459c-a2bd-8bd9a4a8097c",
   "metadata": {},
   "source": [
    "decreasing the\n",
    "student–teacher ratio by 2 is estimated to increase test scores by between 2.52 and\n",
    "6.60 points, with a 95% confidence level."
   ]
  },
  {
   "cell_type": "markdown",
   "id": "530cd5b3-3a26-419c-a2ca-f86b7f4b6564",
   "metadata": {},
   "source": [
    "## Regression When X Is a Binary Variable"
   ]
  },
  {
   "cell_type": "markdown",
   "id": "b73674dc-7d88-4d71-8ba6-298a16784554",
   "metadata": {},
   "source": [
    "suppose you have a variable $D$ that equals either 0 or 1,   \n",
    "1 if the student–teacher ratio is less than 20,   \n",
    "0 otherwise"
   ]
  },
  {
   "cell_type": "code",
   "execution_count": 11,
   "id": "2a7d466b-68b3-4477-9a56-33767fa4d62e",
   "metadata": {},
   "outputs": [
    {
     "data": {
      "text/plain": [
       "Index(['Observation Number', 'dist_cod', 'county', 'district', 'gr_span',\n",
       "       'enrl_tot', 'teachers', 'calw_pct', 'meal_pct', 'computer', 'testscr',\n",
       "       'comp_stu', 'expn_stu', 'str', 'avginc', 'el_pct', 'read_scr',\n",
       "       'math_scr'],\n",
       "      dtype='object')"
      ]
     },
     "execution_count": 11,
     "metadata": {},
     "output_type": "execute_result"
    }
   ],
   "source": [
    "df.columns"
   ]
  },
  {
   "cell_type": "code",
   "execution_count": 12,
   "id": "7f2da9b9-d6a8-4f4f-9a7c-bd5bcae8197d",
   "metadata": {},
   "outputs": [
    {
     "data": {
      "text/html": [
       "<div>\n",
       "<style scoped>\n",
       "    .dataframe tbody tr th:only-of-type {\n",
       "        vertical-align: middle;\n",
       "    }\n",
       "\n",
       "    .dataframe tbody tr th {\n",
       "        vertical-align: top;\n",
       "    }\n",
       "\n",
       "    .dataframe thead th {\n",
       "        text-align: right;\n",
       "    }\n",
       "</style>\n",
       "<table border=\"1\" class=\"dataframe\">\n",
       "  <thead>\n",
       "    <tr style=\"text-align: right;\">\n",
       "      <th></th>\n",
       "      <th>Observation Number</th>\n",
       "      <th>dist_cod</th>\n",
       "      <th>county</th>\n",
       "      <th>district</th>\n",
       "      <th>gr_span</th>\n",
       "      <th>enrl_tot</th>\n",
       "      <th>teachers</th>\n",
       "      <th>calw_pct</th>\n",
       "      <th>meal_pct</th>\n",
       "      <th>computer</th>\n",
       "      <th>testscr</th>\n",
       "      <th>comp_stu</th>\n",
       "      <th>expn_stu</th>\n",
       "      <th>str</th>\n",
       "      <th>avginc</th>\n",
       "      <th>el_pct</th>\n",
       "      <th>read_scr</th>\n",
       "      <th>math_scr</th>\n",
       "      <th>D</th>\n",
       "    </tr>\n",
       "  </thead>\n",
       "  <tbody>\n",
       "    <tr>\n",
       "      <th>0</th>\n",
       "      <td>1</td>\n",
       "      <td>75119</td>\n",
       "      <td>Alameda</td>\n",
       "      <td>Sunol Glen Unified</td>\n",
       "      <td>KK-08</td>\n",
       "      <td>195</td>\n",
       "      <td>10.900000</td>\n",
       "      <td>0.510200</td>\n",
       "      <td>2.040800</td>\n",
       "      <td>67</td>\n",
       "      <td>690.799988</td>\n",
       "      <td>0.343590</td>\n",
       "      <td>6384.911133</td>\n",
       "      <td>17.889910</td>\n",
       "      <td>22.690001</td>\n",
       "      <td>0.000000</td>\n",
       "      <td>691.599976</td>\n",
       "      <td>690.000000</td>\n",
       "      <td>1</td>\n",
       "    </tr>\n",
       "    <tr>\n",
       "      <th>1</th>\n",
       "      <td>2</td>\n",
       "      <td>61499</td>\n",
       "      <td>Butte</td>\n",
       "      <td>Manzanita Elementary</td>\n",
       "      <td>KK-08</td>\n",
       "      <td>240</td>\n",
       "      <td>11.150000</td>\n",
       "      <td>15.416700</td>\n",
       "      <td>47.916698</td>\n",
       "      <td>101</td>\n",
       "      <td>661.200012</td>\n",
       "      <td>0.420833</td>\n",
       "      <td>5099.380859</td>\n",
       "      <td>21.524664</td>\n",
       "      <td>9.824000</td>\n",
       "      <td>4.583333</td>\n",
       "      <td>660.500000</td>\n",
       "      <td>661.900024</td>\n",
       "      <td>0</td>\n",
       "    </tr>\n",
       "    <tr>\n",
       "      <th>2</th>\n",
       "      <td>3</td>\n",
       "      <td>61549</td>\n",
       "      <td>Butte</td>\n",
       "      <td>Thermalito Union Elementary</td>\n",
       "      <td>KK-08</td>\n",
       "      <td>1550</td>\n",
       "      <td>82.900002</td>\n",
       "      <td>55.032299</td>\n",
       "      <td>76.322601</td>\n",
       "      <td>169</td>\n",
       "      <td>643.599976</td>\n",
       "      <td>0.109032</td>\n",
       "      <td>5501.954590</td>\n",
       "      <td>18.697226</td>\n",
       "      <td>8.978000</td>\n",
       "      <td>30.000002</td>\n",
       "      <td>636.299988</td>\n",
       "      <td>650.900024</td>\n",
       "      <td>1</td>\n",
       "    </tr>\n",
       "    <tr>\n",
       "      <th>3</th>\n",
       "      <td>4</td>\n",
       "      <td>61457</td>\n",
       "      <td>Butte</td>\n",
       "      <td>Golden Feather Union Elementary</td>\n",
       "      <td>KK-08</td>\n",
       "      <td>243</td>\n",
       "      <td>14.000000</td>\n",
       "      <td>36.475399</td>\n",
       "      <td>77.049202</td>\n",
       "      <td>85</td>\n",
       "      <td>647.700012</td>\n",
       "      <td>0.349794</td>\n",
       "      <td>7101.831055</td>\n",
       "      <td>17.357143</td>\n",
       "      <td>8.978000</td>\n",
       "      <td>0.000000</td>\n",
       "      <td>651.900024</td>\n",
       "      <td>643.500000</td>\n",
       "      <td>1</td>\n",
       "    </tr>\n",
       "    <tr>\n",
       "      <th>4</th>\n",
       "      <td>5</td>\n",
       "      <td>61523</td>\n",
       "      <td>Butte</td>\n",
       "      <td>Palermo Union Elementary</td>\n",
       "      <td>KK-08</td>\n",
       "      <td>1335</td>\n",
       "      <td>71.500000</td>\n",
       "      <td>33.108601</td>\n",
       "      <td>78.427002</td>\n",
       "      <td>171</td>\n",
       "      <td>640.849976</td>\n",
       "      <td>0.128090</td>\n",
       "      <td>5235.987793</td>\n",
       "      <td>18.671329</td>\n",
       "      <td>9.080333</td>\n",
       "      <td>13.857677</td>\n",
       "      <td>641.799988</td>\n",
       "      <td>639.900024</td>\n",
       "      <td>1</td>\n",
       "    </tr>\n",
       "  </tbody>\n",
       "</table>\n",
       "</div>"
      ],
      "text/plain": [
       "   Observation Number  dist_cod   county                         district  \\\n",
       "0                   1     75119  Alameda               Sunol Glen Unified   \n",
       "1                   2     61499    Butte             Manzanita Elementary   \n",
       "2                   3     61549    Butte      Thermalito Union Elementary   \n",
       "3                   4     61457    Butte  Golden Feather Union Elementary   \n",
       "4                   5     61523    Butte         Palermo Union Elementary   \n",
       "\n",
       "  gr_span  enrl_tot   teachers   calw_pct   meal_pct  computer     testscr  \\\n",
       "0   KK-08       195  10.900000   0.510200   2.040800        67  690.799988   \n",
       "1   KK-08       240  11.150000  15.416700  47.916698       101  661.200012   \n",
       "2   KK-08      1550  82.900002  55.032299  76.322601       169  643.599976   \n",
       "3   KK-08       243  14.000000  36.475399  77.049202        85  647.700012   \n",
       "4   KK-08      1335  71.500000  33.108601  78.427002       171  640.849976   \n",
       "\n",
       "   comp_stu     expn_stu        str     avginc     el_pct    read_scr  \\\n",
       "0  0.343590  6384.911133  17.889910  22.690001   0.000000  691.599976   \n",
       "1  0.420833  5099.380859  21.524664   9.824000   4.583333  660.500000   \n",
       "2  0.109032  5501.954590  18.697226   8.978000  30.000002  636.299988   \n",
       "3  0.349794  7101.831055  17.357143   8.978000   0.000000  651.900024   \n",
       "4  0.128090  5235.987793  18.671329   9.080333  13.857677  641.799988   \n",
       "\n",
       "     math_scr  D  \n",
       "0  690.000000  1  \n",
       "1  661.900024  0  \n",
       "2  650.900024  1  \n",
       "3  643.500000  1  \n",
       "4  639.900024  1  "
      ]
     },
     "execution_count": 12,
     "metadata": {},
     "output_type": "execute_result"
    }
   ],
   "source": [
    "df['D'] = (df['str'] < 20).astype(int)\n",
    "df.head()"
   ]
  },
  {
   "cell_type": "code",
   "execution_count": 13,
   "id": "66974a87-1203-492a-8619-7daebf94246f",
   "metadata": {},
   "outputs": [
    {
     "data": {
      "text/html": [
       "<table class=\"simpletable\">\n",
       "<caption>OLS Regression Results</caption>\n",
       "<tr>\n",
       "  <th>Dep. Variable:</th>         <td>testscr</td>     <th>  R-squared:         </th> <td>   0.037</td>\n",
       "</tr>\n",
       "<tr>\n",
       "  <th>Model:</th>                   <td>OLS</td>       <th>  Adj. R-squared:    </th> <td>   0.035</td>\n",
       "</tr>\n",
       "<tr>\n",
       "  <th>Method:</th>             <td>Least Squares</td>  <th>  F-statistic:       </th> <td>   16.34</td>\n",
       "</tr>\n",
       "<tr>\n",
       "  <th>Date:</th>             <td>Tue, 09 Jul 2024</td> <th>  Prob (F-statistic):</th> <td>6.29e-05</td>\n",
       "</tr>\n",
       "<tr>\n",
       "  <th>Time:</th>                 <td>13:02:22</td>     <th>  Log-Likelihood:    </th> <td> -1825.4</td>\n",
       "</tr>\n",
       "<tr>\n",
       "  <th>No. Observations:</th>      <td>   420</td>      <th>  AIC:               </th> <td>   3655.</td>\n",
       "</tr>\n",
       "<tr>\n",
       "  <th>Df Residuals:</th>          <td>   418</td>      <th>  BIC:               </th> <td>   3663.</td>\n",
       "</tr>\n",
       "<tr>\n",
       "  <th>Df Model:</th>              <td>     1</td>      <th>                     </th>     <td> </td>   \n",
       "</tr>\n",
       "<tr>\n",
       "  <th>Covariance Type:</th>         <td>HC2</td>       <th>                     </th>     <td> </td>   \n",
       "</tr>\n",
       "</table>\n",
       "<table class=\"simpletable\">\n",
       "<tr>\n",
       "      <td></td>         <th>coef</th>     <th>std err</th>      <th>z</th>      <th>P>|z|</th>  <th>[0.025</th>    <th>0.975]</th>  \n",
       "</tr>\n",
       "<tr>\n",
       "  <th>Intercept</th> <td>  649.9788</td> <td>    1.323</td> <td>  491.151</td> <td> 0.000</td> <td>  647.385</td> <td>  652.573</td>\n",
       "</tr>\n",
       "<tr>\n",
       "  <th>D</th>         <td>    7.3724</td> <td>    1.824</td> <td>    4.043</td> <td> 0.000</td> <td>    3.798</td> <td>   10.947</td>\n",
       "</tr>\n",
       "</table>\n",
       "<table class=\"simpletable\">\n",
       "<tr>\n",
       "  <th>Omnibus:</th>       <td> 3.061</td> <th>  Durbin-Watson:     </th> <td>   0.110</td>\n",
       "</tr>\n",
       "<tr>\n",
       "  <th>Prob(Omnibus):</th> <td> 0.216</td> <th>  Jarque-Bera (JB):  </th> <td>   2.448</td>\n",
       "</tr>\n",
       "<tr>\n",
       "  <th>Skew:</th>          <td> 0.052</td> <th>  Prob(JB):          </th> <td>   0.294</td>\n",
       "</tr>\n",
       "<tr>\n",
       "  <th>Kurtosis:</th>      <td> 2.641</td> <th>  Cond. No.          </th> <td>    2.81</td>\n",
       "</tr>\n",
       "</table><br/><br/>Notes:<br/>[1] Standard Errors are heteroscedasticity robust (HC2)"
      ],
      "text/latex": [
       "\\begin{center}\n",
       "\\begin{tabular}{lclc}\n",
       "\\toprule\n",
       "\\textbf{Dep. Variable:}    &     testscr      & \\textbf{  R-squared:         } &     0.037   \\\\\n",
       "\\textbf{Model:}            &       OLS        & \\textbf{  Adj. R-squared:    } &     0.035   \\\\\n",
       "\\textbf{Method:}           &  Least Squares   & \\textbf{  F-statistic:       } &     16.34   \\\\\n",
       "\\textbf{Date:}             & Tue, 09 Jul 2024 & \\textbf{  Prob (F-statistic):} &  6.29e-05   \\\\\n",
       "\\textbf{Time:}             &     13:02:22     & \\textbf{  Log-Likelihood:    } &   -1825.4   \\\\\n",
       "\\textbf{No. Observations:} &         420      & \\textbf{  AIC:               } &     3655.   \\\\\n",
       "\\textbf{Df Residuals:}     &         418      & \\textbf{  BIC:               } &     3663.   \\\\\n",
       "\\textbf{Df Model:}         &           1      & \\textbf{                     } &             \\\\\n",
       "\\textbf{Covariance Type:}  &       HC2        & \\textbf{                     } &             \\\\\n",
       "\\bottomrule\n",
       "\\end{tabular}\n",
       "\\begin{tabular}{lcccccc}\n",
       "                   & \\textbf{coef} & \\textbf{std err} & \\textbf{z} & \\textbf{P$> |$z$|$} & \\textbf{[0.025} & \\textbf{0.975]}  \\\\\n",
       "\\midrule\n",
       "\\textbf{Intercept} &     649.9788  &        1.323     &   491.151  &         0.000        &      647.385    &      652.573     \\\\\n",
       "\\textbf{D}         &       7.3724  &        1.824     &     4.043  &         0.000        &        3.798    &       10.947     \\\\\n",
       "\\bottomrule\n",
       "\\end{tabular}\n",
       "\\begin{tabular}{lclc}\n",
       "\\textbf{Omnibus:}       &  3.061 & \\textbf{  Durbin-Watson:     } &    0.110  \\\\\n",
       "\\textbf{Prob(Omnibus):} &  0.216 & \\textbf{  Jarque-Bera (JB):  } &    2.448  \\\\\n",
       "\\textbf{Skew:}          &  0.052 & \\textbf{  Prob(JB):          } &    0.294  \\\\\n",
       "\\textbf{Kurtosis:}      &  2.641 & \\textbf{  Cond. No.          } &     2.81  \\\\\n",
       "\\bottomrule\n",
       "\\end{tabular}\n",
       "%\\caption{OLS Regression Results}\n",
       "\\end{center}\n",
       "\n",
       "Notes: \\newline\n",
       " [1] Standard Errors are heteroscedasticity robust (HC2)"
      ],
      "text/plain": [
       "<class 'statsmodels.iolib.summary.Summary'>\n",
       "\"\"\"\n",
       "                            OLS Regression Results                            \n",
       "==============================================================================\n",
       "Dep. Variable:                testscr   R-squared:                       0.037\n",
       "Model:                            OLS   Adj. R-squared:                  0.035\n",
       "Method:                 Least Squares   F-statistic:                     16.34\n",
       "Date:                Tue, 09 Jul 2024   Prob (F-statistic):           6.29e-05\n",
       "Time:                        13:02:22   Log-Likelihood:                -1825.4\n",
       "No. Observations:                 420   AIC:                             3655.\n",
       "Df Residuals:                     418   BIC:                             3663.\n",
       "Df Model:                           1                                         \n",
       "Covariance Type:                  HC2                                         \n",
       "==============================================================================\n",
       "                 coef    std err          z      P>|z|      [0.025      0.975]\n",
       "------------------------------------------------------------------------------\n",
       "Intercept    649.9788      1.323    491.151      0.000     647.385     652.573\n",
       "D              7.3724      1.824      4.043      0.000       3.798      10.947\n",
       "==============================================================================\n",
       "Omnibus:                        3.061   Durbin-Watson:                   0.110\n",
       "Prob(Omnibus):                  0.216   Jarque-Bera (JB):                2.448\n",
       "Skew:                           0.052   Prob(JB):                        0.294\n",
       "Kurtosis:                       2.641   Cond. No.                         2.81\n",
       "==============================================================================\n",
       "\n",
       "Notes:\n",
       "[1] Standard Errors are heteroscedasticity robust (HC2)\n",
       "\"\"\""
      ]
     },
     "execution_count": 13,
     "metadata": {},
     "output_type": "execute_result"
    }
   ],
   "source": [
    "model2 = smf.ols('testscr ~ D', data=df).fit(cov_type='HC2')\n",
    "model2.summary()"
   ]
  },
  {
   "cell_type": "code",
   "execution_count": 14,
   "id": "052ebbc9-874a-4fc0-90b0-9257f1fce8d0",
   "metadata": {},
   "outputs": [
    {
     "data": {
      "text/plain": [
       "18.721328714828324"
      ]
     },
     "execution_count": 14,
     "metadata": {},
     "output_type": "execute_result"
    }
   ],
   "source": [
    "SER = math.sqrt(model2.ssr/(model2.nobs-2))\n",
    "SER"
   ]
  },
  {
   "cell_type": "markdown",
   "id": "f4b47f24-5cfd-4199-9da8-bc29f723045c",
   "metadata": {},
   "source": [
    "the average test score for the subsample with student–teacher ratios greater than or equal to 20 (\n",
    "D = 0) is 650.0,  \n",
    "the average test score for the subsample with student–teacher\n",
    "ratios less than 20 (D = 1) is 650.0 + 7.4 = 657.4.  \n",
    "The difference between the sample average test scores for the two groups is 7.4. This is the OLS estimate of $\\beta_1$"
   ]
  },
  {
   "cell_type": "markdown",
   "id": "c0934060-c611-4bc9-80ba-ad4ec8512cf9",
   "metadata": {},
   "source": [
    "t statistic for $ \\beta_1 $ is 4.04 with p value = 0  \n",
    "the hypothesis that the population mean test scores in districts with high and low student–teacher\n",
    "ratios are the same can be rejected at the 5% significance level."
   ]
  },
  {
   "cell_type": "code",
   "execution_count": 15,
   "id": "e4346a63-4a6d-4a53-820a-0f2392ad1240",
   "metadata": {},
   "outputs": [
    {
     "data": {
      "text/html": [
       "<div>\n",
       "<style scoped>\n",
       "    .dataframe tbody tr th:only-of-type {\n",
       "        vertical-align: middle;\n",
       "    }\n",
       "\n",
       "    .dataframe tbody tr th {\n",
       "        vertical-align: top;\n",
       "    }\n",
       "\n",
       "    .dataframe thead th {\n",
       "        text-align: right;\n",
       "    }\n",
       "</style>\n",
       "<table border=\"1\" class=\"dataframe\">\n",
       "  <thead>\n",
       "    <tr style=\"text-align: right;\">\n",
       "      <th></th>\n",
       "      <th>0</th>\n",
       "      <th>1</th>\n",
       "    </tr>\n",
       "  </thead>\n",
       "  <tbody>\n",
       "    <tr>\n",
       "      <th>Intercept</th>\n",
       "      <td>647.385073</td>\n",
       "      <td>652.572625</td>\n",
       "    </tr>\n",
       "    <tr>\n",
       "      <th>D</th>\n",
       "      <td>3.798046</td>\n",
       "      <td>10.946774</td>\n",
       "    </tr>\n",
       "  </tbody>\n",
       "</table>\n",
       "</div>"
      ],
      "text/plain": [
       "                    0           1\n",
       "Intercept  647.385073  652.572625\n",
       "D            3.798046   10.946774"
      ]
     },
     "execution_count": 15,
     "metadata": {},
     "output_type": "execute_result"
    }
   ],
   "source": [
    "model2.conf_int()"
   ]
  },
  {
   "cell_type": "markdown",
   "id": "f1d30600-aec9-4ea1-bc18-936881049c7b",
   "metadata": {},
   "source": [
    " Confidence interval excludes $\\beta_1 $ = 0, so that the hypothesis $\\beta_1 $ = 0 can be rejected at the 5% significance level."
   ]
  },
  {
   "cell_type": "markdown",
   "id": "e7c17828-9c92-4438-8de5-f681ca407c90",
   "metadata": {},
   "source": [
    "## Heteroskedasticity and Homoskedasticity"
   ]
  },
  {
   "cell_type": "markdown",
   "id": "ccbb82d0-1522-44e9-a976-dac014dda331",
   "metadata": {},
   "source": [
    "Always use heteroskedasticity-robust standard errors"
   ]
  },
  {
   "cell_type": "markdown",
   "id": "c1301752-0e8a-411c-b8a8-cf952cc804a4",
   "metadata": {},
   "source": [
    "## Key Concepts"
   ]
  },
  {
   "cell_type": "markdown",
   "id": "394fda68-55d1-4961-bb54-8821cfe6135d",
   "metadata": {},
   "source": [
    "### 1. General Form of the t-Statistic"
   ]
  },
  {
   "cell_type": "markdown",
   "id": "e393b647-b1f9-4030-9570-f6a1885008ba",
   "metadata": {},
   "source": [
    "$$\n",
    "t = \\frac{\\text{estimator} - \\text{hypothesized value}}{\\text{standard error of the estimator}}\n",
    "$$"
   ]
  },
  {
   "cell_type": "markdown",
   "id": "c86f88f2-b8eb-49f4-9127-d03d28f74224",
   "metadata": {},
   "source": [
    "### 2. Testing the Hypothesis  $ \\beta_1 = \\beta_{1,0} $  \n",
    "### Against the Alternative $ \\beta_1 \\neq \\beta_{1,0} $\n"
   ]
  },
  {
   "cell_type": "markdown",
   "id": "8cd7ad83-684b-47b3-9af4-e1184639e403",
   "metadata": {},
   "source": [
    "1. Compute the standard error of $ \\beta_1$ ,  $SE(\\beta_1)$  \n",
    "2. Compute the t-statistic \n",
    "3. Compute the p-value $ \\text{p-value} = \\Pr \\left( |Z| > |t_{\\text{act}}| \\right) = 2\\Phi \\left( -|t_{\\text{act}}| \\right)$\n",
    "\n",
    "Reject the hypothesis at the 5% significance level if the p-value is less than 0.05 or, equivalently, if | $t_{act} $| > 1.96."
   ]
  },
  {
   "cell_type": "markdown",
   "id": "b30fa69c-83df-4d98-a5bb-3c1da173260e",
   "metadata": {},
   "source": [
    "### 3. Confidence Interval"
   ]
  },
  {
   "cell_type": "markdown",
   "id": "225abc96-96b9-4971-abe3-4db5529760e4",
   "metadata": {},
   "source": [
    "A 95% two-sided confidence interval for $ \\beta_1 $ is an interval that contains the true\n",
    "value of $ \\beta_1 $ with a 95% probability;   \n",
    "that is, it contains the true value of $ \\beta_1 $ in 95%\n",
    "of all possible randomly drawn samples.   \n",
    "Equivalently, it is the set of values of $ \\beta_1 $\n",
    "that cannot be rejected by a 5% two-sided hypothesis test.   \n",
    "When the sample size\n",
    "is large, it is constructed as\n",
    "95% confidence interval for $\\beta_1 = \\hat{\\beta_1} \\pm 1.96 \\times \\text{SE}(\\hat{\\beta}_1) $"
   ]
  },
  {
   "cell_type": "markdown",
   "id": "dd0505ce-a64d-448d-b5d4-d956cdd0b2c5",
   "metadata": {},
   "source": [
    "### 4. Heteroskedasticity and Homoskedasticity"
   ]
  },
  {
   "cell_type": "markdown",
   "id": "140c6df4-4cd3-4302-8a7b-c5c5aaf35993",
   "metadata": {},
   "source": [
    "\n",
    "The error term $ u_i $  is homoskedastic if the variance of the conditional distribution of $ u_i $ given  $ X_i $   \n",
    "$ \\text{ var}(u_i \\mid X_i = x) $, is constant for  $ i = 1, \\ldots, n $  and in particular does\n",
    "not depend on  $ x $.  Otherwise, the error term is heteroskedastic."
   ]
  },
  {
   "cell_type": "markdown",
   "id": "59d1d933-081e-44b8-95e2-fdd843387952",
   "metadata": {},
   "source": [
    "## Exercises"
   ]
  },
  {
   "cell_type": "markdown",
   "id": "512d6c43-5a06-42a2-b259-462111eae082",
   "metadata": {},
   "source": [
    "🚧 Under Construction"
   ]
  }
 ],
 "metadata": {
  "kernelspec": {
   "display_name": "Python 3 (ipykernel)",
   "language": "python",
   "name": "python3"
  },
  "language_info": {
   "codemirror_mode": {
    "name": "ipython",
    "version": 3
   },
   "file_extension": ".py",
   "mimetype": "text/x-python",
   "name": "python",
   "nbconvert_exporter": "python",
   "pygments_lexer": "ipython3",
   "version": "3.12.4"
  }
 },
 "nbformat": 4,
 "nbformat_minor": 5
}
