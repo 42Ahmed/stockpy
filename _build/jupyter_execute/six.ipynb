{
 "cells": [
  {
   "cell_type": "markdown",
   "id": "9311af5c-ff4f-43b6-956b-9d001b7777a2",
   "metadata": {},
   "source": [
    "# 6. Linear Regression with Multiple Regressors"
   ]
  },
  {
   "cell_type": "code",
   "execution_count": 1,
   "id": "367f91df-cfa6-456f-9128-e6ae1011eb34",
   "metadata": {},
   "outputs": [],
   "source": [
    "import pandas as pd\n",
    "import numpy as np\n",
    "import statsmodels.api as sm\n",
    "import statsmodels.formula.api as smf\n",
    "import matplotlib.pyplot as plt\n",
    "import seaborn as sns\n",
    "import math"
   ]
  },
  {
   "cell_type": "code",
   "execution_count": 2,
   "id": "2decdcbb-6844-45c0-bad7-20aa5051475a",
   "metadata": {},
   "outputs": [
    {
     "name": "stderr",
     "output_type": "stream",
     "text": [
      "F:\\miniconda3\\envs\\py\\Lib\\site-packages\\openpyxl\\worksheet\\_reader.py:329: UserWarning: Unknown extension is not supported and will be removed\n",
      "  warn(msg)\n"
     ]
    },
    {
     "data": {
      "text/html": [
       "<div>\n",
       "<style scoped>\n",
       "    .dataframe tbody tr th:only-of-type {\n",
       "        vertical-align: middle;\n",
       "    }\n",
       "\n",
       "    .dataframe tbody tr th {\n",
       "        vertical-align: top;\n",
       "    }\n",
       "\n",
       "    .dataframe thead th {\n",
       "        text-align: right;\n",
       "    }\n",
       "</style>\n",
       "<table border=\"1\" class=\"dataframe\">\n",
       "  <thead>\n",
       "    <tr style=\"text-align: right;\">\n",
       "      <th></th>\n",
       "      <th>Observation Number</th>\n",
       "      <th>dist_cod</th>\n",
       "      <th>county</th>\n",
       "      <th>district</th>\n",
       "      <th>gr_span</th>\n",
       "      <th>enrl_tot</th>\n",
       "      <th>teachers</th>\n",
       "      <th>calw_pct</th>\n",
       "      <th>meal_pct</th>\n",
       "      <th>computer</th>\n",
       "      <th>testscr</th>\n",
       "      <th>comp_stu</th>\n",
       "      <th>expn_stu</th>\n",
       "      <th>str</th>\n",
       "      <th>avginc</th>\n",
       "      <th>el_pct</th>\n",
       "      <th>read_scr</th>\n",
       "      <th>math_scr</th>\n",
       "    </tr>\n",
       "  </thead>\n",
       "  <tbody>\n",
       "    <tr>\n",
       "      <th>0</th>\n",
       "      <td>1</td>\n",
       "      <td>75119</td>\n",
       "      <td>Alameda</td>\n",
       "      <td>Sunol Glen Unified</td>\n",
       "      <td>KK-08</td>\n",
       "      <td>195</td>\n",
       "      <td>10.900000</td>\n",
       "      <td>0.510200</td>\n",
       "      <td>2.040800</td>\n",
       "      <td>67</td>\n",
       "      <td>690.799988</td>\n",
       "      <td>0.343590</td>\n",
       "      <td>6384.911133</td>\n",
       "      <td>17.889910</td>\n",
       "      <td>22.690001</td>\n",
       "      <td>0.000000</td>\n",
       "      <td>691.599976</td>\n",
       "      <td>690.000000</td>\n",
       "    </tr>\n",
       "    <tr>\n",
       "      <th>1</th>\n",
       "      <td>2</td>\n",
       "      <td>61499</td>\n",
       "      <td>Butte</td>\n",
       "      <td>Manzanita Elementary</td>\n",
       "      <td>KK-08</td>\n",
       "      <td>240</td>\n",
       "      <td>11.150000</td>\n",
       "      <td>15.416700</td>\n",
       "      <td>47.916698</td>\n",
       "      <td>101</td>\n",
       "      <td>661.200012</td>\n",
       "      <td>0.420833</td>\n",
       "      <td>5099.380859</td>\n",
       "      <td>21.524664</td>\n",
       "      <td>9.824000</td>\n",
       "      <td>4.583333</td>\n",
       "      <td>660.500000</td>\n",
       "      <td>661.900024</td>\n",
       "    </tr>\n",
       "    <tr>\n",
       "      <th>2</th>\n",
       "      <td>3</td>\n",
       "      <td>61549</td>\n",
       "      <td>Butte</td>\n",
       "      <td>Thermalito Union Elementary</td>\n",
       "      <td>KK-08</td>\n",
       "      <td>1550</td>\n",
       "      <td>82.900002</td>\n",
       "      <td>55.032299</td>\n",
       "      <td>76.322601</td>\n",
       "      <td>169</td>\n",
       "      <td>643.599976</td>\n",
       "      <td>0.109032</td>\n",
       "      <td>5501.954590</td>\n",
       "      <td>18.697226</td>\n",
       "      <td>8.978000</td>\n",
       "      <td>30.000002</td>\n",
       "      <td>636.299988</td>\n",
       "      <td>650.900024</td>\n",
       "    </tr>\n",
       "    <tr>\n",
       "      <th>3</th>\n",
       "      <td>4</td>\n",
       "      <td>61457</td>\n",
       "      <td>Butte</td>\n",
       "      <td>Golden Feather Union Elementary</td>\n",
       "      <td>KK-08</td>\n",
       "      <td>243</td>\n",
       "      <td>14.000000</td>\n",
       "      <td>36.475399</td>\n",
       "      <td>77.049202</td>\n",
       "      <td>85</td>\n",
       "      <td>647.700012</td>\n",
       "      <td>0.349794</td>\n",
       "      <td>7101.831055</td>\n",
       "      <td>17.357143</td>\n",
       "      <td>8.978000</td>\n",
       "      <td>0.000000</td>\n",
       "      <td>651.900024</td>\n",
       "      <td>643.500000</td>\n",
       "    </tr>\n",
       "    <tr>\n",
       "      <th>4</th>\n",
       "      <td>5</td>\n",
       "      <td>61523</td>\n",
       "      <td>Butte</td>\n",
       "      <td>Palermo Union Elementary</td>\n",
       "      <td>KK-08</td>\n",
       "      <td>1335</td>\n",
       "      <td>71.500000</td>\n",
       "      <td>33.108601</td>\n",
       "      <td>78.427002</td>\n",
       "      <td>171</td>\n",
       "      <td>640.849976</td>\n",
       "      <td>0.128090</td>\n",
       "      <td>5235.987793</td>\n",
       "      <td>18.671329</td>\n",
       "      <td>9.080333</td>\n",
       "      <td>13.857677</td>\n",
       "      <td>641.799988</td>\n",
       "      <td>639.900024</td>\n",
       "    </tr>\n",
       "  </tbody>\n",
       "</table>\n",
       "</div>"
      ],
      "text/plain": [
       "   Observation Number  dist_cod   county                         district  \\\n",
       "0                   1     75119  Alameda               Sunol Glen Unified   \n",
       "1                   2     61499    Butte             Manzanita Elementary   \n",
       "2                   3     61549    Butte      Thermalito Union Elementary   \n",
       "3                   4     61457    Butte  Golden Feather Union Elementary   \n",
       "4                   5     61523    Butte         Palermo Union Elementary   \n",
       "\n",
       "  gr_span  enrl_tot   teachers   calw_pct   meal_pct  computer     testscr  \\\n",
       "0   KK-08       195  10.900000   0.510200   2.040800        67  690.799988   \n",
       "1   KK-08       240  11.150000  15.416700  47.916698       101  661.200012   \n",
       "2   KK-08      1550  82.900002  55.032299  76.322601       169  643.599976   \n",
       "3   KK-08       243  14.000000  36.475399  77.049202        85  647.700012   \n",
       "4   KK-08      1335  71.500000  33.108601  78.427002       171  640.849976   \n",
       "\n",
       "   comp_stu     expn_stu        str     avginc     el_pct    read_scr  \\\n",
       "0  0.343590  6384.911133  17.889910  22.690001   0.000000  691.599976   \n",
       "1  0.420833  5099.380859  21.524664   9.824000   4.583333  660.500000   \n",
       "2  0.109032  5501.954590  18.697226   8.978000  30.000002  636.299988   \n",
       "3  0.349794  7101.831055  17.357143   8.978000   0.000000  651.900024   \n",
       "4  0.128090  5235.987793  18.671329   9.080333  13.857677  641.799988   \n",
       "\n",
       "     math_scr  \n",
       "0  690.000000  \n",
       "1  661.900024  \n",
       "2  650.900024  \n",
       "3  643.500000  \n",
       "4  639.900024  "
      ]
     },
     "execution_count": 2,
     "metadata": {},
     "output_type": "execute_result"
    }
   ],
   "source": [
    "df = pd.read_excel(\"data/replication/Replication Data/caschool.xlsx\")\n",
    "df.head()"
   ]
  },
  {
   "cell_type": "markdown",
   "id": "2d6ae811-b9aa-45b7-870c-feee8c8f3e16",
   "metadata": {},
   "source": [
    "## Omitted Variable Bias"
   ]
  },
  {
   "cell_type": "code",
   "execution_count": 3,
   "id": "a3cf8a6b-4a5e-4af0-92d8-d5e1d9cc8190",
   "metadata": {},
   "outputs": [
    {
     "data": {
      "text/plain": [
       "Index(['Observation Number', 'dist_cod', 'county', 'district', 'gr_span',\n",
       "       'enrl_tot', 'teachers', 'calw_pct', 'meal_pct', 'computer', 'testscr',\n",
       "       'comp_stu', 'expn_stu', 'str', 'avginc', 'el_pct', 'read_scr',\n",
       "       'math_scr'],\n",
       "      dtype='object')"
      ]
     },
     "execution_count": 3,
     "metadata": {},
     "output_type": "execute_result"
    }
   ],
   "source": [
    "df.columns"
   ]
  },
  {
   "cell_type": "markdown",
   "id": "98484761-0eed-442e-b8f4-ed44743861b6",
   "metadata": {},
   "source": [
    "Students who are still learning English might perform worse on standardized tests than\n",
    "native English speakers."
   ]
  },
  {
   "cell_type": "code",
   "execution_count": 4,
   "id": "229c440d-cac4-4370-89da-b3051a358e3d",
   "metadata": {},
   "outputs": [
    {
     "data": {
      "text/plain": [
       "np.float64(0.18764236785449276)"
      ]
     },
     "execution_count": 4,
     "metadata": {},
     "output_type": "execute_result"
    }
   ],
   "source": [
    "df['str'].corr(df[\"el_pct\"])"
   ]
  },
  {
   "cell_type": "code",
   "execution_count": 5,
   "id": "899e9929-1c9c-4912-87bf-1b9a207f868f",
   "metadata": {},
   "outputs": [
    {
     "data": {
      "text/plain": [
       "<Axes: xlabel='str', ylabel='el_pct'>"
      ]
     },
     "execution_count": 5,
     "metadata": {},
     "output_type": "execute_result"
    },
    {
     "data": {
      "image/png": "[encoded data removed]",
      "text/plain": [
       "<Figure size 640x480 with 1 Axes>"
      ]
     },
     "metadata": {},
     "output_type": "display_data"
    }
   ],
   "source": [
    "df.plot('str','el_pct', kind = 'scatter')"
   ]
  },
  {
   "cell_type": "markdown",
   "id": "2f03abb4-2054-455e-aa32-d57004332651",
   "metadata": {},
   "source": [
    "This small but positive correlation suggests that districts with more\n",
    "English learners tend to have a higher student–teacher ratio (larger classes)"
   ]
  },
  {
   "cell_type": "markdown",
   "id": "e67ea7ab-d12a-41c4-a0df-23183b3e316d",
   "metadata": {},
   "source": [
    "It is plausible that students who are still learning English will do\n",
    "worse on standardized tests than native English speakers"
   ]
  },
  {
   "cell_type": "markdown",
   "id": "ae2cc5c9-f09d-450a-abf5-9fe8b5107a7b",
   "metadata": {},
   "source": [
    "**Percentage of English learners**: \n",
    "correlated with student teacher ratio ✅  \n",
    "determinant of test score ✅  \n",
    "$ \\therefore$ omitting it leads to ommited variable bias"
   ]
  },
  {
   "cell_type": "markdown",
   "id": "128b623e-fb59-4123-ac3b-f6a65d80a27c",
   "metadata": {},
   "source": [
    "**Time of day of the test**:   \n",
    "uncorrelated with student teacher ratio ❌  \n",
    "determinant of test score ✅    \n",
    "$ \\therefore$ omitting it does not lead to ommited variable bias"
   ]
  },
  {
   "cell_type": "markdown",
   "id": "4de18253-339e-4dea-b9f3-b5e83397e55b",
   "metadata": {},
   "source": [
    "**Parking lot space per pupil**: \n",
    "(the area of the teacher parking lot divided by the number of students)  \n",
    "  \n",
    "correlated with student teacher ratio ✅  \n",
    "determinant of test score ❌  \n",
    "$ \\therefore$ omitting it does not lead to ommited variable bias"
   ]
  },
  {
   "cell_type": "code",
   "execution_count": 6,
   "id": "36f4797a-abfe-4a39-9602-beebe29cf68a",
   "metadata": {},
   "outputs": [
    {
     "data": {
      "text/plain": [
       "0       0.000000\n",
       "1       4.583333\n",
       "2      30.000002\n",
       "3       0.000000\n",
       "4      13.857677\n",
       "         ...    \n",
       "415     5.995935\n",
       "416     4.726101\n",
       "417    24.263039\n",
       "418     2.970297\n",
       "419     5.005624\n",
       "Name: el_pct, Length: 420, dtype: float64"
      ]
     },
     "execution_count": 6,
     "metadata": {},
     "output_type": "execute_result"
    }
   ],
   "source": [
    "df['el_pct']"
   ]
  },
  {
   "cell_type": "markdown",
   "id": "3ee346c3-a723-40f0-a548-1729fce79398",
   "metadata": {},
   "source": [
    "### Addressing ommited variable bias by dividing data into groups"
   ]
  },
  {
   "cell_type": "code",
   "execution_count": 7,
   "id": "ccc04e1d-5e59-48a4-a46b-8b0f5c50317f",
   "metadata": {},
   "outputs": [
    {
     "data": {
      "text/html": [
       "<div>\n",
       "<style scoped>\n",
       "    .dataframe tbody tr th:only-of-type {\n",
       "        vertical-align: middle;\n",
       "    }\n",
       "\n",
       "    .dataframe tbody tr th {\n",
       "        vertical-align: top;\n",
       "    }\n",
       "\n",
       "    .dataframe thead th {\n",
       "        text-align: right;\n",
       "    }\n",
       "</style>\n",
       "<table border=\"1\" class=\"dataframe\">\n",
       "  <thead>\n",
       "    <tr style=\"text-align: right;\">\n",
       "      <th></th>\n",
       "      <th>Observation Number</th>\n",
       "      <th>dist_cod</th>\n",
       "      <th>county</th>\n",
       "      <th>district</th>\n",
       "      <th>gr_span</th>\n",
       "      <th>enrl_tot</th>\n",
       "      <th>teachers</th>\n",
       "      <th>calw_pct</th>\n",
       "      <th>meal_pct</th>\n",
       "      <th>computer</th>\n",
       "      <th>testscr</th>\n",
       "      <th>comp_stu</th>\n",
       "      <th>expn_stu</th>\n",
       "      <th>str</th>\n",
       "      <th>avginc</th>\n",
       "      <th>el_pct</th>\n",
       "      <th>read_scr</th>\n",
       "      <th>math_scr</th>\n",
       "      <th>el_pct_category</th>\n",
       "    </tr>\n",
       "  </thead>\n",
       "  <tbody>\n",
       "    <tr>\n",
       "      <th>0</th>\n",
       "      <td>1</td>\n",
       "      <td>75119</td>\n",
       "      <td>Alameda</td>\n",
       "      <td>Sunol Glen Unified</td>\n",
       "      <td>KK-08</td>\n",
       "      <td>195</td>\n",
       "      <td>10.900000</td>\n",
       "      <td>0.510200</td>\n",
       "      <td>2.040800</td>\n",
       "      <td>67</td>\n",
       "      <td>690.799988</td>\n",
       "      <td>0.343590</td>\n",
       "      <td>6384.911133</td>\n",
       "      <td>17.889910</td>\n",
       "      <td>22.690001</td>\n",
       "      <td>0.000000</td>\n",
       "      <td>691.599976</td>\n",
       "      <td>690.000000</td>\n",
       "      <td>&lt; 1.9</td>\n",
       "    </tr>\n",
       "    <tr>\n",
       "      <th>1</th>\n",
       "      <td>2</td>\n",
       "      <td>61499</td>\n",
       "      <td>Butte</td>\n",
       "      <td>Manzanita Elementary</td>\n",
       "      <td>KK-08</td>\n",
       "      <td>240</td>\n",
       "      <td>11.150000</td>\n",
       "      <td>15.416700</td>\n",
       "      <td>47.916698</td>\n",
       "      <td>101</td>\n",
       "      <td>661.200012</td>\n",
       "      <td>0.420833</td>\n",
       "      <td>5099.380859</td>\n",
       "      <td>21.524664</td>\n",
       "      <td>9.824000</td>\n",
       "      <td>4.583333</td>\n",
       "      <td>660.500000</td>\n",
       "      <td>661.900024</td>\n",
       "      <td>1.9-8.8</td>\n",
       "    </tr>\n",
       "    <tr>\n",
       "      <th>2</th>\n",
       "      <td>3</td>\n",
       "      <td>61549</td>\n",
       "      <td>Butte</td>\n",
       "      <td>Thermalito Union Elementary</td>\n",
       "      <td>KK-08</td>\n",
       "      <td>1550</td>\n",
       "      <td>82.900002</td>\n",
       "      <td>55.032299</td>\n",
       "      <td>76.322601</td>\n",
       "      <td>169</td>\n",
       "      <td>643.599976</td>\n",
       "      <td>0.109032</td>\n",
       "      <td>5501.954590</td>\n",
       "      <td>18.697226</td>\n",
       "      <td>8.978000</td>\n",
       "      <td>30.000002</td>\n",
       "      <td>636.299988</td>\n",
       "      <td>650.900024</td>\n",
       "      <td>&gt; 23</td>\n",
       "    </tr>\n",
       "    <tr>\n",
       "      <th>3</th>\n",
       "      <td>4</td>\n",
       "      <td>61457</td>\n",
       "      <td>Butte</td>\n",
       "      <td>Golden Feather Union Elementary</td>\n",
       "      <td>KK-08</td>\n",
       "      <td>243</td>\n",
       "      <td>14.000000</td>\n",
       "      <td>36.475399</td>\n",
       "      <td>77.049202</td>\n",
       "      <td>85</td>\n",
       "      <td>647.700012</td>\n",
       "      <td>0.349794</td>\n",
       "      <td>7101.831055</td>\n",
       "      <td>17.357143</td>\n",
       "      <td>8.978000</td>\n",
       "      <td>0.000000</td>\n",
       "      <td>651.900024</td>\n",
       "      <td>643.500000</td>\n",
       "      <td>&lt; 1.9</td>\n",
       "    </tr>\n",
       "    <tr>\n",
       "      <th>4</th>\n",
       "      <td>5</td>\n",
       "      <td>61523</td>\n",
       "      <td>Butte</td>\n",
       "      <td>Palermo Union Elementary</td>\n",
       "      <td>KK-08</td>\n",
       "      <td>1335</td>\n",
       "      <td>71.500000</td>\n",
       "      <td>33.108601</td>\n",
       "      <td>78.427002</td>\n",
       "      <td>171</td>\n",
       "      <td>640.849976</td>\n",
       "      <td>0.128090</td>\n",
       "      <td>5235.987793</td>\n",
       "      <td>18.671329</td>\n",
       "      <td>9.080333</td>\n",
       "      <td>13.857677</td>\n",
       "      <td>641.799988</td>\n",
       "      <td>639.900024</td>\n",
       "      <td>8.8-23</td>\n",
       "    </tr>\n",
       "  </tbody>\n",
       "</table>\n",
       "</div>"
      ],
      "text/plain": [
       "   Observation Number  dist_cod   county                         district  \\\n",
       "0                   1     75119  Alameda               Sunol Glen Unified   \n",
       "1                   2     61499    Butte             Manzanita Elementary   \n",
       "2                   3     61549    Butte      Thermalito Union Elementary   \n",
       "3                   4     61457    Butte  Golden Feather Union Elementary   \n",
       "4                   5     61523    Butte         Palermo Union Elementary   \n",
       "\n",
       "  gr_span  enrl_tot   teachers   calw_pct   meal_pct  computer     testscr  \\\n",
       "0   KK-08       195  10.900000   0.510200   2.040800        67  690.799988   \n",
       "1   KK-08       240  11.150000  15.416700  47.916698       101  661.200012   \n",
       "2   KK-08      1550  82.900002  55.032299  76.322601       169  643.599976   \n",
       "3   KK-08       243  14.000000  36.475399  77.049202        85  647.700012   \n",
       "4   KK-08      1335  71.500000  33.108601  78.427002       171  640.849976   \n",
       "\n",
       "   comp_stu     expn_stu        str     avginc     el_pct    read_scr  \\\n",
       "0  0.343590  6384.911133  17.889910  22.690001   0.000000  691.599976   \n",
       "1  0.420833  5099.380859  21.524664   9.824000   4.583333  660.500000   \n",
       "2  0.109032  5501.954590  18.697226   8.978000  30.000002  636.299988   \n",
       "3  0.349794  7101.831055  17.357143   8.978000   0.000000  651.900024   \n",
       "4  0.128090  5235.987793  18.671329   9.080333  13.857677  641.799988   \n",
       "\n",
       "     math_scr el_pct_category  \n",
       "0  690.000000           < 1.9  \n",
       "1  661.900024         1.9-8.8  \n",
       "2  650.900024            > 23  \n",
       "3  643.500000           < 1.9  \n",
       "4  639.900024          8.8-23  "
      ]
     },
     "execution_count": 7,
     "metadata": {},
     "output_type": "execute_result"
    }
   ],
   "source": [
    "bins = [0, 1.9, 8.8, 23, float('inf')]\n",
    "labels = ['< 1.9', '1.9-8.8', '8.8-23', '> 23']\n",
    "\n",
    "df['el_pct_category'] = pd.cut(df['el_pct'], bins=bins, labels=labels, right = False)\n",
    "df.head()"
   ]
  },
  {
   "cell_type": "code",
   "execution_count": 8,
   "id": "60a0a021-75b8-4093-a212-eb2bd56784eb",
   "metadata": {},
   "outputs": [
    {
     "data": {
      "text/html": [
       "<div>\n",
       "<style scoped>\n",
       "    .dataframe tbody tr th:only-of-type {\n",
       "        vertical-align: middle;\n",
       "    }\n",
       "\n",
       "    .dataframe tbody tr th {\n",
       "        vertical-align: top;\n",
       "    }\n",
       "\n",
       "    .dataframe thead th {\n",
       "        text-align: right;\n",
       "    }\n",
       "</style>\n",
       "<table border=\"1\" class=\"dataframe\">\n",
       "  <thead>\n",
       "    <tr style=\"text-align: right;\">\n",
       "      <th></th>\n",
       "      <th>Observation Number</th>\n",
       "      <th>dist_cod</th>\n",
       "      <th>county</th>\n",
       "      <th>district</th>\n",
       "      <th>gr_span</th>\n",
       "      <th>enrl_tot</th>\n",
       "      <th>teachers</th>\n",
       "      <th>calw_pct</th>\n",
       "      <th>meal_pct</th>\n",
       "      <th>computer</th>\n",
       "      <th>testscr</th>\n",
       "      <th>comp_stu</th>\n",
       "      <th>expn_stu</th>\n",
       "      <th>str</th>\n",
       "      <th>avginc</th>\n",
       "      <th>el_pct</th>\n",
       "      <th>read_scr</th>\n",
       "      <th>math_scr</th>\n",
       "      <th>el_pct_category</th>\n",
       "      <th>D</th>\n",
       "    </tr>\n",
       "  </thead>\n",
       "  <tbody>\n",
       "    <tr>\n",
       "      <th>0</th>\n",
       "      <td>1</td>\n",
       "      <td>75119</td>\n",
       "      <td>Alameda</td>\n",
       "      <td>Sunol Glen Unified</td>\n",
       "      <td>KK-08</td>\n",
       "      <td>195</td>\n",
       "      <td>10.900000</td>\n",
       "      <td>0.510200</td>\n",
       "      <td>2.040800</td>\n",
       "      <td>67</td>\n",
       "      <td>690.799988</td>\n",
       "      <td>0.343590</td>\n",
       "      <td>6384.911133</td>\n",
       "      <td>17.889910</td>\n",
       "      <td>22.690001</td>\n",
       "      <td>0.000000</td>\n",
       "      <td>691.599976</td>\n",
       "      <td>690.000000</td>\n",
       "      <td>&lt; 1.9</td>\n",
       "      <td>&lt; 20</td>\n",
       "    </tr>\n",
       "    <tr>\n",
       "      <th>1</th>\n",
       "      <td>2</td>\n",
       "      <td>61499</td>\n",
       "      <td>Butte</td>\n",
       "      <td>Manzanita Elementary</td>\n",
       "      <td>KK-08</td>\n",
       "      <td>240</td>\n",
       "      <td>11.150000</td>\n",
       "      <td>15.416700</td>\n",
       "      <td>47.916698</td>\n",
       "      <td>101</td>\n",
       "      <td>661.200012</td>\n",
       "      <td>0.420833</td>\n",
       "      <td>5099.380859</td>\n",
       "      <td>21.524664</td>\n",
       "      <td>9.824000</td>\n",
       "      <td>4.583333</td>\n",
       "      <td>660.500000</td>\n",
       "      <td>661.900024</td>\n",
       "      <td>1.9-8.8</td>\n",
       "      <td>&gt;= 20</td>\n",
       "    </tr>\n",
       "    <tr>\n",
       "      <th>2</th>\n",
       "      <td>3</td>\n",
       "      <td>61549</td>\n",
       "      <td>Butte</td>\n",
       "      <td>Thermalito Union Elementary</td>\n",
       "      <td>KK-08</td>\n",
       "      <td>1550</td>\n",
       "      <td>82.900002</td>\n",
       "      <td>55.032299</td>\n",
       "      <td>76.322601</td>\n",
       "      <td>169</td>\n",
       "      <td>643.599976</td>\n",
       "      <td>0.109032</td>\n",
       "      <td>5501.954590</td>\n",
       "      <td>18.697226</td>\n",
       "      <td>8.978000</td>\n",
       "      <td>30.000002</td>\n",
       "      <td>636.299988</td>\n",
       "      <td>650.900024</td>\n",
       "      <td>&gt; 23</td>\n",
       "      <td>&lt; 20</td>\n",
       "    </tr>\n",
       "    <tr>\n",
       "      <th>3</th>\n",
       "      <td>4</td>\n",
       "      <td>61457</td>\n",
       "      <td>Butte</td>\n",
       "      <td>Golden Feather Union Elementary</td>\n",
       "      <td>KK-08</td>\n",
       "      <td>243</td>\n",
       "      <td>14.000000</td>\n",
       "      <td>36.475399</td>\n",
       "      <td>77.049202</td>\n",
       "      <td>85</td>\n",
       "      <td>647.700012</td>\n",
       "      <td>0.349794</td>\n",
       "      <td>7101.831055</td>\n",
       "      <td>17.357143</td>\n",
       "      <td>8.978000</td>\n",
       "      <td>0.000000</td>\n",
       "      <td>651.900024</td>\n",
       "      <td>643.500000</td>\n",
       "      <td>&lt; 1.9</td>\n",
       "      <td>&lt; 20</td>\n",
       "    </tr>\n",
       "    <tr>\n",
       "      <th>4</th>\n",
       "      <td>5</td>\n",
       "      <td>61523</td>\n",
       "      <td>Butte</td>\n",
       "      <td>Palermo Union Elementary</td>\n",
       "      <td>KK-08</td>\n",
       "      <td>1335</td>\n",
       "      <td>71.500000</td>\n",
       "      <td>33.108601</td>\n",
       "      <td>78.427002</td>\n",
       "      <td>171</td>\n",
       "      <td>640.849976</td>\n",
       "      <td>0.128090</td>\n",
       "      <td>5235.987793</td>\n",
       "      <td>18.671329</td>\n",
       "      <td>9.080333</td>\n",
       "      <td>13.857677</td>\n",
       "      <td>641.799988</td>\n",
       "      <td>639.900024</td>\n",
       "      <td>8.8-23</td>\n",
       "      <td>&lt; 20</td>\n",
       "    </tr>\n",
       "  </tbody>\n",
       "</table>\n",
       "</div>"
      ],
      "text/plain": [
       "   Observation Number  dist_cod   county                         district  \\\n",
       "0                   1     75119  Alameda               Sunol Glen Unified   \n",
       "1                   2     61499    Butte             Manzanita Elementary   \n",
       "2                   3     61549    Butte      Thermalito Union Elementary   \n",
       "3                   4     61457    Butte  Golden Feather Union Elementary   \n",
       "4                   5     61523    Butte         Palermo Union Elementary   \n",
       "\n",
       "  gr_span  enrl_tot   teachers   calw_pct   meal_pct  computer     testscr  \\\n",
       "0   KK-08       195  10.900000   0.510200   2.040800        67  690.799988   \n",
       "1   KK-08       240  11.150000  15.416700  47.916698       101  661.200012   \n",
       "2   KK-08      1550  82.900002  55.032299  76.322601       169  643.599976   \n",
       "3   KK-08       243  14.000000  36.475399  77.049202        85  647.700012   \n",
       "4   KK-08      1335  71.500000  33.108601  78.427002       171  640.849976   \n",
       "\n",
       "   comp_stu     expn_stu        str     avginc     el_pct    read_scr  \\\n",
       "0  0.343590  6384.911133  17.889910  22.690001   0.000000  691.599976   \n",
       "1  0.420833  5099.380859  21.524664   9.824000   4.583333  660.500000   \n",
       "2  0.109032  5501.954590  18.697226   8.978000  30.000002  636.299988   \n",
       "3  0.349794  7101.831055  17.357143   8.978000   0.000000  651.900024   \n",
       "4  0.128090  5235.987793  18.671329   9.080333  13.857677  641.799988   \n",
       "\n",
       "     math_scr el_pct_category      D  \n",
       "0  690.000000           < 1.9   < 20  \n",
       "1  661.900024         1.9-8.8  >= 20  \n",
       "2  650.900024            > 23   < 20  \n",
       "3  643.500000           < 1.9   < 20  \n",
       "4  639.900024          8.8-23   < 20  "
      ]
     },
     "execution_count": 8,
     "metadata": {},
     "output_type": "execute_result"
    }
   ],
   "source": [
    "df['D'] = (df['str'] < 20).astype(int)\n",
    "df['D'] = df['D'].map({0: '>= 20', 1: '< 20'})\n",
    "df.head()"
   ]
  },
  {
   "cell_type": "code",
   "execution_count": 9,
   "id": "32c82b1b-1380-4a2a-9355-6c225168a930",
   "metadata": {},
   "outputs": [],
   "source": [
    "grouped = df.groupby(['D', 'el_pct_category'], observed=True)"
   ]
  },
  {
   "cell_type": "code",
   "execution_count": 10,
   "id": "9e967c1d-604e-4d53-9e2a-a484daffb5bd",
   "metadata": {},
   "outputs": [
    {
     "data": {
      "text/html": [
       "<div>\n",
       "<style scoped>\n",
       "    .dataframe tbody tr th:only-of-type {\n",
       "        vertical-align: middle;\n",
       "    }\n",
       "\n",
       "    .dataframe tbody tr th {\n",
       "        vertical-align: top;\n",
       "    }\n",
       "\n",
       "    .dataframe thead th {\n",
       "        text-align: right;\n",
       "    }\n",
       "</style>\n",
       "<table border=\"1\" class=\"dataframe\">\n",
       "  <thead>\n",
       "    <tr style=\"text-align: right;\">\n",
       "      <th></th>\n",
       "      <th>D</th>\n",
       "      <th>el_pct_category</th>\n",
       "      <th>avg_test_score</th>\n",
       "      <th>n</th>\n",
       "    </tr>\n",
       "  </thead>\n",
       "  <tbody>\n",
       "    <tr>\n",
       "      <th>0</th>\n",
       "      <td>&lt; 20</td>\n",
       "      <td>&lt; 1.9</td>\n",
       "      <td>664.470391</td>\n",
       "      <td>76</td>\n",
       "    </tr>\n",
       "    <tr>\n",
       "      <th>1</th>\n",
       "      <td>&lt; 20</td>\n",
       "      <td>1.9-8.8</td>\n",
       "      <td>665.157029</td>\n",
       "      <td>64</td>\n",
       "    </tr>\n",
       "    <tr>\n",
       "      <th>2</th>\n",
       "      <td>&lt; 20</td>\n",
       "      <td>8.8-23</td>\n",
       "      <td>654.882406</td>\n",
       "      <td>54</td>\n",
       "    </tr>\n",
       "    <tr>\n",
       "      <th>3</th>\n",
       "      <td>&lt; 20</td>\n",
       "      <td>&gt; 23</td>\n",
       "      <td>636.730687</td>\n",
       "      <td>44</td>\n",
       "    </tr>\n",
       "    <tr>\n",
       "      <th>4</th>\n",
       "      <td>&gt;= 20</td>\n",
       "      <td>&lt; 1.9</td>\n",
       "      <td>665.370377</td>\n",
       "      <td>27</td>\n",
       "    </tr>\n",
       "    <tr>\n",
       "      <th>5</th>\n",
       "      <td>&gt;= 20</td>\n",
       "      <td>1.9-8.8</td>\n",
       "      <td>661.828405</td>\n",
       "      <td>44</td>\n",
       "    </tr>\n",
       "    <tr>\n",
       "      <th>6</th>\n",
       "      <td>&gt;= 20</td>\n",
       "      <td>8.8-23</td>\n",
       "      <td>649.713007</td>\n",
       "      <td>50</td>\n",
       "    </tr>\n",
       "    <tr>\n",
       "      <th>7</th>\n",
       "      <td>&gt;= 20</td>\n",
       "      <td>&gt; 23</td>\n",
       "      <td>634.836888</td>\n",
       "      <td>61</td>\n",
       "    </tr>\n",
       "  </tbody>\n",
       "</table>\n",
       "</div>"
      ],
      "text/plain": [
       "       D el_pct_category  avg_test_score   n\n",
       "0   < 20           < 1.9      664.470391  76\n",
       "1   < 20         1.9-8.8      665.157029  64\n",
       "2   < 20          8.8-23      654.882406  54\n",
       "3   < 20            > 23      636.730687  44\n",
       "4  >= 20           < 1.9      665.370377  27\n",
       "5  >= 20         1.9-8.8      661.828405  44\n",
       "6  >= 20          8.8-23      649.713007  50\n",
       "7  >= 20            > 23      634.836888  61"
      ]
     },
     "execution_count": 10,
     "metadata": {},
     "output_type": "execute_result"
    }
   ],
   "source": [
    "grouped.agg(\n",
    "    avg_test_score=('testscr', 'mean'),\n",
    "    n=('testscr', 'size')\n",
    ").reset_index()"
   ]
  },
  {
   "cell_type": "code",
   "execution_count": 11,
   "id": "2a8ca141-2327-4ab2-b23f-11dc0edee363",
   "metadata": {},
   "outputs": [
    {
     "data": {
      "text/html": [
       "<div>\n",
       "<style scoped>\n",
       "    .dataframe tbody tr th:only-of-type {\n",
       "        vertical-align: middle;\n",
       "    }\n",
       "\n",
       "    .dataframe tbody tr th {\n",
       "        vertical-align: top;\n",
       "    }\n",
       "\n",
       "    .dataframe thead th {\n",
       "        text-align: right;\n",
       "    }\n",
       "</style>\n",
       "<table border=\"1\" class=\"dataframe\">\n",
       "  <thead>\n",
       "    <tr style=\"text-align: right;\">\n",
       "      <th>el_pct_category</th>\n",
       "      <th>&lt; 1.9</th>\n",
       "      <th>1.9-8.8</th>\n",
       "      <th>8.8-23</th>\n",
       "      <th>&gt; 23</th>\n",
       "    </tr>\n",
       "    <tr>\n",
       "      <th>D</th>\n",
       "      <th></th>\n",
       "      <th></th>\n",
       "      <th></th>\n",
       "      <th></th>\n",
       "    </tr>\n",
       "  </thead>\n",
       "  <tbody>\n",
       "    <tr>\n",
       "      <th>&lt; 20</th>\n",
       "      <td>664.470391</td>\n",
       "      <td>665.157029</td>\n",
       "      <td>654.882406</td>\n",
       "      <td>636.730687</td>\n",
       "    </tr>\n",
       "    <tr>\n",
       "      <th>&gt;= 20</th>\n",
       "      <td>665.370377</td>\n",
       "      <td>661.828405</td>\n",
       "      <td>649.713007</td>\n",
       "      <td>634.836888</td>\n",
       "    </tr>\n",
       "  </tbody>\n",
       "</table>\n",
       "</div>"
      ],
      "text/plain": [
       "el_pct_category       < 1.9     1.9-8.8      8.8-23        > 23\n",
       "D                                                              \n",
       "< 20             664.470391  665.157029  654.882406  636.730687\n",
       ">= 20            665.370377  661.828405  649.713007  634.836888"
      ]
     },
     "execution_count": 11,
     "metadata": {},
     "output_type": "execute_result"
    }
   ],
   "source": [
    "mean_crosstab = pd.crosstab(df['D'], df['el_pct_category'],\n",
    "                            values=df['testscr'], aggfunc='mean')\n",
    "mean_crosstab"
   ]
  },
  {
   "cell_type": "code",
   "execution_count": 12,
   "id": "ed1891e5-a1fe-4e85-adb0-df2c86af36aa",
   "metadata": {},
   "outputs": [
    {
     "data": {
      "text/html": [
       "<div>\n",
       "<style scoped>\n",
       "    .dataframe tbody tr th:only-of-type {\n",
       "        vertical-align: middle;\n",
       "    }\n",
       "\n",
       "    .dataframe tbody tr th {\n",
       "        vertical-align: top;\n",
       "    }\n",
       "\n",
       "    .dataframe thead th {\n",
       "        text-align: right;\n",
       "    }\n",
       "</style>\n",
       "<table border=\"1\" class=\"dataframe\">\n",
       "  <thead>\n",
       "    <tr style=\"text-align: right;\">\n",
       "      <th>el_pct_category</th>\n",
       "      <th>&lt; 1.9</th>\n",
       "      <th>1.9-8.8</th>\n",
       "      <th>8.8-23</th>\n",
       "      <th>&gt; 23</th>\n",
       "    </tr>\n",
       "    <tr>\n",
       "      <th>D</th>\n",
       "      <th></th>\n",
       "      <th></th>\n",
       "      <th></th>\n",
       "      <th></th>\n",
       "    </tr>\n",
       "  </thead>\n",
       "  <tbody>\n",
       "    <tr>\n",
       "      <th>&lt; 20</th>\n",
       "      <td>76</td>\n",
       "      <td>64</td>\n",
       "      <td>54</td>\n",
       "      <td>44</td>\n",
       "    </tr>\n",
       "    <tr>\n",
       "      <th>&gt;= 20</th>\n",
       "      <td>27</td>\n",
       "      <td>44</td>\n",
       "      <td>50</td>\n",
       "      <td>61</td>\n",
       "    </tr>\n",
       "  </tbody>\n",
       "</table>\n",
       "</div>"
      ],
      "text/plain": [
       "el_pct_category  < 1.9  1.9-8.8  8.8-23  > 23\n",
       "D                                            \n",
       "< 20                76       64      54    44\n",
       ">= 20               27       44      50    61"
      ]
     },
     "execution_count": 12,
     "metadata": {},
     "output_type": "execute_result"
    }
   ],
   "source": [
    "count_crosstab = pd.crosstab(df['D'], df['el_pct_category'])\n",
    "count_crosstab"
   ]
  },
  {
   "cell_type": "code",
   "execution_count": 13,
   "id": "97f23fbe-e253-45b2-a3fe-bd282cf2aa90",
   "metadata": {},
   "outputs": [
    {
     "data": {
      "text/plain": [
       "np.float64(657.3512591193704)"
      ]
     },
     "execution_count": 13,
     "metadata": {},
     "output_type": "execute_result"
    }
   ],
   "source": [
    "averageScoreSmallRatio = df[df[\"D\"] == '< 20']['testscr'].mean()\n",
    "averageScoreSmallRatio"
   ]
  },
  {
   "cell_type": "code",
   "execution_count": 14,
   "id": "1c0fa85b-2089-4e33-baea-a0b4761510c7",
   "metadata": {},
   "outputs": [
    {
     "data": {
      "text/plain": [
       "np.float64(649.9788489708534)"
      ]
     },
     "execution_count": 14,
     "metadata": {},
     "output_type": "execute_result"
    }
   ],
   "source": [
    "averageScorelargeRatio = df[df[\"D\"] == '>= 20']['testscr'].mean()\n",
    "averageScorelargeRatio"
   ]
  },
  {
   "cell_type": "code",
   "execution_count": 15,
   "id": "2bb456cd-5fe6-4f05-aa7d-a6ba89a4943b",
   "metadata": {},
   "outputs": [
    {
     "data": {
      "text/plain": [
       "np.float64(7.3724101485170195)"
      ]
     },
     "execution_count": 15,
     "metadata": {},
     "output_type": "execute_result"
    }
   ],
   "source": [
    "averageScoreSmallRatio - averageScorelargeRatio"
   ]
  },
  {
   "cell_type": "code",
   "execution_count": 16,
   "id": "12655570-ca12-4e11-8bc7-6af5af45b1d2",
   "metadata": {},
   "outputs": [
    {
     "data": {
      "text/plain": [
       "(np.float64(-4.042581848666498), np.float64(6.332554425244588e-05))"
      ]
     },
     "execution_count": 16,
     "metadata": {},
     "output_type": "execute_result"
    }
   ],
   "source": [
    "from scipy import stats\n",
    "t_stat, p_value = stats.ttest_ind(df[df[\"D\"] == '>= 20']['testscr'],\n",
    "                                   df[df[\"D\"] == '< 20']['testscr'], equal_var = False)\n",
    "t_stat, p_value"
   ]
  },
  {
   "cell_type": "markdown",
   "id": "52d7df5e-2ba0-4679-a197-aa010136c26c",
   "metadata": {},
   "source": [
    "null hypothesis that the mean test score is the same in the two\n",
    "groups is rejected at the 1% significance level"
   ]
  },
  {
   "cell_type": "markdown",
   "id": "2d39b5ab-5b58-4178-93d2-b26be18c796d",
   "metadata": {},
   "source": [
    "#### across all districts, \n",
    "those with a low student–teacher ratio have, on average, a test score 7.4 points higher than those with a high student–teacher ratio. The t-statistic of 4.04 indicates that this difference is statistically significant."
   ]
  },
  {
   "cell_type": "markdown",
   "id": "8b2273fc-ca49-4e4a-bdd2-c374d9427ffd",
   "metadata": {},
   "source": [
    "#### Differences by Percentage of English Learners"
   ]
  },
  {
   "cell_type": "markdown",
   "id": "7a4a2c0e-48a6-42a8-be4d-4fdff60df303",
   "metadata": {},
   "source": [
    "<= 1.9%:\n",
    "\n",
    "Average test score for districts with low student–teacher ratio: 664.5  \n",
    "Average test score for districts with high student–teacher ratio: 665.4  \n",
    "Difference in test scores: -0.9  \n",
    "t-statistic: -0.30"
   ]
  },
  {
   "cell_type": "markdown",
   "id": "32661d9c-8028-428c-963c-fe3fab689cc6",
   "metadata": {},
   "source": [
    "1.9–8.8%:\n",
    "\n",
    "Average test score for districts with low student–teacher ratio: 665.2   \n",
    "Average test score for districts with high student–teacher ratio: 661.8  \n",
    "Difference in test scores: 3.3  \n",
    "t-statistic: 1.13"
   ]
  },
  {
   "cell_type": "markdown",
   "id": "15cf30c7-b373-4fe2-9016-ffd47692702c",
   "metadata": {},
   "source": [
    "8.8–23.0%:\n",
    "\n",
    "Average test score for districts with low student–teacher ratio: 654.9  \n",
    "Average test score for districts with high student–teacher ratio: 649.7  \n",
    "Difference in test scores: 5.2  \n",
    "t-statistic: 1.72  "
   ]
  },
  {
   "cell_type": "markdown",
   "id": "5aa146a3-bfa9-4364-b62e-dc1a85feed2c",
   "metadata": {},
   "source": [
    " 23.0%:\n",
    "\n",
    "Average test score for districts with low student–teacher ratio: 636.7  \n",
    "Average test score for districts with high student–teacher ratio: 634.8  \n",
    "Difference in test scores: 1.9  \n",
    "t-statistic: 0.68"
   ]
  },
  {
   "cell_type": "markdown",
   "id": "7e9d8f97-c0e7-49bc-b960-f1e5313a505a",
   "metadata": {},
   "source": [
    "Overall Effect: The overall difference in test scores suggests that districts with low student–teacher ratios tend to have higher test scores.  \n",
    "\n",
    "By Quartile: When breaking down by the percentage of English learners, the differences in test scores are smaller and less consistent. This suggests that the effect of student–teacher ratio on test scores is influenced by the percentage of English learners in the district."
   ]
  },
  {
   "cell_type": "markdown",
   "id": "662b0aad-8abf-4986-b1fa-5d84e1e68996",
   "metadata": {},
   "source": [
    "#### Why the Differences?\n",
    "\n",
    "Districts with more English learners tend to have both higher student–teacher ratios and lower test scores.  \n",
    "The large overall difference in test scores (7.4 points) is partly due to the fact that districts with fewer English learners (who generally have higher test scores) also tend to have lower student–teacher ratios.  \n",
    "When you control for the percentage of English learners, the differences in test scores between low and high student–teacher ratio districts are smaller. This indicates that the percentage of English learners is an important factor that affects test scores."
   ]
  },
  {
   "cell_type": "markdown",
   "id": "c7fa05b6-7168-407e-b2b6-f9ec0688dc5f",
   "metadata": {},
   "source": [
    "## Multiple Regression"
   ]
  },
  {
   "cell_type": "code",
   "execution_count": 17,
   "id": "275bd20d-d239-4f64-bbf4-875895a672ac",
   "metadata": {},
   "outputs": [
    {
     "data": {
      "text/html": [
       "<table class=\"simpletable\">\n",
       "<caption>OLS Regression Results</caption>\n",
       "<tr>\n",
       "  <th>Dep. Variable:</th>         <td>testscr</td>     <th>  R-squared:         </th> <td>   0.051</td>\n",
       "</tr>\n",
       "<tr>\n",
       "  <th>Model:</th>                   <td>OLS</td>       <th>  Adj. R-squared:    </th> <td>   0.049</td>\n",
       "</tr>\n",
       "<tr>\n",
       "  <th>Method:</th>             <td>Least Squares</td>  <th>  F-statistic:       </th> <td>   19.13</td>\n",
       "</tr>\n",
       "<tr>\n",
       "  <th>Date:</th>             <td>Tue, 09 Jul 2024</td> <th>  Prob (F-statistic):</th> <td>1.55e-05</td>\n",
       "</tr>\n",
       "<tr>\n",
       "  <th>Time:</th>                 <td>14:46:53</td>     <th>  Log-Likelihood:    </th> <td> -1822.2</td>\n",
       "</tr>\n",
       "<tr>\n",
       "  <th>No. Observations:</th>      <td>   420</td>      <th>  AIC:               </th> <td>   3648.</td>\n",
       "</tr>\n",
       "<tr>\n",
       "  <th>Df Residuals:</th>          <td>   418</td>      <th>  BIC:               </th> <td>   3657.</td>\n",
       "</tr>\n",
       "<tr>\n",
       "  <th>Df Model:</th>              <td>     1</td>      <th>                     </th>     <td> </td>   \n",
       "</tr>\n",
       "<tr>\n",
       "  <th>Covariance Type:</th>         <td>HC2</td>       <th>                     </th>     <td> </td>   \n",
       "</tr>\n",
       "</table>\n",
       "<table class=\"simpletable\">\n",
       "<tr>\n",
       "      <td></td>         <th>coef</th>     <th>std err</th>      <th>z</th>      <th>P>|z|</th>  <th>[0.025</th>    <th>0.975]</th>  \n",
       "</tr>\n",
       "<tr>\n",
       "  <th>Intercept</th> <td>  698.9330</td> <td>   10.400</td> <td>   67.206</td> <td> 0.000</td> <td>  678.550</td> <td>  719.316</td>\n",
       "</tr>\n",
       "<tr>\n",
       "  <th>str</th>       <td>   -2.2798</td> <td>    0.521</td> <td>   -4.373</td> <td> 0.000</td> <td>   -3.302</td> <td>   -1.258</td>\n",
       "</tr>\n",
       "</table>\n",
       "<table class=\"simpletable\">\n",
       "<tr>\n",
       "  <th>Omnibus:</th>       <td> 5.390</td> <th>  Durbin-Watson:     </th> <td>   0.129</td>\n",
       "</tr>\n",
       "<tr>\n",
       "  <th>Prob(Omnibus):</th> <td> 0.068</td> <th>  Jarque-Bera (JB):  </th> <td>   3.589</td>\n",
       "</tr>\n",
       "<tr>\n",
       "  <th>Skew:</th>          <td>-0.012</td> <th>  Prob(JB):          </th> <td>   0.166</td>\n",
       "</tr>\n",
       "<tr>\n",
       "  <th>Kurtosis:</th>      <td> 2.548</td> <th>  Cond. No.          </th> <td>    207.</td>\n",
       "</tr>\n",
       "</table><br/><br/>Notes:<br/>[1] Standard Errors are heteroscedasticity robust (HC2)"
      ],
      "text/latex": [
       "\\begin{center}\n",
       "\\begin{tabular}{lclc}\n",
       "\\toprule\n",
       "\\textbf{Dep. Variable:}    &     testscr      & \\textbf{  R-squared:         } &     0.051   \\\\\n",
       "\\textbf{Model:}            &       OLS        & \\textbf{  Adj. R-squared:    } &     0.049   \\\\\n",
       "\\textbf{Method:}           &  Least Squares   & \\textbf{  F-statistic:       } &     19.13   \\\\\n",
       "\\textbf{Date:}             & Tue, 09 Jul 2024 & \\textbf{  Prob (F-statistic):} &  1.55e-05   \\\\\n",
       "\\textbf{Time:}             &     14:46:53     & \\textbf{  Log-Likelihood:    } &   -1822.2   \\\\\n",
       "\\textbf{No. Observations:} &         420      & \\textbf{  AIC:               } &     3648.   \\\\\n",
       "\\textbf{Df Residuals:}     &         418      & \\textbf{  BIC:               } &     3657.   \\\\\n",
       "\\textbf{Df Model:}         &           1      & \\textbf{                     } &             \\\\\n",
       "\\textbf{Covariance Type:}  &       HC2        & \\textbf{                     } &             \\\\\n",
       "\\bottomrule\n",
       "\\end{tabular}\n",
       "\\begin{tabular}{lcccccc}\n",
       "                   & \\textbf{coef} & \\textbf{std err} & \\textbf{z} & \\textbf{P$> |$z$|$} & \\textbf{[0.025} & \\textbf{0.975]}  \\\\\n",
       "\\midrule\n",
       "\\textbf{Intercept} &     698.9330  &       10.400     &    67.206  &         0.000        &      678.550    &      719.316     \\\\\n",
       "\\textbf{str}       &      -2.2798  &        0.521     &    -4.373  &         0.000        &       -3.302    &       -1.258     \\\\\n",
       "\\bottomrule\n",
       "\\end{tabular}\n",
       "\\begin{tabular}{lclc}\n",
       "\\textbf{Omnibus:}       &  5.390 & \\textbf{  Durbin-Watson:     } &    0.129  \\\\\n",
       "\\textbf{Prob(Omnibus):} &  0.068 & \\textbf{  Jarque-Bera (JB):  } &    3.589  \\\\\n",
       "\\textbf{Skew:}          & -0.012 & \\textbf{  Prob(JB):          } &    0.166  \\\\\n",
       "\\textbf{Kurtosis:}      &  2.548 & \\textbf{  Cond. No.          } &     207.  \\\\\n",
       "\\bottomrule\n",
       "\\end{tabular}\n",
       "%\\caption{OLS Regression Results}\n",
       "\\end{center}\n",
       "\n",
       "Notes: \\newline\n",
       " [1] Standard Errors are heteroscedasticity robust (HC2)"
      ],
      "text/plain": [
       "<class 'statsmodels.iolib.summary.Summary'>\n",
       "\"\"\"\n",
       "                            OLS Regression Results                            \n",
       "==============================================================================\n",
       "Dep. Variable:                testscr   R-squared:                       0.051\n",
       "Model:                            OLS   Adj. R-squared:                  0.049\n",
       "Method:                 Least Squares   F-statistic:                     19.13\n",
       "Date:                Tue, 09 Jul 2024   Prob (F-statistic):           1.55e-05\n",
       "Time:                        14:46:53   Log-Likelihood:                -1822.2\n",
       "No. Observations:                 420   AIC:                             3648.\n",
       "Df Residuals:                     418   BIC:                             3657.\n",
       "Df Model:                           1                                         \n",
       "Covariance Type:                  HC2                                         \n",
       "==============================================================================\n",
       "                 coef    std err          z      P>|z|      [0.025      0.975]\n",
       "------------------------------------------------------------------------------\n",
       "Intercept    698.9330     10.400     67.206      0.000     678.550     719.316\n",
       "str           -2.2798      0.521     -4.373      0.000      -3.302      -1.258\n",
       "==============================================================================\n",
       "Omnibus:                        5.390   Durbin-Watson:                   0.129\n",
       "Prob(Omnibus):                  0.068   Jarque-Bera (JB):                3.589\n",
       "Skew:                          -0.012   Prob(JB):                        0.166\n",
       "Kurtosis:                       2.548   Cond. No.                         207.\n",
       "==============================================================================\n",
       "\n",
       "Notes:\n",
       "[1] Standard Errors are heteroscedasticity robust (HC2)\n",
       "\"\"\""
      ]
     },
     "execution_count": 17,
     "metadata": {},
     "output_type": "execute_result"
    }
   ],
   "source": [
    "model = smf.ols(\"testscr ~ str\", data = df).fit(cov_type='HC2')\n",
    "model.summary()"
   ]
  },
  {
   "cell_type": "code",
   "execution_count": 18,
   "id": "b67ca5b9-4cdb-472c-8645-9d0db4785db3",
   "metadata": {},
   "outputs": [
    {
     "data": {
      "text/plain": [
       "np.float64(0.051240095079614356)"
      ]
     },
     "execution_count": 18,
     "metadata": {},
     "output_type": "execute_result"
    }
   ],
   "source": [
    "model.rsquared"
   ]
  },
  {
   "cell_type": "markdown",
   "id": "c1582f63-04cf-46cf-b105-c85a60152746",
   "metadata": {},
   "source": [
    "Student Teacher Ratio explains only 5% of the variation in test scores"
   ]
  },
  {
   "cell_type": "code",
   "execution_count": 19,
   "id": "aaf71681-f2a4-473c-8ec4-93e4dd673b8a",
   "metadata": {},
   "outputs": [
    {
     "data": {
      "text/html": [
       "<table class=\"simpletable\">\n",
       "<caption>OLS Regression Results</caption>\n",
       "<tr>\n",
       "  <th>Dep. Variable:</th>         <td>testscr</td>     <th>  R-squared:         </th> <td>   0.426</td>\n",
       "</tr>\n",
       "<tr>\n",
       "  <th>Model:</th>                   <td>OLS</td>       <th>  Adj. R-squared:    </th> <td>   0.424</td>\n",
       "</tr>\n",
       "<tr>\n",
       "  <th>Method:</th>             <td>Least Squares</td>  <th>  F-statistic:       </th> <td>   222.8</td>\n",
       "</tr>\n",
       "<tr>\n",
       "  <th>Date:</th>             <td>Tue, 09 Jul 2024</td> <th>  Prob (F-statistic):</th> <td>1.56e-66</td>\n",
       "</tr>\n",
       "<tr>\n",
       "  <th>Time:</th>                 <td>14:46:53</td>     <th>  Log-Likelihood:    </th> <td> -1716.6</td>\n",
       "</tr>\n",
       "<tr>\n",
       "  <th>No. Observations:</th>      <td>   420</td>      <th>  AIC:               </th> <td>   3439.</td>\n",
       "</tr>\n",
       "<tr>\n",
       "  <th>Df Residuals:</th>          <td>   417</td>      <th>  BIC:               </th> <td>   3451.</td>\n",
       "</tr>\n",
       "<tr>\n",
       "  <th>Df Model:</th>              <td>     2</td>      <th>                     </th>     <td> </td>   \n",
       "</tr>\n",
       "<tr>\n",
       "  <th>Covariance Type:</th>         <td>HC2</td>       <th>                     </th>     <td> </td>   \n",
       "</tr>\n",
       "</table>\n",
       "<table class=\"simpletable\">\n",
       "<tr>\n",
       "      <td></td>         <th>coef</th>     <th>std err</th>      <th>z</th>      <th>P>|z|</th>  <th>[0.025</th>    <th>0.975]</th>  \n",
       "</tr>\n",
       "<tr>\n",
       "  <th>Intercept</th> <td>  686.0322</td> <td>    8.754</td> <td>   78.365</td> <td> 0.000</td> <td>  668.874</td> <td>  703.190</td>\n",
       "</tr>\n",
       "<tr>\n",
       "  <th>str</th>       <td>   -1.1013</td> <td>    0.434</td> <td>   -2.537</td> <td> 0.011</td> <td>   -1.952</td> <td>   -0.250</td>\n",
       "</tr>\n",
       "<tr>\n",
       "  <th>el_pct</th>    <td>   -0.6498</td> <td>    0.031</td> <td>  -20.888</td> <td> 0.000</td> <td>   -0.711</td> <td>   -0.589</td>\n",
       "</tr>\n",
       "</table>\n",
       "<table class=\"simpletable\">\n",
       "<tr>\n",
       "  <th>Omnibus:</th>       <td> 0.631</td> <th>  Durbin-Watson:     </th> <td>   0.686</td>\n",
       "</tr>\n",
       "<tr>\n",
       "  <th>Prob(Omnibus):</th> <td> 0.729</td> <th>  Jarque-Bera (JB):  </th> <td>   0.550</td>\n",
       "</tr>\n",
       "<tr>\n",
       "  <th>Skew:</th>          <td> 0.088</td> <th>  Prob(JB):          </th> <td>   0.760</td>\n",
       "</tr>\n",
       "<tr>\n",
       "  <th>Kurtosis:</th>      <td> 3.024</td> <th>  Cond. No.          </th> <td>    301.</td>\n",
       "</tr>\n",
       "</table><br/><br/>Notes:<br/>[1] Standard Errors are heteroscedasticity robust (HC2)"
      ],
      "text/latex": [
       "\\begin{center}\n",
       "\\begin{tabular}{lclc}\n",
       "\\toprule\n",
       "\\textbf{Dep. Variable:}    &     testscr      & \\textbf{  R-squared:         } &     0.426   \\\\\n",
       "\\textbf{Model:}            &       OLS        & \\textbf{  Adj. R-squared:    } &     0.424   \\\\\n",
       "\\textbf{Method:}           &  Least Squares   & \\textbf{  F-statistic:       } &     222.8   \\\\\n",
       "\\textbf{Date:}             & Tue, 09 Jul 2024 & \\textbf{  Prob (F-statistic):} &  1.56e-66   \\\\\n",
       "\\textbf{Time:}             &     14:46:53     & \\textbf{  Log-Likelihood:    } &   -1716.6   \\\\\n",
       "\\textbf{No. Observations:} &         420      & \\textbf{  AIC:               } &     3439.   \\\\\n",
       "\\textbf{Df Residuals:}     &         417      & \\textbf{  BIC:               } &     3451.   \\\\\n",
       "\\textbf{Df Model:}         &           2      & \\textbf{                     } &             \\\\\n",
       "\\textbf{Covariance Type:}  &       HC2        & \\textbf{                     } &             \\\\\n",
       "\\bottomrule\n",
       "\\end{tabular}\n",
       "\\begin{tabular}{lcccccc}\n",
       "                   & \\textbf{coef} & \\textbf{std err} & \\textbf{z} & \\textbf{P$> |$z$|$} & \\textbf{[0.025} & \\textbf{0.975]}  \\\\\n",
       "\\midrule\n",
       "\\textbf{Intercept} &     686.0322  &        8.754     &    78.365  &         0.000        &      668.874    &      703.190     \\\\\n",
       "\\textbf{str}       &      -1.1013  &        0.434     &    -2.537  &         0.011        &       -1.952    &       -0.250     \\\\\n",
       "\\textbf{el\\_pct}   &      -0.6498  &        0.031     &   -20.888  &         0.000        &       -0.711    &       -0.589     \\\\\n",
       "\\bottomrule\n",
       "\\end{tabular}\n",
       "\\begin{tabular}{lclc}\n",
       "\\textbf{Omnibus:}       &  0.631 & \\textbf{  Durbin-Watson:     } &    0.686  \\\\\n",
       "\\textbf{Prob(Omnibus):} &  0.729 & \\textbf{  Jarque-Bera (JB):  } &    0.550  \\\\\n",
       "\\textbf{Skew:}          &  0.088 & \\textbf{  Prob(JB):          } &    0.760  \\\\\n",
       "\\textbf{Kurtosis:}      &  3.024 & \\textbf{  Cond. No.          } &     301.  \\\\\n",
       "\\bottomrule\n",
       "\\end{tabular}\n",
       "%\\caption{OLS Regression Results}\n",
       "\\end{center}\n",
       "\n",
       "Notes: \\newline\n",
       " [1] Standard Errors are heteroscedasticity robust (HC2)"
      ],
      "text/plain": [
       "<class 'statsmodels.iolib.summary.Summary'>\n",
       "\"\"\"\n",
       "                            OLS Regression Results                            \n",
       "==============================================================================\n",
       "Dep. Variable:                testscr   R-squared:                       0.426\n",
       "Model:                            OLS   Adj. R-squared:                  0.424\n",
       "Method:                 Least Squares   F-statistic:                     222.8\n",
       "Date:                Tue, 09 Jul 2024   Prob (F-statistic):           1.56e-66\n",
       "Time:                        14:46:53   Log-Likelihood:                -1716.6\n",
       "No. Observations:                 420   AIC:                             3439.\n",
       "Df Residuals:                     417   BIC:                             3451.\n",
       "Df Model:                           2                                         \n",
       "Covariance Type:                  HC2                                         \n",
       "==============================================================================\n",
       "                 coef    std err          z      P>|z|      [0.025      0.975]\n",
       "------------------------------------------------------------------------------\n",
       "Intercept    686.0322      8.754     78.365      0.000     668.874     703.190\n",
       "str           -1.1013      0.434     -2.537      0.011      -1.952      -0.250\n",
       "el_pct        -0.6498      0.031    -20.888      0.000      -0.711      -0.589\n",
       "==============================================================================\n",
       "Omnibus:                        0.631   Durbin-Watson:                   0.686\n",
       "Prob(Omnibus):                  0.729   Jarque-Bera (JB):                0.550\n",
       "Skew:                           0.088   Prob(JB):                        0.760\n",
       "Kurtosis:                       3.024   Cond. No.                         301.\n",
       "==============================================================================\n",
       "\n",
       "Notes:\n",
       "[1] Standard Errors are heteroscedasticity robust (HC2)\n",
       "\"\"\""
      ]
     },
     "execution_count": 19,
     "metadata": {},
     "output_type": "execute_result"
    }
   ],
   "source": [
    "model2 = smf.ols(\"testscr ~ str + el_pct\", data = df).fit(cov_type='HC2')\n",
    "model2.summary()"
   ]
  },
  {
   "cell_type": "markdown",
   "id": "1c4a876d-aaf6-4ba9-a6c1-0a87be75531c",
   "metadata": {},
   "source": [
    "coefficient of str became half (-1.10 vs -2.28) cuz it controls for english percentage"
   ]
  },
  {
   "cell_type": "markdown",
   "id": "9f59e7ea-8032-4b5a-9a53-340bf5378632",
   "metadata": {},
   "source": [
    "among\n",
    "schools within the same quartile of percentage of English learners, the difference in test\n",
    "scores between schools with a high vs. a low student–teacher ratio is less than the difference if one does not hold constant the percentage of English learners."
   ]
  },
  {
   "cell_type": "code",
   "execution_count": 20,
   "id": "9bdf9a34-ab71-48f1-8e1c-20640255e250",
   "metadata": {},
   "outputs": [
    {
     "data": {
      "text/plain": [
       "14.4644849557101"
      ]
     },
     "execution_count": 20,
     "metadata": {},
     "output_type": "execute_result"
    }
   ],
   "source": [
    "math.sqrt(model2.ssr/(model2.nobs - 3))"
   ]
  },
  {
   "cell_type": "markdown",
   "id": "814f0861-2451-4eba-9555-20dfabd4c999",
   "metadata": {},
   "source": [
    "standard error decreased, predictions are more precise"
   ]
  },
  {
   "cell_type": "code",
   "execution_count": 21,
   "id": "b5f4518d-4fa9-4b37-b88d-084680958940",
   "metadata": {},
   "outputs": [
    {
     "data": {
      "text/plain": [
       "np.float64(0.4264313614327716)"
      ]
     },
     "execution_count": 21,
     "metadata": {},
     "output_type": "execute_result"
    }
   ],
   "source": [
    "model2.rsquared"
   ]
  },
  {
   "cell_type": "markdown",
   "id": "41763708-9e86-4ee0-a8b2-7e04a3d60ef9",
   "metadata": {},
   "source": [
    "when EL_pct is added to the regression, 42.6% of the variation in test scores is explained"
   ]
  },
  {
   "cell_type": "code",
   "execution_count": 22,
   "id": "6cc71e00-b65a-4aa4-a2b8-cadd8bd89a90",
   "metadata": {},
   "outputs": [
    {
     "data": {
      "text/plain": [
       "np.float64(0.4236804327106266)"
      ]
     },
     "execution_count": 22,
     "metadata": {},
     "output_type": "execute_result"
    }
   ],
   "source": [
    "model2.rsquared_adj"
   ]
  },
  {
   "cell_type": "markdown",
   "id": "883595e2-c551-4837-969a-71a42dcff892",
   "metadata": {},
   "source": [
    "n is large and only two regressors appear, difference between $R^2$ and $\\bar{R}^2$ is small"
   ]
  },
  {
   "cell_type": "markdown",
   "id": "0f3b670b-3949-49dc-bfb6-7e565cc71fcc",
   "metadata": {},
   "source": [
    "## Multicollinearity"
   ]
  },
  {
   "cell_type": "markdown",
   "id": "e1e3555d-e1f7-43e3-a349-a42735f8e2f6",
   "metadata": {},
   "source": [
    "🚧 Under Construction"
   ]
  }
 ],
 "metadata": {
  "kernelspec": {
   "display_name": "Python 3 (ipykernel)",
   "language": "python",
   "name": "python3"
  },
  "language_info": {
   "codemirror_mode": {
    "name": "ipython",
    "version": 3
   },
   "file_extension": ".py",
   "mimetype": "text/x-python",
   "name": "python",
   "nbconvert_exporter": "python",
   "pygments_lexer": "ipython3",
   "version": "3.12.4"
  }
 },
 "nbformat": 4,
 "nbformat_minor": 5
}