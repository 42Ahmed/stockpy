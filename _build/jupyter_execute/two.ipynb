{
 "cells": [
  {
   "cell_type": "markdown",
   "id": "d8692972-2293-406c-ad68-2b37dcfb073d",
   "metadata": {},
   "source": [
    "# 2. Review of Probability"
   ]
  },
  {
   "cell_type": "markdown",
   "id": "94d46a85-1802-4855-9914-56b23bfc03b8",
   "metadata": {},
   "source": [
    "🚧 Under Construction"
   ]
  }
 ],
 "metadata": {
  "kernelspec": {
   "display_name": "Python 3 (ipykernel)",
   "language": "python",
   "name": "python3"
  },
  "language_info": {
   "codemirror_mode": {
    "name": "ipython",
    "version": 3
   },
   "file_extension": ".py",
   "mimetype": "text/x-python",
   "name": "python",
   "nbconvert_exporter": "python",
   "pygments_lexer": "ipython3",
   "version": "3.12.3"
  }
 },
 "nbformat": 4,
 "nbformat_minor": 5
}