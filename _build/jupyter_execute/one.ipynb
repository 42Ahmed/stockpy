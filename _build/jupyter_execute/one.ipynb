{
 "cells": [
  {
   "cell_type": "code",
   "execution_count": 1,
   "id": "818c0e0c-b106-4bb5-8e05-a2476d1e1924",
   "metadata": {},
   "outputs": [],
   "source": [
    "import pandas as pd\n",
    "import numpy as np\n",
    "import statsmodels.api as sm\n",
    "import statsmodels.formula.api as smf\n",
    "import matplotlib.pyplot as plt\n",
    "import seaborn as sns"
   ]
  },
  {
   "cell_type": "markdown",
   "id": "35b810f0-7724-4646-8501-09f0595724ad",
   "metadata": {},
   "source": [
    "## Cross Sectional Data"
   ]
  },
  {
   "cell_type": "code",
   "execution_count": 2,
   "id": "53f9f2f9-382d-4bef-93bb-93350e64888c",
   "metadata": {},
   "outputs": [
    {
     "name": "stderr",
     "output_type": "stream",
     "text": [
      "F:\\miniconda3\\envs\\py\\Lib\\site-packages\\openpyxl\\worksheet\\_reader.py:329: UserWarning: Unknown extension is not supported and will be removed\n",
      "  warn(msg)\n"
     ]
    },
    {
     "data": {
      "text/html": [
       "<div>\n",
       "<style scoped>\n",
       "    .dataframe tbody tr th:only-of-type {\n",
       "        vertical-align: middle;\n",
       "    }\n",
       "\n",
       "    .dataframe tbody tr th {\n",
       "        vertical-align: top;\n",
       "    }\n",
       "\n",
       "    .dataframe thead th {\n",
       "        text-align: right;\n",
       "    }\n",
       "</style>\n",
       "<table border=\"1\" class=\"dataframe\">\n",
       "  <thead>\n",
       "    <tr style=\"text-align: right;\">\n",
       "      <th></th>\n",
       "      <th>Observation Number</th>\n",
       "      <th>Average Test Score</th>\n",
       "      <th>Student-Teacher Ratio</th>\n",
       "      <th>Expenditure per Pupil</th>\n",
       "      <th>% of Students Learning English</th>\n",
       "    </tr>\n",
       "  </thead>\n",
       "  <tbody>\n",
       "    <tr>\n",
       "      <th>0</th>\n",
       "      <td>1</td>\n",
       "      <td>690.799988</td>\n",
       "      <td>17.889910</td>\n",
       "      <td>6384.911133</td>\n",
       "      <td>0.000000</td>\n",
       "    </tr>\n",
       "    <tr>\n",
       "      <th>1</th>\n",
       "      <td>2</td>\n",
       "      <td>661.200012</td>\n",
       "      <td>21.524664</td>\n",
       "      <td>5099.380859</td>\n",
       "      <td>4.583333</td>\n",
       "    </tr>\n",
       "    <tr>\n",
       "      <th>2</th>\n",
       "      <td>3</td>\n",
       "      <td>643.599976</td>\n",
       "      <td>18.697226</td>\n",
       "      <td>5501.954590</td>\n",
       "      <td>30.000002</td>\n",
       "    </tr>\n",
       "    <tr>\n",
       "      <th>3</th>\n",
       "      <td>4</td>\n",
       "      <td>647.700012</td>\n",
       "      <td>17.357143</td>\n",
       "      <td>7101.831055</td>\n",
       "      <td>0.000000</td>\n",
       "    </tr>\n",
       "    <tr>\n",
       "      <th>4</th>\n",
       "      <td>5</td>\n",
       "      <td>640.849976</td>\n",
       "      <td>18.671329</td>\n",
       "      <td>5235.987793</td>\n",
       "      <td>13.857677</td>\n",
       "    </tr>\n",
       "  </tbody>\n",
       "</table>\n",
       "</div>"
      ],
      "text/plain": [
       "   Observation Number  Average Test Score  Student-Teacher Ratio  \\\n",
       "0                   1          690.799988              17.889910   \n",
       "1                   2          661.200012              21.524664   \n",
       "2                   3          643.599976              18.697226   \n",
       "3                   4          647.700012              17.357143   \n",
       "4                   5          640.849976              18.671329   \n",
       "\n",
       "   Expenditure per Pupil  % of Students Learning English  \n",
       "0            6384.911133                        0.000000  \n",
       "1            5099.380859                        4.583333  \n",
       "2            5501.954590                       30.000002  \n",
       "3            7101.831055                        0.000000  \n",
       "4            5235.987793                       13.857677  "
      ]
     },
     "execution_count": 2,
     "metadata": {},
     "output_type": "execute_result"
    }
   ],
   "source": [
    "df = pd.read_excel(\"../Econometrics4e_Replication_Files/Chapter 1/table11.xlsx\")\n",
    "df.head()"
   ]
  },
  {
   "cell_type": "markdown",
   "id": "be496cb8-b5f5-477d-941c-0b39793e8ddb",
   "metadata": {},
   "source": [
    "the data on test scores in California school districts are cross sectional. Those data are for 420\n",
    "entities (school districts) for a single time period (1999)"
   ]
  },
  {
   "cell_type": "code",
   "execution_count": 3,
   "id": "491a03e8-be6d-420c-b615-34ceb651be92",
   "metadata": {},
   "outputs": [
    {
     "data": {
      "text/plain": [
       "(420, 5)"
      ]
     },
     "execution_count": 3,
     "metadata": {},
     "output_type": "execute_result"
    }
   ],
   "source": [
    "df.shape"
   ]
  },
  {
   "cell_type": "code",
   "execution_count": 4,
   "id": "58d5401b-ce0e-40e5-b0e9-771da3d9d0bd",
   "metadata": {},
   "outputs": [
    {
     "data": {
      "text/plain": [
       "np.float64(690.7999877929688)"
      ]
     },
     "execution_count": 4,
     "metadata": {},
     "output_type": "execute_result"
    }
   ],
   "source": [
    "# Average score for first district\n",
    "df[\"Average Test Score\"].iloc[0]"
   ]
  },
  {
   "cell_type": "code",
   "execution_count": 5,
   "id": "92ec494f-1c8e-4a24-abdf-e34cbf16c033",
   "metadata": {},
   "outputs": [
    {
     "data": {
      "text/plain": [
       "np.float64(690.7999877929688)"
      ]
     },
     "execution_count": 5,
     "metadata": {},
     "output_type": "execute_result"
    }
   ],
   "source": [
    "# first row, second column (same)\n",
    "df.iloc[0,1]"
   ]
  },
  {
   "cell_type": "code",
   "execution_count": 6,
   "id": "561019fd-61a2-46d0-b7a4-f6053acd4bd8",
   "metadata": {},
   "outputs": [
    {
     "data": {
      "text/plain": [
       "np.float64(17.889909744262695)"
      ]
     },
     "execution_count": 6,
     "metadata": {},
     "output_type": "execute_result"
    }
   ],
   "source": [
    "# Average student teacher ratio for first district\n",
    "df[\"Student-Teacher Ratio\"].iloc[0]"
   ]
  },
  {
   "cell_type": "code",
   "execution_count": 7,
   "id": "c0773504-e5e4-49b5-bbf8-b4562e92d432",
   "metadata": {},
   "outputs": [
    {
     "data": {
      "text/plain": [
       "np.float64(6384.9111328125)"
      ]
     },
     "execution_count": 7,
     "metadata": {},
     "output_type": "execute_result"
    }
   ],
   "source": [
    "# Average expenditure per pupil in district 1 \n",
    "df[\"Expenditure per Pupil\"].iloc[0]"
   ]
  },
  {
   "cell_type": "code",
   "execution_count": 8,
   "id": "e77e9dba-279c-4504-8b5b-476db74e3ec2",
   "metadata": {},
   "outputs": [
    {
     "data": {
      "text/plain": [
       "np.float64(0.0)"
      ]
     },
     "execution_count": 8,
     "metadata": {},
     "output_type": "execute_result"
    }
   ],
   "source": [
    "# % of Students Learning English\n",
    "df[\"% of Students Learning English\"].iloc[0]"
   ]
  },
  {
   "cell_type": "markdown",
   "id": "496593b8-4cc7-4ce8-b7d2-743274d319c3",
   "metadata": {},
   "source": [
    "## Time Series Data"
   ]
  },
  {
   "cell_type": "code",
   "execution_count": 9,
   "id": "116c3e1c-cdae-40b6-8c76-ed10ae892dcc",
   "metadata": {},
   "outputs": [
    {
     "name": "stderr",
     "output_type": "stream",
     "text": [
      "F:\\miniconda3\\envs\\py\\Lib\\site-packages\\openpyxl\\worksheet\\_reader.py:329: UserWarning: Unknown extension is not supported and will be removed\n",
      "  warn(msg)\n"
     ]
    },
    {
     "data": {
      "text/html": [
       "<div>\n",
       "<style scoped>\n",
       "    .dataframe tbody tr th:only-of-type {\n",
       "        vertical-align: middle;\n",
       "    }\n",
       "\n",
       "    .dataframe tbody tr th {\n",
       "        vertical-align: top;\n",
       "    }\n",
       "\n",
       "    .dataframe thead th {\n",
       "        text-align: right;\n",
       "    }\n",
       "</style>\n",
       "<table border=\"1\" class=\"dataframe\">\n",
       "  <thead>\n",
       "    <tr style=\"text-align: right;\">\n",
       "      <th></th>\n",
       "      <th>Observation Number</th>\n",
       "      <th>Date (Year:Quarter)</th>\n",
       "      <th>GDP Growth Rate</th>\n",
       "      <th>Term Spread</th>\n",
       "    </tr>\n",
       "  </thead>\n",
       "  <tbody>\n",
       "    <tr>\n",
       "      <th>0</th>\n",
       "      <td>1</td>\n",
       "      <td>1960:Q1</td>\n",
       "      <td>8.812926</td>\n",
       "      <td>0.613333</td>\n",
       "    </tr>\n",
       "    <tr>\n",
       "      <th>1</th>\n",
       "      <td>2</td>\n",
       "      <td>1960:Q2</td>\n",
       "      <td>-1.520836</td>\n",
       "      <td>1.266667</td>\n",
       "    </tr>\n",
       "    <tr>\n",
       "      <th>2</th>\n",
       "      <td>3</td>\n",
       "      <td>1960:Q3</td>\n",
       "      <td>0.994741</td>\n",
       "      <td>1.473333</td>\n",
       "    </tr>\n",
       "    <tr>\n",
       "      <th>3</th>\n",
       "      <td>4</td>\n",
       "      <td>1960:Q4</td>\n",
       "      <td>-4.871651</td>\n",
       "      <td>1.580000</td>\n",
       "    </tr>\n",
       "    <tr>\n",
       "      <th>4</th>\n",
       "      <td>5</td>\n",
       "      <td>1961:Q1</td>\n",
       "      <td>2.710556</td>\n",
       "      <td>1.436667</td>\n",
       "    </tr>\n",
       "  </tbody>\n",
       "</table>\n",
       "</div>"
      ],
      "text/plain": [
       "   Observation Number Date (Year:Quarter)  GDP Growth Rate  Term Spread\n",
       "0                   1            1960:Q1          8.812926     0.613333\n",
       "1                   2            1960:Q2         -1.520836     1.266667\n",
       "2                   3            1960:Q3          0.994741     1.473333\n",
       "3                   4            1960:Q4         -4.871651     1.580000\n",
       "4                   5            1961:Q1          2.710556     1.436667"
      ]
     },
     "execution_count": 9,
     "metadata": {},
     "output_type": "execute_result"
    }
   ],
   "source": [
    "df2 = pd.read_excel(\"../Econometrics4e_Replication_Files/Chapter 1/table12.xlsx\")\n",
    "df2.head()"
   ]
  },
  {
   "cell_type": "code",
   "execution_count": 10,
   "id": "2b4acff8-cda9-42b8-9932-628bf1f4b400",
   "metadata": {},
   "outputs": [
    {
     "name": "stdout",
     "output_type": "stream",
     "text": [
      "<class 'pandas.core.frame.DataFrame'>\n",
      "RangeIndex: 232 entries, 0 to 231\n",
      "Data columns (total 4 columns):\n",
      " #   Column               Non-Null Count  Dtype  \n",
      "---  ------               --------------  -----  \n",
      " 0   Observation Number   232 non-null    int64  \n",
      " 1   Date (Year:Quarter)  232 non-null    object \n",
      " 2   GDP Growth Rate      232 non-null    float64\n",
      " 3   Term Spread          232 non-null    float64\n",
      "dtypes: float64(2), int64(1), object(1)\n",
      "memory usage: 7.4+ KB\n"
     ]
    }
   ],
   "source": [
    "df2.info()"
   ]
  },
  {
   "cell_type": "code",
   "execution_count": 11,
   "id": "fcdf6f1d-254f-4483-95c1-623fbeb6fedc",
   "metadata": {},
   "outputs": [],
   "source": [
    "def convert_quarter_to_date(quarter_str):\n",
    "    year, quarter = quarter_str.split(':')\n",
    "    month = (int(quarter[1]) - 1) * 3 + 1  \n",
    "    return pd.Timestamp(year=int(year), month=month, day=1)"
   ]
  },
  {
   "cell_type": "code",
   "execution_count": 12,
   "id": "51cf9e2f-590c-4923-9665-5e1acc241792",
   "metadata": {},
   "outputs": [],
   "source": [
    "df2['Date'] = df2['Date (Year:Quarter)'].apply(convert_quarter_to_date)"
   ]
  },
  {
   "cell_type": "code",
   "execution_count": 13,
   "id": "a7f9dcd9-a812-4913-ac20-ffed923610aa",
   "metadata": {},
   "outputs": [
    {
     "data": {
      "text/html": [
       "<div>\n",
       "<style scoped>\n",
       "    .dataframe tbody tr th:only-of-type {\n",
       "        vertical-align: middle;\n",
       "    }\n",
       "\n",
       "    .dataframe tbody tr th {\n",
       "        vertical-align: top;\n",
       "    }\n",
       "\n",
       "    .dataframe thead th {\n",
       "        text-align: right;\n",
       "    }\n",
       "</style>\n",
       "<table border=\"1\" class=\"dataframe\">\n",
       "  <thead>\n",
       "    <tr style=\"text-align: right;\">\n",
       "      <th></th>\n",
       "      <th>Observation Number</th>\n",
       "      <th>Date (Year:Quarter)</th>\n",
       "      <th>GDP Growth Rate</th>\n",
       "      <th>Term Spread</th>\n",
       "      <th>Date</th>\n",
       "    </tr>\n",
       "  </thead>\n",
       "  <tbody>\n",
       "    <tr>\n",
       "      <th>0</th>\n",
       "      <td>1</td>\n",
       "      <td>1960:Q1</td>\n",
       "      <td>8.812926</td>\n",
       "      <td>0.613333</td>\n",
       "      <td>1960-01-01</td>\n",
       "    </tr>\n",
       "    <tr>\n",
       "      <th>1</th>\n",
       "      <td>2</td>\n",
       "      <td>1960:Q2</td>\n",
       "      <td>-1.520836</td>\n",
       "      <td>1.266667</td>\n",
       "      <td>1960-04-01</td>\n",
       "    </tr>\n",
       "    <tr>\n",
       "      <th>2</th>\n",
       "      <td>3</td>\n",
       "      <td>1960:Q3</td>\n",
       "      <td>0.994741</td>\n",
       "      <td>1.473333</td>\n",
       "      <td>1960-07-01</td>\n",
       "    </tr>\n",
       "    <tr>\n",
       "      <th>3</th>\n",
       "      <td>4</td>\n",
       "      <td>1960:Q4</td>\n",
       "      <td>-4.871651</td>\n",
       "      <td>1.580000</td>\n",
       "      <td>1960-10-01</td>\n",
       "    </tr>\n",
       "    <tr>\n",
       "      <th>4</th>\n",
       "      <td>5</td>\n",
       "      <td>1961:Q1</td>\n",
       "      <td>2.710556</td>\n",
       "      <td>1.436667</td>\n",
       "      <td>1961-01-01</td>\n",
       "    </tr>\n",
       "  </tbody>\n",
       "</table>\n",
       "</div>"
      ],
      "text/plain": [
       "   Observation Number Date (Year:Quarter)  GDP Growth Rate  Term Spread  \\\n",
       "0                   1            1960:Q1          8.812926     0.613333   \n",
       "1                   2            1960:Q2         -1.520836     1.266667   \n",
       "2                   3            1960:Q3          0.994741     1.473333   \n",
       "3                   4            1960:Q4         -4.871651     1.580000   \n",
       "4                   5            1961:Q1          2.710556     1.436667   \n",
       "\n",
       "        Date  \n",
       "0 1960-01-01  \n",
       "1 1960-04-01  \n",
       "2 1960-07-01  \n",
       "3 1960-10-01  \n",
       "4 1961-01-01  "
      ]
     },
     "execution_count": 13,
     "metadata": {},
     "output_type": "execute_result"
    }
   ],
   "source": [
    "df2.head()"
   ]
  },
  {
   "cell_type": "code",
   "execution_count": 14,
   "id": "ff724979-824c-4f40-9dc3-63c3b6103ce8",
   "metadata": {},
   "outputs": [
    {
     "data": {
      "text/plain": [
       "np.float64(8.81292622284)"
      ]
     },
     "execution_count": 14,
     "metadata": {},
     "output_type": "execute_result"
    }
   ],
   "source": [
    "# starting GDP\n",
    "df2.iloc[0,2]"
   ]
  },
  {
   "cell_type": "code",
   "execution_count": 15,
   "id": "a2122a56-f276-45f4-b2a1-697def829308",
   "metadata": {},
   "outputs": [
    {
     "data": {
      "text/plain": [
       "(232, 5)"
      ]
     },
     "execution_count": 15,
     "metadata": {},
     "output_type": "execute_result"
    }
   ],
   "source": [
    "df2.shape"
   ]
  },
  {
   "cell_type": "markdown",
   "id": "3bb9903c-b9e2-40d1-9248-9b369d057abf",
   "metadata": {},
   "source": [
    " Term speed of first observation is calculated as  \n",
    "long term interest - short interest = 4.5 - 3.9 = 0.6"
   ]
  },
  {
   "cell_type": "markdown",
   "id": "4dd93709-9898-4548-9a33-1e4d983c6cab",
   "metadata": {},
   "source": [
    "## Panel Data"
   ]
  },
  {
   "cell_type": "code",
   "execution_count": 16,
   "id": "d8ed6e0b-8ebd-43a8-b6d6-33003d365fa1",
   "metadata": {},
   "outputs": [
    {
     "name": "stderr",
     "output_type": "stream",
     "text": [
      "F:\\miniconda3\\envs\\py\\Lib\\site-packages\\openpyxl\\worksheet\\_reader.py:329: UserWarning: Unknown extension is not supported and will be removed\n",
      "  warn(msg)\n"
     ]
    },
    {
     "data": {
      "text/html": [
       "<div>\n",
       "<style scoped>\n",
       "    .dataframe tbody tr th:only-of-type {\n",
       "        vertical-align: middle;\n",
       "    }\n",
       "\n",
       "    .dataframe tbody tr th {\n",
       "        vertical-align: top;\n",
       "    }\n",
       "\n",
       "    .dataframe thead th {\n",
       "        text-align: right;\n",
       "    }\n",
       "</style>\n",
       "<table border=\"1\" class=\"dataframe\">\n",
       "  <thead>\n",
       "    <tr style=\"text-align: right;\">\n",
       "      <th></th>\n",
       "      <th>Observation Number</th>\n",
       "      <th>State</th>\n",
       "      <th>Year</th>\n",
       "      <th>Packs per Capita</th>\n",
       "      <th>Avg. Price</th>\n",
       "      <th>Total Taxes</th>\n",
       "    </tr>\n",
       "  </thead>\n",
       "  <tbody>\n",
       "    <tr>\n",
       "      <th>0</th>\n",
       "      <td>1</td>\n",
       "      <td>AL</td>\n",
       "      <td>1985</td>\n",
       "      <td>116.486282</td>\n",
       "      <td>1.021817</td>\n",
       "      <td>0.333483</td>\n",
       "    </tr>\n",
       "    <tr>\n",
       "      <th>1</th>\n",
       "      <td>2</td>\n",
       "      <td>AR</td>\n",
       "      <td>1985</td>\n",
       "      <td>128.534592</td>\n",
       "      <td>1.014750</td>\n",
       "      <td>0.370000</td>\n",
       "    </tr>\n",
       "    <tr>\n",
       "      <th>2</th>\n",
       "      <td>3</td>\n",
       "      <td>AZ</td>\n",
       "      <td>1985</td>\n",
       "      <td>104.522614</td>\n",
       "      <td>1.085788</td>\n",
       "      <td>0.361704</td>\n",
       "    </tr>\n",
       "    <tr>\n",
       "      <th>3</th>\n",
       "      <td>4</td>\n",
       "      <td>CA</td>\n",
       "      <td>1985</td>\n",
       "      <td>100.363037</td>\n",
       "      <td>1.078373</td>\n",
       "      <td>0.321040</td>\n",
       "    </tr>\n",
       "    <tr>\n",
       "      <th>4</th>\n",
       "      <td>5</td>\n",
       "      <td>CO</td>\n",
       "      <td>1985</td>\n",
       "      <td>112.963539</td>\n",
       "      <td>0.942667</td>\n",
       "      <td>0.310000</td>\n",
       "    </tr>\n",
       "  </tbody>\n",
       "</table>\n",
       "</div>"
      ],
      "text/plain": [
       "   Observation Number State  Year  Packs per Capita  Avg. Price  Total Taxes\n",
       "0                   1    AL  1985        116.486282    1.021817     0.333483\n",
       "1                   2    AR  1985        128.534592    1.014750     0.370000\n",
       "2                   3    AZ  1985        104.522614    1.085788     0.361704\n",
       "3                   4    CA  1985        100.363037    1.078373     0.321040\n",
       "4                   5    CO  1985        112.963539    0.942667     0.310000"
      ]
     },
     "execution_count": 16,
     "metadata": {},
     "output_type": "execute_result"
    }
   ],
   "source": [
    "df3 = pd.read_excel(\"../Econometrics4e_Replication_Files/Chapter 1/table13.xlsx\")\n",
    "df3.head()"
   ]
  },
  {
   "cell_type": "code",
   "execution_count": 17,
   "id": "304fd9bc-b9f1-44fe-a832-9f4ebe2e4e86",
   "metadata": {},
   "outputs": [
    {
     "data": {
      "text/plain": [
       "(528, 6)"
      ]
     },
     "execution_count": 17,
     "metadata": {},
     "output_type": "execute_result"
    }
   ],
   "source": [
    "df3.shape"
   ]
  },
  {
   "cell_type": "markdown",
   "id": "9e7248f2-e36d-4717-b819-f1f4cce07865",
   "metadata": {},
   "source": [
    "In the cigarette data set, we have observations on n = 48 continental U.S. states (entities) for T = 11 years (time periods) from\n",
    "1985 to 1995. Thus, there is a total of n * T = 48 * 11 = 528 observations."
   ]
  },
  {
   "cell_type": "code",
   "execution_count": 18,
   "id": "27c49c5b-ae16-4390-966d-53efe2d01186",
   "metadata": {},
   "outputs": [
    {
     "data": {
      "text/html": [
       "<div>\n",
       "<style scoped>\n",
       "    .dataframe tbody tr th:only-of-type {\n",
       "        vertical-align: middle;\n",
       "    }\n",
       "\n",
       "    .dataframe tbody tr th {\n",
       "        vertical-align: top;\n",
       "    }\n",
       "\n",
       "    .dataframe thead th {\n",
       "        text-align: right;\n",
       "    }\n",
       "</style>\n",
       "<table border=\"1\" class=\"dataframe\">\n",
       "  <thead>\n",
       "    <tr style=\"text-align: right;\">\n",
       "      <th></th>\n",
       "      <th>Observation Number</th>\n",
       "      <th>State</th>\n",
       "      <th>Year</th>\n",
       "      <th>Packs per Capita</th>\n",
       "      <th>Avg. Price</th>\n",
       "      <th>Total Taxes</th>\n",
       "    </tr>\n",
       "  </thead>\n",
       "  <tbody>\n",
       "    <tr>\n",
       "      <th>48</th>\n",
       "      <td>49</td>\n",
       "      <td>AL</td>\n",
       "      <td>1986</td>\n",
       "      <td>117.159317</td>\n",
       "      <td>1.079892</td>\n",
       "      <td>0.334058</td>\n",
       "    </tr>\n",
       "  </tbody>\n",
       "</table>\n",
       "</div>"
      ],
      "text/plain": [
       "    Observation Number State  Year  Packs per Capita  Avg. Price  Total Taxes\n",
       "48                  49    AL  1986        117.159317    1.079892     0.334058"
      ]
     },
     "execution_count": 18,
     "metadata": {},
     "output_type": "execute_result"
    }
   ],
   "source": [
    "df3.iloc[[48]]"
   ]
  },
  {
   "cell_type": "markdown",
   "id": "44ee64bd-b576-4ad8-8343-3e20e1f1fc4f",
   "metadata": {},
   "source": [
    "First 48 observations cover year 1985"
   ]
  },
  {
   "cell_type": "code",
   "execution_count": 19,
   "id": "9d6e6584-3dcb-446c-9e93-3efb545eb831",
   "metadata": {},
   "outputs": [
    {
     "data": {
      "text/html": [
       "<div>\n",
       "<style scoped>\n",
       "    .dataframe tbody tr th:only-of-type {\n",
       "        vertical-align: middle;\n",
       "    }\n",
       "\n",
       "    .dataframe tbody tr th {\n",
       "        vertical-align: top;\n",
       "    }\n",
       "\n",
       "    .dataframe thead th {\n",
       "        text-align: right;\n",
       "    }\n",
       "</style>\n",
       "<table border=\"1\" class=\"dataframe\">\n",
       "  <thead>\n",
       "    <tr style=\"text-align: right;\">\n",
       "      <th></th>\n",
       "      <th>Observation Number</th>\n",
       "      <th>State</th>\n",
       "      <th>Year</th>\n",
       "      <th>Packs per Capita</th>\n",
       "      <th>Avg. Price</th>\n",
       "      <th>Total Taxes</th>\n",
       "    </tr>\n",
       "  </thead>\n",
       "  <tbody>\n",
       "    <tr>\n",
       "      <th>0</th>\n",
       "      <td>1</td>\n",
       "      <td>AL</td>\n",
       "      <td>1985</td>\n",
       "      <td>116.486282</td>\n",
       "      <td>1.021817</td>\n",
       "      <td>0.333483</td>\n",
       "    </tr>\n",
       "    <tr>\n",
       "      <th>48</th>\n",
       "      <td>49</td>\n",
       "      <td>AL</td>\n",
       "      <td>1986</td>\n",
       "      <td>117.159317</td>\n",
       "      <td>1.079892</td>\n",
       "      <td>0.334058</td>\n",
       "    </tr>\n",
       "    <tr>\n",
       "      <th>96</th>\n",
       "      <td>97</td>\n",
       "      <td>AL</td>\n",
       "      <td>1987</td>\n",
       "      <td>115.836655</td>\n",
       "      <td>1.135273</td>\n",
       "      <td>0.334607</td>\n",
       "    </tr>\n",
       "    <tr>\n",
       "      <th>144</th>\n",
       "      <td>145</td>\n",
       "      <td>AL</td>\n",
       "      <td>1988</td>\n",
       "      <td>115.258446</td>\n",
       "      <td>1.200334</td>\n",
       "      <td>0.335251</td>\n",
       "    </tr>\n",
       "    <tr>\n",
       "      <th>192</th>\n",
       "      <td>193</td>\n",
       "      <td>AL</td>\n",
       "      <td>1989</td>\n",
       "      <td>109.205956</td>\n",
       "      <td>1.332560</td>\n",
       "      <td>0.336560</td>\n",
       "    </tr>\n",
       "    <tr>\n",
       "      <th>240</th>\n",
       "      <td>241</td>\n",
       "      <td>AL</td>\n",
       "      <td>1990</td>\n",
       "      <td>111.744873</td>\n",
       "      <td>1.434486</td>\n",
       "      <td>0.337569</td>\n",
       "    </tr>\n",
       "    <tr>\n",
       "      <th>288</th>\n",
       "      <td>289</td>\n",
       "      <td>AL</td>\n",
       "      <td>1991</td>\n",
       "      <td>107.014748</td>\n",
       "      <td>1.617212</td>\n",
       "      <td>0.359378</td>\n",
       "    </tr>\n",
       "    <tr>\n",
       "      <th>336</th>\n",
       "      <td>337</td>\n",
       "      <td>AL</td>\n",
       "      <td>1992</td>\n",
       "      <td>106.902931</td>\n",
       "      <td>1.761137</td>\n",
       "      <td>0.380803</td>\n",
       "    </tr>\n",
       "    <tr>\n",
       "      <th>384</th>\n",
       "      <td>385</td>\n",
       "      <td>AL</td>\n",
       "      <td>1993</td>\n",
       "      <td>104.957794</td>\n",
       "      <td>1.647343</td>\n",
       "      <td>0.399677</td>\n",
       "    </tr>\n",
       "    <tr>\n",
       "      <th>432</th>\n",
       "      <td>433</td>\n",
       "      <td>AL</td>\n",
       "      <td>1994</td>\n",
       "      <td>103.426323</td>\n",
       "      <td>1.562756</td>\n",
       "      <td>0.418839</td>\n",
       "    </tr>\n",
       "    <tr>\n",
       "      <th>480</th>\n",
       "      <td>481</td>\n",
       "      <td>AL</td>\n",
       "      <td>1995</td>\n",
       "      <td>101.085434</td>\n",
       "      <td>1.583713</td>\n",
       "      <td>0.419047</td>\n",
       "    </tr>\n",
       "  </tbody>\n",
       "</table>\n",
       "</div>"
      ],
      "text/plain": [
       "     Observation Number State  Year  Packs per Capita  Avg. Price  Total Taxes\n",
       "0                     1    AL  1985        116.486282    1.021817     0.333483\n",
       "48                   49    AL  1986        117.159317    1.079892     0.334058\n",
       "96                   97    AL  1987        115.836655    1.135273     0.334607\n",
       "144                 145    AL  1988        115.258446    1.200334     0.335251\n",
       "192                 193    AL  1989        109.205956    1.332560     0.336560\n",
       "240                 241    AL  1990        111.744873    1.434486     0.337569\n",
       "288                 289    AL  1991        107.014748    1.617212     0.359378\n",
       "336                 337    AL  1992        106.902931    1.761137     0.380803\n",
       "384                 385    AL  1993        104.957794    1.647343     0.399677\n",
       "432                 433    AL  1994        103.426323    1.562756     0.418839\n",
       "480                 481    AL  1995        101.085434    1.583713     0.419047"
      ]
     },
     "execution_count": 19,
     "metadata": {},
     "output_type": "execute_result"
    }
   ],
   "source": [
    "df3[df3['State'] == 'AL']"
   ]
  },
  {
   "cell_type": "code",
   "execution_count": 20,
   "id": "0bafa36f-2848-493f-8d65-d43522d1d86b",
   "metadata": {},
   "outputs": [
    {
     "data": {
      "text/plain": [
       "[0, 48, 96, 144, 192, 240, 288, 336, 384, 432, 480]"
      ]
     },
     "execution_count": 20,
     "metadata": {},
     "output_type": "execute_result"
    }
   ],
   "source": [
    "AL = df3.index[df3['State'] == 'AL'].tolist()\n",
    "AL"
   ]
  },
  {
   "cell_type": "code",
   "execution_count": 21,
   "id": "3d3804e8-e678-4549-aeab-2b9994f1ff43",
   "metadata": {},
   "outputs": [
    {
     "data": {
      "text/html": [
       "<div>\n",
       "<style scoped>\n",
       "    .dataframe tbody tr th:only-of-type {\n",
       "        vertical-align: middle;\n",
       "    }\n",
       "\n",
       "    .dataframe tbody tr th {\n",
       "        vertical-align: top;\n",
       "    }\n",
       "\n",
       "    .dataframe thead th {\n",
       "        text-align: right;\n",
       "    }\n",
       "</style>\n",
       "<table border=\"1\" class=\"dataframe\">\n",
       "  <thead>\n",
       "    <tr style=\"text-align: right;\">\n",
       "      <th></th>\n",
       "      <th>Observation Number</th>\n",
       "      <th>State</th>\n",
       "      <th>Year</th>\n",
       "      <th>Packs per Capita</th>\n",
       "      <th>Avg. Price</th>\n",
       "      <th>Total Taxes</th>\n",
       "    </tr>\n",
       "  </thead>\n",
       "  <tbody>\n",
       "    <tr>\n",
       "      <th>0</th>\n",
       "      <td>1</td>\n",
       "      <td>AL</td>\n",
       "      <td>1985</td>\n",
       "      <td>116.486282</td>\n",
       "      <td>1.021817</td>\n",
       "      <td>0.333483</td>\n",
       "    </tr>\n",
       "    <tr>\n",
       "      <th>48</th>\n",
       "      <td>49</td>\n",
       "      <td>AL</td>\n",
       "      <td>1986</td>\n",
       "      <td>117.159317</td>\n",
       "      <td>1.079892</td>\n",
       "      <td>0.334058</td>\n",
       "    </tr>\n",
       "    <tr>\n",
       "      <th>96</th>\n",
       "      <td>97</td>\n",
       "      <td>AL</td>\n",
       "      <td>1987</td>\n",
       "      <td>115.836655</td>\n",
       "      <td>1.135273</td>\n",
       "      <td>0.334607</td>\n",
       "    </tr>\n",
       "    <tr>\n",
       "      <th>144</th>\n",
       "      <td>145</td>\n",
       "      <td>AL</td>\n",
       "      <td>1988</td>\n",
       "      <td>115.258446</td>\n",
       "      <td>1.200334</td>\n",
       "      <td>0.335251</td>\n",
       "    </tr>\n",
       "    <tr>\n",
       "      <th>192</th>\n",
       "      <td>193</td>\n",
       "      <td>AL</td>\n",
       "      <td>1989</td>\n",
       "      <td>109.205956</td>\n",
       "      <td>1.332560</td>\n",
       "      <td>0.336560</td>\n",
       "    </tr>\n",
       "    <tr>\n",
       "      <th>240</th>\n",
       "      <td>241</td>\n",
       "      <td>AL</td>\n",
       "      <td>1990</td>\n",
       "      <td>111.744873</td>\n",
       "      <td>1.434486</td>\n",
       "      <td>0.337569</td>\n",
       "    </tr>\n",
       "    <tr>\n",
       "      <th>288</th>\n",
       "      <td>289</td>\n",
       "      <td>AL</td>\n",
       "      <td>1991</td>\n",
       "      <td>107.014748</td>\n",
       "      <td>1.617212</td>\n",
       "      <td>0.359378</td>\n",
       "    </tr>\n",
       "    <tr>\n",
       "      <th>336</th>\n",
       "      <td>337</td>\n",
       "      <td>AL</td>\n",
       "      <td>1992</td>\n",
       "      <td>106.902931</td>\n",
       "      <td>1.761137</td>\n",
       "      <td>0.380803</td>\n",
       "    </tr>\n",
       "    <tr>\n",
       "      <th>384</th>\n",
       "      <td>385</td>\n",
       "      <td>AL</td>\n",
       "      <td>1993</td>\n",
       "      <td>104.957794</td>\n",
       "      <td>1.647343</td>\n",
       "      <td>0.399677</td>\n",
       "    </tr>\n",
       "    <tr>\n",
       "      <th>432</th>\n",
       "      <td>433</td>\n",
       "      <td>AL</td>\n",
       "      <td>1994</td>\n",
       "      <td>103.426323</td>\n",
       "      <td>1.562756</td>\n",
       "      <td>0.418839</td>\n",
       "    </tr>\n",
       "    <tr>\n",
       "      <th>480</th>\n",
       "      <td>481</td>\n",
       "      <td>AL</td>\n",
       "      <td>1995</td>\n",
       "      <td>101.085434</td>\n",
       "      <td>1.583713</td>\n",
       "      <td>0.419047</td>\n",
       "    </tr>\n",
       "  </tbody>\n",
       "</table>\n",
       "</div>"
      ],
      "text/plain": [
       "     Observation Number State  Year  Packs per Capita  Avg. Price  Total Taxes\n",
       "0                     1    AL  1985        116.486282    1.021817     0.333483\n",
       "48                   49    AL  1986        117.159317    1.079892     0.334058\n",
       "96                   97    AL  1987        115.836655    1.135273     0.334607\n",
       "144                 145    AL  1988        115.258446    1.200334     0.335251\n",
       "192                 193    AL  1989        109.205956    1.332560     0.336560\n",
       "240                 241    AL  1990        111.744873    1.434486     0.337569\n",
       "288                 289    AL  1991        107.014748    1.617212     0.359378\n",
       "336                 337    AL  1992        106.902931    1.761137     0.380803\n",
       "384                 385    AL  1993        104.957794    1.647343     0.399677\n",
       "432                 433    AL  1994        103.426323    1.562756     0.418839\n",
       "480                 481    AL  1995        101.085434    1.583713     0.419047"
      ]
     },
     "execution_count": 21,
     "metadata": {},
     "output_type": "execute_result"
    }
   ],
   "source": [
    "df3.loc[AL]"
   ]
  },
  {
   "cell_type": "markdown",
   "id": "42c9a86f-98ba-4198-ab26-517122ce1934",
   "metadata": {},
   "source": [
    "## Key Concept"
   ]
  },
  {
   "cell_type": "markdown",
   "id": "d509306b-3f01-4be4-8e09-a6a8f0980b2e",
   "metadata": {},
   "source": [
    "• Cross-sectional data consist of multiple entities observed at a single time\n",
    "period.  \n",
    "• Time series data consist of a single entity observed at multiple time periods.  \n",
    "• Panel data (also known as longitudinal data) consist of multiple entities,\n",
    "where each entity is observed at two or more time periods.  "
   ]
  }
 ],
 "metadata": {
  "kernelspec": {
   "display_name": "Python 3 (ipykernel)",
   "language": "python",
   "name": "python3"
  },
  "language_info": {
   "codemirror_mode": {
    "name": "ipython",
    "version": 3
   },
   "file_extension": ".py",
   "mimetype": "text/x-python",
   "name": "python",
   "nbconvert_exporter": "python",
   "pygments_lexer": "ipython3",
   "version": "3.12.4"
  }
 },
 "nbformat": 4,
 "nbformat_minor": 5
}