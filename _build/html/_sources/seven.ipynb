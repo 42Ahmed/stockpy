{
 "cells": [
  {
   "cell_type": "markdown",
   "id": "146b058f-66e7-40ef-8783-ea3da909a9fc",
   "metadata": {},
   "source": [
    "# 7. Hypothesis Tests and Confidence Intervals in Multiple Regression"
   ]
  },
  {
   "cell_type": "code",
   "execution_count": 1,
   "id": "b12e4edf-e66b-4f79-b195-bc6b88758b8d",
   "metadata": {},
   "outputs": [],
   "source": [
    "import pandas as pd\n",
    "import numpy as np\n",
    "import statsmodels.api as sm\n",
    "import statsmodels.formula.api as smf\n",
    "import matplotlib.pyplot as plt\n",
    "import seaborn as sns\n",
    "import math"
   ]
  },
  {
   "cell_type": "markdown",
   "id": "e44effc8-176d-4a48-84d1-80ac7383d9ad",
   "metadata": {},
   "source": [
    "## Hypothesis Tests for a single Coefficient"
   ]
  },
  {
   "cell_type": "markdown",
   "id": "b8312436-34b3-42f1-9dd3-4b64896f84c2",
   "metadata": {},
   "source": [
    "Test the hypothesis that a change in the student–teacher\n",
    "ratio has no effect on test scores, holding constant the percentage of English learners\n",
    "in the district"
   ]
  },
  {
   "cell_type": "code",
   "execution_count": 2,
   "id": "aab01603-dbe6-43bf-b512-183ba39eeb6a",
   "metadata": {},
   "outputs": [
    {
     "name": "stderr",
     "output_type": "stream",
     "text": [
      "F:\\miniconda3\\envs\\py\\Lib\\site-packages\\openpyxl\\worksheet\\_reader.py:329: UserWarning: Unknown extension is not supported and will be removed\n",
      "  warn(msg)\n"
     ]
    },
    {
     "data": {
      "text/html": [
       "<div>\n",
       "<style scoped>\n",
       "    .dataframe tbody tr th:only-of-type {\n",
       "        vertical-align: middle;\n",
       "    }\n",
       "\n",
       "    .dataframe tbody tr th {\n",
       "        vertical-align: top;\n",
       "    }\n",
       "\n",
       "    .dataframe thead th {\n",
       "        text-align: right;\n",
       "    }\n",
       "</style>\n",
       "<table border=\"1\" class=\"dataframe\">\n",
       "  <thead>\n",
       "    <tr style=\"text-align: right;\">\n",
       "      <th></th>\n",
       "      <th>Observation Number</th>\n",
       "      <th>dist_cod</th>\n",
       "      <th>county</th>\n",
       "      <th>district</th>\n",
       "      <th>gr_span</th>\n",
       "      <th>enrl_tot</th>\n",
       "      <th>teachers</th>\n",
       "      <th>calw_pct</th>\n",
       "      <th>meal_pct</th>\n",
       "      <th>computer</th>\n",
       "      <th>testscr</th>\n",
       "      <th>comp_stu</th>\n",
       "      <th>expn_stu</th>\n",
       "      <th>str</th>\n",
       "      <th>avginc</th>\n",
       "      <th>el_pct</th>\n",
       "      <th>read_scr</th>\n",
       "      <th>math_scr</th>\n",
       "    </tr>\n",
       "  </thead>\n",
       "  <tbody>\n",
       "    <tr>\n",
       "      <th>0</th>\n",
       "      <td>1</td>\n",
       "      <td>75119</td>\n",
       "      <td>Alameda</td>\n",
       "      <td>Sunol Glen Unified</td>\n",
       "      <td>KK-08</td>\n",
       "      <td>195</td>\n",
       "      <td>10.900000</td>\n",
       "      <td>0.510200</td>\n",
       "      <td>2.040800</td>\n",
       "      <td>67</td>\n",
       "      <td>690.799988</td>\n",
       "      <td>0.343590</td>\n",
       "      <td>6384.911133</td>\n",
       "      <td>17.889910</td>\n",
       "      <td>22.690001</td>\n",
       "      <td>0.000000</td>\n",
       "      <td>691.599976</td>\n",
       "      <td>690.000000</td>\n",
       "    </tr>\n",
       "    <tr>\n",
       "      <th>1</th>\n",
       "      <td>2</td>\n",
       "      <td>61499</td>\n",
       "      <td>Butte</td>\n",
       "      <td>Manzanita Elementary</td>\n",
       "      <td>KK-08</td>\n",
       "      <td>240</td>\n",
       "      <td>11.150000</td>\n",
       "      <td>15.416700</td>\n",
       "      <td>47.916698</td>\n",
       "      <td>101</td>\n",
       "      <td>661.200012</td>\n",
       "      <td>0.420833</td>\n",
       "      <td>5099.380859</td>\n",
       "      <td>21.524664</td>\n",
       "      <td>9.824000</td>\n",
       "      <td>4.583333</td>\n",
       "      <td>660.500000</td>\n",
       "      <td>661.900024</td>\n",
       "    </tr>\n",
       "    <tr>\n",
       "      <th>2</th>\n",
       "      <td>3</td>\n",
       "      <td>61549</td>\n",
       "      <td>Butte</td>\n",
       "      <td>Thermalito Union Elementary</td>\n",
       "      <td>KK-08</td>\n",
       "      <td>1550</td>\n",
       "      <td>82.900002</td>\n",
       "      <td>55.032299</td>\n",
       "      <td>76.322601</td>\n",
       "      <td>169</td>\n",
       "      <td>643.599976</td>\n",
       "      <td>0.109032</td>\n",
       "      <td>5501.954590</td>\n",
       "      <td>18.697226</td>\n",
       "      <td>8.978000</td>\n",
       "      <td>30.000002</td>\n",
       "      <td>636.299988</td>\n",
       "      <td>650.900024</td>\n",
       "    </tr>\n",
       "    <tr>\n",
       "      <th>3</th>\n",
       "      <td>4</td>\n",
       "      <td>61457</td>\n",
       "      <td>Butte</td>\n",
       "      <td>Golden Feather Union Elementary</td>\n",
       "      <td>KK-08</td>\n",
       "      <td>243</td>\n",
       "      <td>14.000000</td>\n",
       "      <td>36.475399</td>\n",
       "      <td>77.049202</td>\n",
       "      <td>85</td>\n",
       "      <td>647.700012</td>\n",
       "      <td>0.349794</td>\n",
       "      <td>7101.831055</td>\n",
       "      <td>17.357143</td>\n",
       "      <td>8.978000</td>\n",
       "      <td>0.000000</td>\n",
       "      <td>651.900024</td>\n",
       "      <td>643.500000</td>\n",
       "    </tr>\n",
       "    <tr>\n",
       "      <th>4</th>\n",
       "      <td>5</td>\n",
       "      <td>61523</td>\n",
       "      <td>Butte</td>\n",
       "      <td>Palermo Union Elementary</td>\n",
       "      <td>KK-08</td>\n",
       "      <td>1335</td>\n",
       "      <td>71.500000</td>\n",
       "      <td>33.108601</td>\n",
       "      <td>78.427002</td>\n",
       "      <td>171</td>\n",
       "      <td>640.849976</td>\n",
       "      <td>0.128090</td>\n",
       "      <td>5235.987793</td>\n",
       "      <td>18.671329</td>\n",
       "      <td>9.080333</td>\n",
       "      <td>13.857677</td>\n",
       "      <td>641.799988</td>\n",
       "      <td>639.900024</td>\n",
       "    </tr>\n",
       "  </tbody>\n",
       "</table>\n",
       "</div>"
      ],
      "text/plain": [
       "   Observation Number  dist_cod   county                         district  \\\n",
       "0                   1     75119  Alameda               Sunol Glen Unified   \n",
       "1                   2     61499    Butte             Manzanita Elementary   \n",
       "2                   3     61549    Butte      Thermalito Union Elementary   \n",
       "3                   4     61457    Butte  Golden Feather Union Elementary   \n",
       "4                   5     61523    Butte         Palermo Union Elementary   \n",
       "\n",
       "  gr_span  enrl_tot   teachers   calw_pct   meal_pct  computer     testscr  \\\n",
       "0   KK-08       195  10.900000   0.510200   2.040800        67  690.799988   \n",
       "1   KK-08       240  11.150000  15.416700  47.916698       101  661.200012   \n",
       "2   KK-08      1550  82.900002  55.032299  76.322601       169  643.599976   \n",
       "3   KK-08       243  14.000000  36.475399  77.049202        85  647.700012   \n",
       "4   KK-08      1335  71.500000  33.108601  78.427002       171  640.849976   \n",
       "\n",
       "   comp_stu     expn_stu        str     avginc     el_pct    read_scr  \\\n",
       "0  0.343590  6384.911133  17.889910  22.690001   0.000000  691.599976   \n",
       "1  0.420833  5099.380859  21.524664   9.824000   4.583333  660.500000   \n",
       "2  0.109032  5501.954590  18.697226   8.978000  30.000002  636.299988   \n",
       "3  0.349794  7101.831055  17.357143   8.978000   0.000000  651.900024   \n",
       "4  0.128090  5235.987793  18.671329   9.080333  13.857677  641.799988   \n",
       "\n",
       "     math_scr  \n",
       "0  690.000000  \n",
       "1  661.900024  \n",
       "2  650.900024  \n",
       "3  643.500000  \n",
       "4  639.900024  "
      ]
     },
     "execution_count": 2,
     "metadata": {},
     "output_type": "execute_result"
    }
   ],
   "source": [
    "df = pd.read_excel(\"data/replication/Replication Data/caschool.xlsx\")\n",
    "df.head()"
   ]
  },
  {
   "cell_type": "code",
   "execution_count": 3,
   "id": "c7ea9d02-74ba-44aa-b113-85949939c588",
   "metadata": {},
   "outputs": [
    {
     "name": "stdout",
     "output_type": "stream",
     "text": [
      "                            OLS Regression Results                            \n",
      "==============================================================================\n",
      "Dep. Variable:                testscr   R-squared:                       0.426\n",
      "Model:                            OLS   Adj. R-squared:                  0.424\n",
      "Method:                 Least Squares   F-statistic:                     222.8\n",
      "Date:                Thu, 11 Jul 2024   Prob (F-statistic):           1.56e-66\n",
      "Time:                        14:57:50   Log-Likelihood:                -1716.6\n",
      "No. Observations:                 420   AIC:                             3439.\n",
      "Df Residuals:                     417   BIC:                             3451.\n",
      "Df Model:                           2                                         \n",
      "Covariance Type:                  HC2                                         \n",
      "==============================================================================\n",
      "                 coef    std err          z      P>|z|      [0.025      0.975]\n",
      "------------------------------------------------------------------------------\n",
      "Intercept    686.0322      8.754     78.365      0.000     668.874     703.190\n",
      "str           -1.1013      0.434     -2.537      0.011      -1.952      -0.250\n",
      "el_pct        -0.6498      0.031    -20.888      0.000      -0.711      -0.589\n",
      "==============================================================================\n",
      "Omnibus:                        0.631   Durbin-Watson:                   0.686\n",
      "Prob(Omnibus):                  0.729   Jarque-Bera (JB):                0.550\n",
      "Skew:                           0.088   Prob(JB):                        0.760\n",
      "Kurtosis:                       3.024   Cond. No.                         301.\n",
      "==============================================================================\n",
      "\n",
      "Notes:\n",
      "[1] Standard Errors are heteroscedasticity robust (HC2)\n"
     ]
    }
   ],
   "source": [
    "model = smf.ols('testscr ~ str + el_pct', data =df).fit(cov_type='HC2')\n",
    "print(model.summary())"
   ]
  },
  {
   "cell_type": "code",
   "execution_count": 4,
   "id": "83e03d33-db73-451b-ba96-0d01a6ff5fd8",
   "metadata": {},
   "outputs": [
    {
     "data": {
      "text/plain": [
       "Intercept    78.364956\n",
       "str          -2.536570\n",
       "el_pct      -20.888079\n",
       "dtype: float64"
      ]
     },
     "execution_count": 4,
     "metadata": {},
     "output_type": "execute_result"
    }
   ],
   "source": [
    "model.tvalues"
   ]
  },
  {
   "cell_type": "code",
   "execution_count": 5,
   "id": "da6c4abf-1d7d-44e9-8699-51151c7fb752",
   "metadata": {},
   "outputs": [
    {
     "data": {
      "text/plain": [
       "Intercept    0.000000e+00\n",
       "str          1.119444e-02\n",
       "el_pct       6.872883e-97\n",
       "dtype: float64"
      ]
     },
     "execution_count": 5,
     "metadata": {},
     "output_type": "execute_result"
    }
   ],
   "source": [
    "model.pvalues"
   ]
  },
  {
   "cell_type": "markdown",
   "id": "c51dae02-dc94-47fe-8ecd-ae2b69a28947",
   "metadata": {},
   "source": [
    "the null hypothesis can be rejected at the 5% significance level (but not quite at the 1%\n",
    "significance level)."
   ]
  },
  {
   "cell_type": "code",
   "execution_count": 6,
   "id": "63aca470-42e6-45c3-9139-a6307dc2a1c5",
   "metadata": {},
   "outputs": [
    {
     "data": {
      "text/html": [
       "<div>\n",
       "<style scoped>\n",
       "    .dataframe tbody tr th:only-of-type {\n",
       "        vertical-align: middle;\n",
       "    }\n",
       "\n",
       "    .dataframe tbody tr th {\n",
       "        vertical-align: top;\n",
       "    }\n",
       "\n",
       "    .dataframe thead th {\n",
       "        text-align: right;\n",
       "    }\n",
       "</style>\n",
       "<table border=\"1\" class=\"dataframe\">\n",
       "  <thead>\n",
       "    <tr style=\"text-align: right;\">\n",
       "      <th></th>\n",
       "      <th>0</th>\n",
       "      <th>1</th>\n",
       "    </tr>\n",
       "  </thead>\n",
       "  <tbody>\n",
       "    <tr>\n",
       "      <th>Intercept</th>\n",
       "      <td>668.874088</td>\n",
       "      <td>703.190409</td>\n",
       "    </tr>\n",
       "    <tr>\n",
       "      <th>str</th>\n",
       "      <td>-1.952248</td>\n",
       "      <td>-0.250343</td>\n",
       "    </tr>\n",
       "    <tr>\n",
       "      <th>el_pct</th>\n",
       "      <td>-0.710746</td>\n",
       "      <td>-0.588807</td>\n",
       "    </tr>\n",
       "  </tbody>\n",
       "</table>\n",
       "</div>"
      ],
      "text/plain": [
       "                    0           1\n",
       "Intercept  668.874088  703.190409\n",
       "str         -1.952248   -0.250343\n",
       "el_pct      -0.710746   -0.588807"
      ]
     },
     "execution_count": 6,
     "metadata": {},
     "output_type": "execute_result"
    }
   ],
   "source": [
    "model.conf_int()"
   ]
  },
  {
   "cell_type": "markdown",
   "id": "881e7381-5dca-422c-9adb-c438116dde6b",
   "metadata": {},
   "source": [
    "we can be 95% confident that the\n",
    "true value of the coefficient is between -1.95 and -0.26. "
   ]
  },
  {
   "cell_type": "code",
   "execution_count": 7,
   "id": "f21057a1-54ff-43dc-9b40-e78b887ea65b",
   "metadata": {},
   "outputs": [
    {
     "data": {
      "text/html": [
       "<div>\n",
       "<style scoped>\n",
       "    .dataframe tbody tr th:only-of-type {\n",
       "        vertical-align: middle;\n",
       "    }\n",
       "\n",
       "    .dataframe tbody tr th {\n",
       "        vertical-align: top;\n",
       "    }\n",
       "\n",
       "    .dataframe thead th {\n",
       "        text-align: right;\n",
       "    }\n",
       "</style>\n",
       "<table border=\"1\" class=\"dataframe\">\n",
       "  <thead>\n",
       "    <tr style=\"text-align: right;\">\n",
       "      <th></th>\n",
       "      <th>0</th>\n",
       "      <th>1</th>\n",
       "    </tr>\n",
       "  </thead>\n",
       "  <tbody>\n",
       "    <tr>\n",
       "      <th>Intercept</th>\n",
       "      <td>-1337.748176</td>\n",
       "      <td>-1406.380819</td>\n",
       "    </tr>\n",
       "    <tr>\n",
       "      <th>str</th>\n",
       "      <td>3.904497</td>\n",
       "      <td>0.500687</td>\n",
       "    </tr>\n",
       "    <tr>\n",
       "      <th>el_pct</th>\n",
       "      <td>1.421493</td>\n",
       "      <td>1.177614</td>\n",
       "    </tr>\n",
       "  </tbody>\n",
       "</table>\n",
       "</div>"
      ],
      "text/plain": [
       "                     0            1\n",
       "Intercept -1337.748176 -1406.380819\n",
       "str           3.904497     0.500687\n",
       "el_pct        1.421493     1.177614"
      ]
     },
     "execution_count": 7,
     "metadata": {},
     "output_type": "execute_result"
    }
   ],
   "source": [
    "model.conf_int() *-2"
   ]
  },
  {
   "cell_type": "markdown",
   "id": "b6a27da7-eacc-451c-b0ed-b762b7540fb7",
   "metadata": {},
   "source": [
    "Interval if str decreases by two is (10.52, 3.902)"
   ]
  },
  {
   "cell_type": "markdown",
   "id": "ce717e1b-becb-4de8-820b-d1b23c2e43a0",
   "metadata": {},
   "source": [
    "### Adding expenditures per pupil"
   ]
  },
  {
   "cell_type": "markdown",
   "id": "8122135d-58b0-4d44-88cd-ad1a8d2aa806",
   "metadata": {},
   "source": [
    "If manager is to hire more teachers, she can pay for those teachers either by making cuts elsewhere in the budget (no new computers, reduced maintenance, and so on) or by asking for an increase in her budget, which taxpayers do not\n",
    "favor. What, she asks, is the effect on test scores of reducing the student–teacher ratio,\n",
    "holding expenditures per pupil (and the percentage of English learners) constant?"
   ]
  },
  {
   "cell_type": "code",
   "execution_count": 8,
   "id": "e27b0cb5-7104-44d3-9fca-5b84545f6b24",
   "metadata": {},
   "outputs": [
    {
     "name": "stdout",
     "output_type": "stream",
     "text": [
      "                            OLS Regression Results                            \n",
      "==============================================================================\n",
      "Dep. Variable:                testscr   R-squared:                       0.437\n",
      "Model:                            OLS   Adj. R-squared:                  0.433\n",
      "Method:                 Least Squares   F-statistic:                     146.4\n",
      "Date:                Thu, 11 Jul 2024   Prob (F-statistic):           9.03e-65\n",
      "Time:                        14:57:50   Log-Likelihood:                -1712.8\n",
      "No. Observations:                 420   AIC:                             3434.\n",
      "Df Residuals:                     416   BIC:                             3450.\n",
      "Df Model:                           3                                         \n",
      "Covariance Type:                  HC2                                         \n",
      "======================================================================================\n",
      "                         coef    std err          z      P>|z|      [0.025      0.975]\n",
      "--------------------------------------------------------------------------------------\n",
      "Intercept            649.5779     15.525     41.840      0.000     619.149     680.007\n",
      "str                   -0.2864      0.484     -0.592      0.554      -1.234       0.661\n",
      "I(expn_stu / 1000)     3.8679      1.590      2.432      0.015       0.751       6.984\n",
      "el_pct                -0.6560      0.032    -20.583      0.000      -0.718      -0.594\n",
      "==============================================================================\n",
      "Omnibus:                        0.046   Durbin-Watson:                   0.742\n",
      "Prob(Omnibus):                  0.977   Jarque-Bera (JB):                0.070\n",
      "Skew:                          -0.025   Prob(JB):                        0.966\n",
      "Kurtosis:                       2.962   Cond. No.                         631.\n",
      "==============================================================================\n",
      "\n",
      "Notes:\n",
      "[1] Standard Errors are heteroscedasticity robust (HC2)\n"
     ]
    }
   ],
   "source": [
    "model2 = smf.ols('testscr ~ str + I(expn_stu / 1000) + el_pct', data =df).fit(cov_type='HC2')\n",
    "print(model2.summary())"
   ]
  },
  {
   "cell_type": "markdown",
   "id": "535ec6e7-91fb-4801-8b64-27baaf596407",
   "metadata": {},
   "source": [
    "Expn (in book) is total annual expenditures per pupil in the district in thousands of\n",
    "dollars unlike the dataset"
   ]
  },
  {
   "cell_type": "markdown",
   "id": "6701ce35-6a9f-45b6-ab68-7e1558e42c29",
   "metadata": {},
   "source": [
    "Holding expenditures per pupil and the percentage of\n",
    "English learners constant, changing the student–teacher ratio is estimated to have a\n",
    "very small effect on test scores"
   ]
  },
  {
   "cell_type": "code",
   "execution_count": 9,
   "id": "fd85eedf-4609-4b83-88e1-26519fe2633a",
   "metadata": {},
   "outputs": [
    {
     "data": {
      "text/plain": [
       "Intercept             41.839919\n",
       "str                   -0.592206\n",
       "I(expn_stu / 1000)     2.432447\n",
       "el_pct               -20.583253\n",
       "dtype: float64"
      ]
     },
     "execution_count": 9,
     "metadata": {},
     "output_type": "execute_result"
    }
   ],
   "source": [
    "model2.tvalues"
   ]
  },
  {
   "cell_type": "code",
   "execution_count": 10,
   "id": "60c01ad2-ee6c-4860-8058-9f992dc89678",
   "metadata": {},
   "outputs": [
    {
     "data": {
      "text/plain": [
       "Intercept             0.000000e+00\n",
       "str                   5.537124e-01\n",
       "I(expn_stu / 1000)    1.499718e-02\n",
       "el_pct                3.877673e-94\n",
       "dtype: float64"
      ]
     },
     "execution_count": 10,
     "metadata": {},
     "output_type": "execute_result"
    }
   ],
   "source": [
    "model2.pvalues"
   ]
  },
  {
   "cell_type": "code",
   "execution_count": 11,
   "id": "f14367c0-7cf0-4a5c-8a29-8b7c2a9b198d",
   "metadata": {},
   "outputs": [
    {
     "data": {
      "text/html": [
       "<div>\n",
       "<style scoped>\n",
       "    .dataframe tbody tr th:only-of-type {\n",
       "        vertical-align: middle;\n",
       "    }\n",
       "\n",
       "    .dataframe tbody tr th {\n",
       "        vertical-align: top;\n",
       "    }\n",
       "\n",
       "    .dataframe thead th {\n",
       "        text-align: right;\n",
       "    }\n",
       "</style>\n",
       "<table border=\"1\" class=\"dataframe\">\n",
       "  <thead>\n",
       "    <tr style=\"text-align: right;\">\n",
       "      <th></th>\n",
       "      <th>0</th>\n",
       "      <th>1</th>\n",
       "    </tr>\n",
       "  </thead>\n",
       "  <tbody>\n",
       "    <tr>\n",
       "      <th>Intercept</th>\n",
       "      <td>619.148888</td>\n",
       "      <td>680.007007</td>\n",
       "    </tr>\n",
       "    <tr>\n",
       "      <th>str</th>\n",
       "      <td>-1.234265</td>\n",
       "      <td>0.661467</td>\n",
       "    </tr>\n",
       "    <tr>\n",
       "      <th>I(expn_stu / 1000)</th>\n",
       "      <td>0.751309</td>\n",
       "      <td>6.984495</td>\n",
       "    </tr>\n",
       "    <tr>\n",
       "      <th>el_pct</th>\n",
       "      <td>-0.718490</td>\n",
       "      <td>-0.593555</td>\n",
       "    </tr>\n",
       "  </tbody>\n",
       "</table>\n",
       "</div>"
      ],
      "text/plain": [
       "                             0           1\n",
       "Intercept           619.148888  680.007007\n",
       "str                  -1.234265    0.661467\n",
       "I(expn_stu / 1000)    0.751309    6.984495\n",
       "el_pct               -0.718490   -0.593555"
      ]
     },
     "execution_count": 11,
     "metadata": {},
     "output_type": "execute_result"
    }
   ],
   "source": [
    "model2.conf_int()"
   ]
  },
  {
   "cell_type": "markdown",
   "id": "d79d5d2e-e0ab-4ca9-93fe-4c6781ecb1fd",
   "metadata": {},
   "source": [
    "the hypothesis that the population value of\n",
    "this coefficient is indeed 0 cannot be rejected even at the 10% significance level.\n",
    "  \n",
    "The model provides no evidence that hiring more teachers improves test scores if overall expenditures per pupil are held constant"
   ]
  },
  {
   "cell_type": "markdown",
   "id": "0bdccdc6-b8ba-4dc1-b42b-ca57faa2786b",
   "metadata": {},
   "source": [
    "If  the\n",
    "coefficient on STR in the model were negative and large. If so, school districts could\n",
    "raise their test scores simply by decreasing funding for other purposes (textbooks, technology, sports, and so on) and using those funds to hire more teachers"
   ]
  },
  {
   "cell_type": "markdown",
   "id": "4b4a8574-21ea-4b56-b18b-322d13038566",
   "metadata": {},
   "source": [
    "Standard error increases in model2 compared to model due to multicollinearity"
   ]
  },
  {
   "cell_type": "markdown",
   "id": "acfb4e90-0ce9-4d48-8034-e28e94f3d0af",
   "metadata": {},
   "source": [
    "## Joint Hypotheses"
   ]
  },
  {
   "cell_type": "markdown",
   "id": "d1ce97b4-4622-4ff5-9714-8dab9b34e44a",
   "metadata": {},
   "source": [
    "Tax payer asserts that the population values of both\n",
    "the coefficient on the student–teacher ratio ($\\beta_1$) and the coefficient on spending per\n",
    "pupil ($\\beta_2$) are 0; "
   ]
  },
  {
   "cell_type": "code",
   "execution_count": 12,
   "id": "c68240e4-49a2-4998-b97b-e9c392d803a0",
   "metadata": {},
   "outputs": [],
   "source": [
    "constraints = 'str = 0, I(expn_stu / 1000) = 0'"
   ]
  },
  {
   "cell_type": "code",
   "execution_count": 13,
   "id": "a20ed144-ad11-44ea-b401-8a11d58a6a4d",
   "metadata": {},
   "outputs": [
    {
     "data": {
      "text/plain": [
       "<class 'statsmodels.stats.contrast.ContrastResults'>\n",
       "<F test: F=5.372980036466773, p=0.004967910226898628, df_denom=416, df_num=2>"
      ]
     },
     "execution_count": 13,
     "metadata": {},
     "output_type": "execute_result"
    }
   ],
   "source": [
    "model2.f_test(constraints)"
   ]
  },
  {
   "cell_type": "markdown",
   "id": "8d79643f-df4e-46a5-9938-e71bf4d92227",
   "metadata": {},
   "source": [
    "We can reject the taxpayer’s hypothesis that neither the student–teacher ratio nor expenditures per pupil have an effect\n",
    "on test scores (holding constant the percentage of English learners)"
   ]
  },
  {
   "cell_type": "markdown",
   "id": "76924e64-c48e-490e-bd53-37f0b67ecec4",
   "metadata": {},
   "source": [
    "### The Homoskedasticity-Only F-Statistic"
   ]
  },
  {
   "cell_type": "code",
   "execution_count": 14,
   "id": "cbc42287-59bb-4fc1-9181-ca2ed1b9377a",
   "metadata": {},
   "outputs": [
    {
     "name": "stdout",
     "output_type": "stream",
     "text": [
      "                            OLS Regression Results                            \n",
      "==============================================================================\n",
      "Dep. Variable:                testscr   R-squared:                       0.437\n",
      "Model:                            OLS   Adj. R-squared:                  0.433\n",
      "Method:                 Least Squares   F-statistic:                     107.5\n",
      "Date:                Thu, 11 Jul 2024   Prob (F-statistic):           1.60e-51\n",
      "Time:                        14:57:50   Log-Likelihood:                -1712.8\n",
      "No. Observations:                 420   AIC:                             3434.\n",
      "Df Residuals:                     416   BIC:                             3450.\n",
      "Df Model:                           3                                         \n",
      "Covariance Type:            nonrobust                                         \n",
      "======================================================================================\n",
      "                         coef    std err          t      P>|t|      [0.025      0.975]\n",
      "--------------------------------------------------------------------------------------\n",
      "Intercept            649.5779     15.206     42.719      0.000     619.688     679.468\n",
      "str                   -0.2864      0.481     -0.596      0.551      -1.231       0.658\n",
      "I(expn_stu / 1000)     3.8679      1.412      2.739      0.006       1.092       6.644\n",
      "el_pct                -0.6560      0.039    -16.776      0.000      -0.733      -0.579\n",
      "==============================================================================\n",
      "Omnibus:                        0.046   Durbin-Watson:                   0.742\n",
      "Prob(Omnibus):                  0.977   Jarque-Bera (JB):                0.070\n",
      "Skew:                          -0.025   Prob(JB):                        0.966\n",
      "Kurtosis:                       2.962   Cond. No.                         631.\n",
      "==============================================================================\n",
      "\n",
      "Notes:\n",
      "[1] Standard Errors assume that the covariance matrix of the errors is correctly specified.\n"
     ]
    }
   ],
   "source": [
    "model3 = smf.ols('testscr ~ str + I(expn_stu / 1000) + el_pct', data =df).fit()\n",
    "print(model3.summary())"
   ]
  },
  {
   "cell_type": "code",
   "execution_count": 15,
   "id": "675f5c7e-4f83-4d4b-8853-7e7576134b5d",
   "metadata": {},
   "outputs": [],
   "source": [
    "constraints = 'str = 0, I(expn_stu / 1000) = 0'"
   ]
  },
  {
   "cell_type": "code",
   "execution_count": 16,
   "id": "1260f52c-99a5-425f-bac0-d62bdecd23a0",
   "metadata": {},
   "outputs": [
    {
     "data": {
      "text/plain": [
       "<class 'statsmodels.stats.contrast.ContrastResults'>\n",
       "<F test: F=8.010126233882449, p=0.0003859745281015147, df_denom=416, df_num=2>"
      ]
     },
     "execution_count": 16,
     "metadata": {},
     "output_type": "execute_result"
    }
   ],
   "source": [
    "model3.f_test(constraints)"
   ]
  },
  {
   "cell_type": "markdown",
   "id": "d48981fa-496b-4919-92c6-816113a0d6fe",
   "metadata": {},
   "source": [
    "The hypothesis is rejected at the\n",
    "1% level using the homoskedasticity-only test."
   ]
  },
  {
   "cell_type": "markdown",
   "id": "2c82236b-19f2-495a-8a46-36a1631f8814",
   "metadata": {},
   "source": [
    "The other method (however tedious) is to do both restricted regression and unrestricted regression and calculate f manuallly"
   ]
  },
  {
   "cell_type": "markdown",
   "id": "1cd183c9-9b31-4db6-96e3-3a233b725045",
   "metadata": {},
   "source": [
    "## Testing Single Restrictions Involving Multiple Coefficients"
   ]
  },
  {
   "cell_type": "markdown",
   "id": "128a0f0b-0ebe-4a04-9295-8f16f159a39d",
   "metadata": {},
   "source": [
    "\n",
    "Null Hypothesis \n",
    "$ H_0: \\beta_1 = \\beta_2 $\n",
    "\n",
    "Alternative Hypothesis\n",
    "$ H_A: \\beta_1 \\neq \\beta_2 $\n"
   ]
  },
  {
   "cell_type": "code",
   "execution_count": 17,
   "id": "70be37a1-25bd-4330-8ec1-bbc226aa1cb2",
   "metadata": {},
   "outputs": [],
   "source": [
    "constraints = 'str - I(expn_stu / 1000) = 0'"
   ]
  },
  {
   "cell_type": "code",
   "execution_count": 18,
   "id": "89b2ed00-1abc-48b6-b930-7ff6cc4b0cdc",
   "metadata": {},
   "outputs": [
    {
     "data": {
      "text/plain": [
       "<class 'statsmodels.stats.contrast.ContrastResults'>\n",
       "<F test: F=8.830038052533293, p=0.0031350569277935167, df_denom=416, df_num=1>"
      ]
     },
     "execution_count": 18,
     "metadata": {},
     "output_type": "execute_result"
    }
   ],
   "source": [
    "model2.f_test(constraints)"
   ]
  },
  {
   "cell_type": "markdown",
   "id": "6c3f909d-8a51-46b4-86ed-c48cc0900661",
   "metadata": {},
   "source": [
    "reject the null hypothesis"
   ]
  },
  {
   "cell_type": "markdown",
   "id": "5a62d265-a07a-4580-8334-0037caa554fb",
   "metadata": {},
   "source": [
    "## Confidence Sets for Multiple Coefficients"
   ]
  },
  {
   "cell_type": "code",
   "execution_count": 19,
   "id": "e2e5c4eb-00ea-4b1d-b5a9-cb7bfd6910a6",
   "metadata": {},
   "outputs": [],
   "source": [
    "import numpy as np\n",
    "import matplotlib.pyplot as plt\n",
    "from matplotlib.patches import Ellipse\n",
    "\n",
    "def plot_coefficient_confidence_ellipse(model, regressor1, regressor2=None, intercept=0, confidence_level=0.95, xlim=None, ylim=None, xticks=None, yticks=None):\n",
    "    # Extract coefficients and covariance matrix\n",
    "    params = model.params\n",
    "    cov_params = model.cov_params()\n",
    "\n",
    "    if regressor2 is None:\n",
    "        # Single regressor case\n",
    "        regressors = [regressor1]\n",
    "        se_regressors = [np.sqrt(cov_params.loc[regressor1, regressor1])]\n",
    "        center = params[regressor1]\n",
    "        width = 2 * se_regressors[0]\n",
    "\n",
    "    else:\n",
    "        # Two regressors case\n",
    "        regressors = [regressor1, regressor2]\n",
    "        se_regressors = [np.sqrt(cov_params.loc[regressor1, regressor1]), np.sqrt(cov_params.loc[regressor2, regressor2])]\n",
    "        center = params[[regressor1, regressor2]].values\n",
    "        width = 2 * se_regressors[0]\n",
    "        height = 2 * se_regressors[1]\n",
    "\n",
    "        # Calculate the covariance between regressor1 and regressor2\n",
    "        cov_regressor1_regressor2 = cov_params.loc[regressor1, regressor2]\n",
    "\n",
    "    # Plotting\n",
    "    fig, ax = plt.subplots()\n",
    "    ax.set_aspect('equal')\n",
    "\n",
    "    # Confidence level\n",
    "    n_std = np.sqrt(-2 * np.log(1 - confidence_level))  # Number of standard deviations\n",
    "\n",
    "    if regressor2 is None:\n",
    "        # Single regressor case\n",
    "        ellipse = Ellipse(xy=(center, intercept), width=n_std * width, height=n_std * width,\n",
    "                          angle=0, edgecolor='r', fc='None', lw=2)\n",
    "\n",
    "        ax.add_patch(ellipse)\n",
    "        ax.scatter(params[regressor1], intercept, marker='o', color='r')  # Center point\n",
    "\n",
    "        # Labels and title\n",
    "        ax.set_xlabel(r'$\\beta$ ({})'.format(regressor1))\n",
    "        ax.set_ylabel(r'Intercept ($\\beta_0$)')\n",
    "        ax.set_title('Confidence Ellipse of Coefficient')\n",
    "\n",
    "    else:\n",
    "        # Two regressors case\n",
    "        ellipse = Ellipse(xy=center, width=n_std * width, height=n_std * height,\n",
    "                          angle=np.degrees(np.arctan(2 * cov_regressor1_regressor2 / (se_regressors[0]**2 - se_regressors[1]**2)) / 2),\n",
    "                          edgecolor='r', fc='None', lw=2)\n",
    "\n",
    "        ax.add_patch(ellipse)\n",
    "        ax.scatter(params[regressor1], params[regressor2], marker='o', color='r')  # Center point\n",
    "\n",
    "        # Labels and title\n",
    "        ax.set_xlabel(r'$\\beta_1$ ({})'.format(regressor1))\n",
    "        ax.set_ylabel(r'$\\beta_2$ ({})'.format(regressor2))\n",
    "        ax.set_title('Confidence Ellipse of Coefficients')\n",
    "\n",
    "    # Set x-axis and y-axis limits if provided\n",
    "    if xlim is not None:\n",
    "        ax.set_xlim(xlim)\n",
    "    if ylim is not None:\n",
    "        ax.set_ylim(ylim)\n",
    "\n",
    "     # Set x-axis and y-axis limits if provided\n",
    "    if xlim is not None:\n",
    "        ax.set_xlim(xlim)\n",
    "    if ylim is not None:\n",
    "        ax.set_ylim(ylim)\n",
    "\n",
    "    # Set xticks and yticks if provided\n",
    "    if xticks is not None:\n",
    "        ax.set_xticks(xticks)\n",
    "        plt.xticks(rotation=90)\n",
    "    if yticks is not None:\n",
    "        ax.set_yticks(yticks)\n",
    "\n",
    "    plt.grid(True)\n",
    "    plt.show()\n"
   ]
  },
  {
   "cell_type": "code",
   "execution_count": 20,
   "id": "7a8b118f-61c6-45cc-80df-20520f01a3b2",
   "metadata": {},
   "outputs": [
    {
     "data": {
      "image/png": "[encoded data removed]",
      "text/plain": [
       "<Figure size 640x480 with 1 Axes>"
      ]
     },
     "metadata": {},
     "output_type": "display_data"
    }
   ],
   "source": [
    " plot_coefficient_confidence_ellipse(model, 'str')"
   ]
  },
  {
   "cell_type": "code",
   "execution_count": 21,
   "id": "fa0b0a9d-63a4-411c-9576-4484825ea2be",
   "metadata": {},
   "outputs": [
    {
     "data": {
      "image/png": "[encoded data removed]",
      "text/plain": [
       "<Figure size 640x480 with 1 Axes>"
      ]
     },
     "metadata": {},
     "output_type": "display_data"
    }
   ],
   "source": [
    " plot_coefficient_confidence_ellipse(model, 'str','el_pct')"
   ]
  },
  {
   "cell_type": "code",
   "execution_count": 22,
   "id": "745d98c3-99e1-4bd5-ac7c-32978ce60abf",
   "metadata": {},
   "outputs": [
    {
     "data": {
      "image/png": "[encoded data removed]",
      "text/plain": [
       "<Figure size 640x480 with 1 Axes>"
      ]
     },
     "metadata": {},
     "output_type": "display_data"
    }
   ],
   "source": [
    " plot_coefficient_confidence_ellipse(model2, 'str','I(expn_stu / 1000)',\n",
    "                                     xlim = (-2,1.5), ylim = (-1,9),\n",
    "                                    xticks = np.arange(-2,3,0.5))"
   ]
  },
  {
   "cell_type": "code",
   "execution_count": 23,
   "id": "030b23b5-f5f6-42ce-ade7-76f66d16f8fb",
   "metadata": {},
   "outputs": [
    {
     "data": {
      "image/png": "[encoded data removed]",
      "text/plain": [
       "<Figure size 640x480 with 1 Axes>"
      ]
     },
     "metadata": {},
     "output_type": "display_data"
    }
   ],
   "source": [
    " plot_coefficient_confidence_ellipse(model3, 'str','I(expn_stu / 1000)')"
   ]
  },
  {
   "cell_type": "code",
   "execution_count": 24,
   "id": "166740e2-26e8-4138-8a92-a6563b680f35",
   "metadata": {},
   "outputs": [
    {
     "data": {
      "image/png": "[encoded data removed]",
      "text/plain": [
       "<Figure size 640x480 with 1 Axes>"
      ]
     },
     "metadata": {},
     "output_type": "display_data"
    }
   ],
   "source": [
    " plot_coefficient_confidence_ellipse(model2, 'str','I(expn_stu / 1000)')"
   ]
  },
  {
   "cell_type": "markdown",
   "id": "1a5cc754-0881-43da-8a79-b09e4bb57510",
   "metadata": {},
   "source": [
    "## Model Specification for Multiple Regression"
   ]
  },
  {
   "cell_type": "markdown",
   "id": "af06d80c-51b7-479d-9e28-45f8f6e020b0",
   "metadata": {},
   "source": [
    "Refer to theory and experts to decide on base specification then compare it with alternative specifications "
   ]
  },
  {
   "cell_type": "markdown",
   "id": "c1db9205-c55f-41ac-8558-1cbef8524b14",
   "metadata": {},
   "source": [
    "## Analysis of the Test Score Data Set"
   ]
  },
  {
   "cell_type": "code",
   "execution_count": 25,
   "id": "ab804c9b-2e5b-4c4b-93c4-e1d3930edd19",
   "metadata": {},
   "outputs": [
    {
     "data": {
      "text/plain": [
       "Index(['Observation Number', 'dist_cod', 'county', 'district', 'gr_span',\n",
       "       'enrl_tot', 'teachers', 'calw_pct', 'meal_pct', 'computer', 'testscr',\n",
       "       'comp_stu', 'expn_stu', 'str', 'avginc', 'el_pct', 'read_scr',\n",
       "       'math_scr'],\n",
       "      dtype='object')"
      ]
     },
     "execution_count": 25,
     "metadata": {},
     "output_type": "execute_result"
    }
   ],
   "source": [
    "df.columns"
   ]
  },
  {
   "cell_type": "code",
   "execution_count": 26,
   "id": "387c0233-3d8a-43eb-afdf-215596e75fd3",
   "metadata": {},
   "outputs": [
    {
     "data": {
      "image/png": "[encoded data removed]",
      "text/plain": [
       "<Figure size 640x480 with 1 Axes>"
      ]
     },
     "metadata": {},
     "output_type": "display_data"
    }
   ],
   "source": [
    "sns.scatterplot(x='el_pct', y='testscr', data=df);"
   ]
  },
  {
   "cell_type": "code",
   "execution_count": 27,
   "id": "cb5d49c3-6285-4984-8aa8-f2a24371a389",
   "metadata": {},
   "outputs": [
    {
     "data": {
      "image/png": "[encoded data removed]",
      "text/plain": [
       "<Figure size 640x480 with 1 Axes>"
      ]
     },
     "metadata": {},
     "output_type": "display_data"
    }
   ],
   "source": [
    "sns.scatterplot(x='meal_pct', y='testscr', data=df);"
   ]
  },
  {
   "cell_type": "code",
   "execution_count": 28,
   "id": "abd80243-db55-4faa-9849-e08821a5abc7",
   "metadata": {},
   "outputs": [
    {
     "data": {
      "image/png": "[encoded data removed]",
      "text/plain": [
       "<Figure size 640x480 with 1 Axes>"
      ]
     },
     "metadata": {},
     "output_type": "display_data"
    }
   ],
   "source": [
    "sns.scatterplot(x='calw_pct', y='testscr', data=df);"
   ]
  },
  {
   "cell_type": "markdown",
   "id": "6e62f28d-1812-4bed-995d-b1efac043060",
   "metadata": {},
   "source": [
    "For base model, we use str, el_pct, meal_pct"
   ]
  },
  {
   "cell_type": "code",
   "execution_count": 29,
   "id": "648909cd-5716-46ae-a046-8bffd36195e9",
   "metadata": {},
   "outputs": [
    {
     "name": "stdout",
     "output_type": "stream",
     "text": [
      "                            OLS Regression Results                            \n",
      "==============================================================================\n",
      "Dep. Variable:                testscr   R-squared:                       0.051\n",
      "Model:                            OLS   Adj. R-squared:                  0.049\n",
      "Method:                 Least Squares   F-statistic:                     19.13\n",
      "Date:                Thu, 11 Jul 2024   Prob (F-statistic):           1.55e-05\n",
      "Time:                        14:57:52   Log-Likelihood:                -1822.2\n",
      "No. Observations:                 420   AIC:                             3648.\n",
      "Df Residuals:                     418   BIC:                             3657.\n",
      "Df Model:                           1                                         \n",
      "Covariance Type:                  HC2                                         \n",
      "==============================================================================\n",
      "                 coef    std err          z      P>|z|      [0.025      0.975]\n",
      "------------------------------------------------------------------------------\n",
      "Intercept    698.9330     10.400     67.206      0.000     678.550     719.316\n",
      "str           -2.2798      0.521     -4.373      0.000      -3.302      -1.258\n",
      "==============================================================================\n",
      "Omnibus:                        5.390   Durbin-Watson:                   0.129\n",
      "Prob(Omnibus):                  0.068   Jarque-Bera (JB):                3.589\n",
      "Skew:                          -0.012   Prob(JB):                        0.166\n",
      "Kurtosis:                       2.548   Cond. No.                         207.\n",
      "==============================================================================\n",
      "\n",
      "Notes:\n",
      "[1] Standard Errors are heteroscedasticity robust (HC2)\n",
      "******************************************************************************************\n",
      "Number of Observations (nobs): 420.0\n",
      "Adjusted R-squared: 0.048970334541527216\n",
      "Standard Error of Regression (SER): 18.58096749678702\n",
      "******************************************************************************************\n",
      "Coefficient of 'str': -2.2798082870234486\n",
      "Standard Error of 'str' coefficient: 0.5212891489361441\n",
      "Confidence Interval of 'str' coefficient: 0   -3.301516\n",
      "1   -1.258100\n",
      "Name: str, dtype: float64\n",
      "******************************************************************************************\n",
      "Coefficient of intercept: 698.9329523279791\n",
      "Standard Error of 'intercept' coefficient: 10.399789809001236\n",
      "Control Variables:\n"
     ]
    }
   ],
   "source": [
    "model4 = smf.ols('testscr ~ str', data =df).fit(cov_type = 'HC2')\n",
    "print(model4.summary())\n",
    "print(\"*\"*90)\n",
    "print(\"Number of Observations (nobs):\", model4.nobs)\n",
    "print(\"Adjusted R-squared:\", model4.rsquared_adj)\n",
    "print(\"Standard Error of Regression (SER):\", math.sqrt(model4.ssr / model4.df_resid))\n",
    "print(\"*\"*90)\n",
    "print(\"Coefficient of 'str':\", model4.params['str'])\n",
    "print(\"Standard Error of 'str' coefficient:\", model4.bse['str'])\n",
    "print(\"Confidence Interval of 'str' coefficient:\", model4.conf_int().loc['str'])\n",
    "print(\"*\"*90)\n",
    "print(\"Coefficient of intercept:\", model4.params['Intercept'])\n",
    "print(\"Standard Error of 'intercept' coefficient:\", model4.bse['Intercept'])\n",
    "print(\"Control Variables:\")"
   ]
  },
  {
   "cell_type": "code",
   "execution_count": 30,
   "id": "eb5edf2c-22c0-46b9-ab19-368c9ef2728b",
   "metadata": {},
   "outputs": [
    {
     "name": "stdout",
     "output_type": "stream",
     "text": [
      "                            OLS Regression Results                            \n",
      "==============================================================================\n",
      "Dep. Variable:                testscr   R-squared:                       0.426\n",
      "Model:                            OLS   Adj. R-squared:                  0.424\n",
      "Method:                 Least Squares   F-statistic:                     222.8\n",
      "Date:                Thu, 11 Jul 2024   Prob (F-statistic):           1.56e-66\n",
      "Time:                        14:57:52   Log-Likelihood:                -1716.6\n",
      "No. Observations:                 420   AIC:                             3439.\n",
      "Df Residuals:                     417   BIC:                             3451.\n",
      "Df Model:                           2                                         \n",
      "Covariance Type:                  HC2                                         \n",
      "==============================================================================\n",
      "                 coef    std err          z      P>|z|      [0.025      0.975]\n",
      "------------------------------------------------------------------------------\n",
      "Intercept    686.0322      8.754     78.365      0.000     668.874     703.190\n",
      "str           -1.1013      0.434     -2.537      0.011      -1.952      -0.250\n",
      "el_pct        -0.6498      0.031    -20.888      0.000      -0.711      -0.589\n",
      "==============================================================================\n",
      "Omnibus:                        0.631   Durbin-Watson:                   0.686\n",
      "Prob(Omnibus):                  0.729   Jarque-Bera (JB):                0.550\n",
      "Skew:                           0.088   Prob(JB):                        0.760\n",
      "Kurtosis:                       3.024   Cond. No.                         301.\n",
      "==============================================================================\n",
      "\n",
      "Notes:\n",
      "[1] Standard Errors are heteroscedasticity robust (HC2)\n",
      "******************************************************************************************\n",
      "Number of Observations (nobs): 420.0\n",
      "Adjusted R-squared: 0.4236804327106266\n",
      "Standard Error of Regression (SER): 14.4644849557101\n",
      "******************************************************************************************\n",
      "Coefficient of 'str': -1.101295888867436\n",
      "Standard Error of 'str' coefficient: 0.4341673903333591\n",
      "Confidence Interval of 'str' coefficient: 0   -1.952248\n",
      "1   -0.250343\n",
      "Name: str, dtype: float64\n",
      "******************************************************************************************\n",
      "Coefficient of intercept: 686.0322486844\n",
      "Standard Error of 'intercept' coefficient: 8.754324456959138\n",
      "******************************************************************************************\n",
      "Control Variables:\n",
      "Coefficient of 'el_pct': -0.6497767766531359\n",
      "Standard Error of 'el_pct' coefficient: 0.031107541185006728\n"
     ]
    }
   ],
   "source": [
    "model5 = smf.ols('testscr ~ str + el_pct', data =df).fit(cov_type = 'HC2')\n",
    "print(model5.summary())\n",
    "print(\"*\"*90)\n",
    "print(\"Number of Observations (nobs):\", model5.nobs)\n",
    "print(\"Adjusted R-squared:\", model5.rsquared_adj)\n",
    "print(\"Standard Error of Regression (SER):\", math.sqrt(model5.ssr / model5.df_resid))\n",
    "print(\"*\"*90)\n",
    "print(\"Coefficient of 'str':\", model5.params['str'])\n",
    "print(\"Standard Error of 'str' coefficient:\", model5.bse['str'])\n",
    "print(\"Confidence Interval of 'str' coefficient:\", model5.conf_int().loc['str'])\n",
    "print(\"*\"*90)\n",
    "print(\"Coefficient of intercept:\", model5.params['Intercept'])\n",
    "print(\"Standard Error of 'intercept' coefficient:\", model5.bse['Intercept'])\n",
    "print(\"*\"*90)\n",
    "print(\"Control Variables:\")\n",
    "print(\"Coefficient of 'el_pct':\", model5.params['el_pct'])\n",
    "print(\"Standard Error of 'el_pct' coefficient:\", model5.bse['el_pct'])\n"
   ]
  },
  {
   "cell_type": "code",
   "execution_count": 31,
   "id": "49fa9643-4aa3-43aa-8743-16566272225c",
   "metadata": {},
   "outputs": [
    {
     "name": "stdout",
     "output_type": "stream",
     "text": [
      "                            OLS Regression Results                            \n",
      "==============================================================================\n",
      "Dep. Variable:                testscr   R-squared:                       0.775\n",
      "Model:                            OLS   Adj. R-squared:                  0.773\n",
      "Method:                 Least Squares   F-statistic:                     451.5\n",
      "Date:                Thu, 11 Jul 2024   Prob (F-statistic):          2.13e-130\n",
      "Time:                        14:57:52   Log-Likelihood:                -1520.5\n",
      "No. Observations:                 420   AIC:                             3049.\n",
      "Df Residuals:                     416   BIC:                             3065.\n",
      "Df Model:                           3                                         \n",
      "Covariance Type:                  HC2                                         \n",
      "==============================================================================\n",
      "                 coef    std err          z      P>|z|      [0.025      0.975]\n",
      "------------------------------------------------------------------------------\n",
      "Intercept    700.1500      5.591    125.225      0.000     689.192     711.108\n",
      "str           -0.9983      0.271     -3.680      0.000      -1.530      -0.467\n",
      "el_pct        -0.1216      0.033     -3.689      0.000      -0.186      -0.057\n",
      "meal_pct      -0.5473      0.024    -22.659      0.000      -0.595      -0.500\n",
      "==============================================================================\n",
      "Omnibus:                        6.998   Durbin-Watson:                   1.438\n",
      "Prob(Omnibus):                  0.030   Jarque-Bera (JB):               10.626\n",
      "Skew:                          -0.024   Prob(JB):                      0.00493\n",
      "Kurtosis:                       3.778   Cond. No.                         621.\n",
      "==============================================================================\n",
      "\n",
      "Notes:\n",
      "[1] Standard Errors are heteroscedasticity robust (HC2)\n",
      "******************************************************************************************\n",
      "Number of Observations (nobs): 420.0\n",
      "Adjusted R-squared: 0.7728897777772022\n",
      "Standard Error of Regression (SER): 9.08007911799521\n",
      "******************************************************************************************\n",
      "Coefficient of 'str': -0.9983092184361917\n",
      "Standard Error of 'str' coefficient: 0.2712582912841282\n",
      "Confidence Interval of 'str' coefficient: 0   -1.529966\n",
      "1   -0.466653\n",
      "Name: str, dtype: float64\n",
      "******************************************************************************************\n",
      "Coefficient of intercept: 700.1499646912087\n",
      "Standard Error of 'intercept' coefficient: 5.591126981728231\n",
      "******************************************************************************************\n",
      "Control Variables:\n",
      "Coefficient of 'el_pct': -0.12157329139694084\n",
      "Standard Error of 'el_pct' coefficient: 0.03295681505850961\n",
      "Coefficient of 'meal_pct': -0.5473455513714036\n",
      "Standard Error of 'meal_pct' coefficient: 0.024155738874582403\n"
     ]
    }
   ],
   "source": [
    "model6 = smf.ols('testscr ~ str + el_pct + meal_pct', data =df).fit(cov_type = 'HC2')\n",
    "print(model6.summary())\n",
    "print(\"*\"*90)\n",
    "print(\"Number of Observations (nobs):\", model6.nobs)\n",
    "print(\"Adjusted R-squared:\", model6.rsquared_adj)\n",
    "print(\"Standard Error of Regression (SER):\", math.sqrt(model6.ssr / model6.df_resid))\n",
    "print(\"*\"*90)\n",
    "print(\"Coefficient of 'str':\", model6.params['str'])\n",
    "print(\"Standard Error of 'str' coefficient:\", model6.bse['str'])\n",
    "print(\"Confidence Interval of 'str' coefficient:\", model6.conf_int().loc['str'])\n",
    "print(\"*\"*90)\n",
    "print(\"Coefficient of intercept:\", model6.params['Intercept'])\n",
    "print(\"Standard Error of 'intercept' coefficient:\", model6.bse['Intercept'])\n",
    "print(\"*\"*90)\n",
    "print(\"Control Variables:\")\n",
    "print(\"Coefficient of 'el_pct':\", model6.params['el_pct'])\n",
    "print(\"Standard Error of 'el_pct' coefficient:\", model6.bse['el_pct'])\n",
    "print(\"Coefficient of 'meal_pct':\", model6.params['meal_pct'])\n",
    "print(\"Standard Error of 'meal_pct' coefficient:\", model6.bse['meal_pct'])"
   ]
  },
  {
   "cell_type": "code",
   "execution_count": 32,
   "id": "d48491c0-2685-4417-85ad-6ac666a188fe",
   "metadata": {},
   "outputs": [
    {
     "name": "stdout",
     "output_type": "stream",
     "text": [
      "                            OLS Regression Results                            \n",
      "==============================================================================\n",
      "Dep. Variable:                testscr   R-squared:                       0.775\n",
      "Model:                            OLS   Adj. R-squared:                  0.773\n",
      "Method:                 Least Squares   F-statistic:                     357.7\n",
      "Date:                Thu, 11 Jul 2024   Prob (F-statistic):          5.15e-133\n",
      "Time:                        14:57:52   Log-Likelihood:                -1520.2\n",
      "No. Observations:                 420   AIC:                             3050.\n",
      "Df Residuals:                     415   BIC:                             3071.\n",
      "Df Model:                           4                                         \n",
      "Covariance Type:                  HC2                                         \n",
      "==============================================================================\n",
      "                 coef    std err          z      P>|z|      [0.025      0.975]\n",
      "------------------------------------------------------------------------------\n",
      "Intercept    700.3918      5.559    125.982      0.000     689.496     711.288\n",
      "str           -1.0144      0.270     -3.757      0.000      -1.544      -0.485\n",
      "el_pct        -0.1298      0.036     -3.561      0.000      -0.201      -0.058\n",
      "meal_pct      -0.5286      0.038    -13.759      0.000      -0.604      -0.453\n",
      "calw_pct      -0.0479      0.060     -0.800      0.424      -0.165       0.069\n",
      "==============================================================================\n",
      "Omnibus:                        6.583   Durbin-Watson:                   1.430\n",
      "Prob(Omnibus):                  0.037   Jarque-Bera (JB):                9.701\n",
      "Skew:                          -0.032   Prob(JB):                      0.00782\n",
      "Kurtosis:                       3.742   Cond. No.                         644.\n",
      "==============================================================================\n",
      "\n",
      "Notes:\n",
      "[1] Standard Errors are heteroscedasticity robust (HC2)\n",
      "******************************************************************************************\n",
      "Number of Observations (nobs): 420.0\n",
      "Adjusted R-squared: 0.7726799599940171\n",
      "Standard Error of Regression (SER): 9.084272505309498\n",
      "******************************************************************************************\n",
      "Coefficient of 'str': -1.014353283686381\n",
      "Standard Error of 'str' coefficient: 0.2699983170627972\n",
      "Confidence Interval of 'str' coefficient: 0   -1.543540\n",
      "1   -0.485166\n",
      "Name: str, dtype: float64\n",
      "******************************************************************************************\n",
      "Coefficient of intercept: 700.3918429187605\n",
      "Standard Error of 'intercept' coefficient: 5.559437672353088\n",
      "******************************************************************************************\n",
      "Control Variables:\n",
      "Coefficient of 'el_pct': -0.12982189169754665\n",
      "Standard Error of 'el_pct' coefficient: 0.036457668649763415\n",
      "Coefficient of 'meal_pct': -0.5286190781836066\n",
      "Standard Error of 'meal_pct' coefficient: 0.03841911349299429\n",
      "Coefficient of 'calw_pct': -0.04785370535070532\n",
      "Standard Error of 'calw_pct' coefficient: 0.05984133513574561\n"
     ]
    }
   ],
   "source": [
    "model7 = smf.ols('testscr ~ str + el_pct + meal_pct + calw_pct', data =df).fit(cov_type = 'HC2')\n",
    "print(model7.summary())\n",
    "print(\"*\"*90)\n",
    "print(f\"Number of Observations (nobs): {model7.nobs}\")\n",
    "print(f\"Adjusted R-squared: {model7.rsquared_adj}\")\n",
    "print(f\"Standard Error of Regression (SER): {math.sqrt(model7.ssr / model7.df_resid)}\")\n",
    "print(\"*\"*90)\n",
    "print(f\"Coefficient of 'str': {model7.params['str']}\")\n",
    "print(f\"Standard Error of 'str' coefficient: {model7.bse['str']}\")\n",
    "print(f\"Confidence Interval of 'str' coefficient: {model7.conf_int().loc['str']}\")\n",
    "print(\"*\"*90)\n",
    "print(f\"Coefficient of intercept: {model7.params['Intercept']}\")\n",
    "print(f\"Standard Error of 'intercept' coefficient: {model7.bse['Intercept']}\")\n",
    "print(\"*\"*90)\n",
    "print(\"Control Variables:\")\n",
    "print(f\"Coefficient of 'el_pct': {model7.params['el_pct']}\")\n",
    "print(f\"Standard Error of 'el_pct' coefficient: {model7.bse['el_pct']}\")\n",
    "print(f\"Coefficient of 'meal_pct': {model7.params['meal_pct']}\")\n",
    "print(f\"Standard Error of 'meal_pct' coefficient: {model7.bse['meal_pct']}\")\n",
    "print(f\"Coefficient of 'calw_pct': {model7.params['calw_pct']}\")\n",
    "print(f\"Standard Error of 'calw_pct' coefficient: {model7.bse['calw_pct']}\")"
   ]
  },
  {
   "cell_type": "code",
   "execution_count": 33,
   "id": "85611314-150a-4deb-96de-eb8060ad2962",
   "metadata": {},
   "outputs": [
    {
     "name": "stdout",
     "output_type": "stream",
     "text": [
      "                            OLS Regression Results                            \n",
      "==============================================================================\n",
      "Dep. Variable:                testscr   R-squared:                       0.629\n",
      "Model:                            OLS   Adj. R-squared:                  0.626\n",
      "Method:                 Least Squares   F-statistic:                     167.2\n",
      "Date:                Thu, 11 Jul 2024   Prob (F-statistic):           4.09e-71\n",
      "Time:                        14:57:52   Log-Likelihood:                -1625.3\n",
      "No. Observations:                 420   AIC:                             3259.\n",
      "Df Residuals:                     416   BIC:                             3275.\n",
      "Df Model:                           3                                         \n",
      "Covariance Type:                  HC2                                         \n",
      "==============================================================================\n",
      "                 coef    std err          z      P>|z|      [0.025      0.975]\n",
      "------------------------------------------------------------------------------\n",
      "Intercept    697.9987      6.946    100.491      0.000     684.385     711.612\n",
      "str           -1.3080      0.340     -3.845      0.000      -1.975      -0.641\n",
      "el_pct        -0.4876      0.030    -16.399      0.000      -0.546      -0.429\n",
      "calw_pct      -0.7900      0.069    -11.477      0.000      -0.925      -0.655\n",
      "==============================================================================\n",
      "Omnibus:                        4.267   Durbin-Watson:                   1.094\n",
      "Prob(Omnibus):                  0.118   Jarque-Bera (JB):                5.337\n",
      "Skew:                          -0.027   Prob(JB):                       0.0694\n",
      "Kurtosis:                       3.550   Cond. No.                         338.\n",
      "==============================================================================\n",
      "\n",
      "Notes:\n",
      "[1] Standard Errors are heteroscedasticity robust (HC2)\n",
      "******************************************************************************************\n",
      "Number of Observations (nobs): 420.0\n",
      "Adjusted R-squared: 0.6258642151608783\n",
      "Standard Error of Regression (SER): 11.654292560344556\n",
      "******************************************************************************************\n",
      "Coefficient of 'str': -1.3079841315208052\n",
      "Standard Error of 'str' coefficient: 0.3402221471993885\n",
      "Confidence Interval of 'str' coefficient: 0   -1.974807\n",
      "1   -0.641161\n",
      "Name: str, dtype: float64\n",
      "******************************************************************************************\n",
      "Coefficient of intercept: 697.99869004892\n",
      "Standard Error of 'intercept' coefficient: 6.945907382951443\n",
      "******************************************************************************************\n",
      "Control Variables:\n",
      "Coefficient of 'el_pct': -0.48762020439032006\n",
      "Standard Error of 'el_pct' coefficient: 0.02973489830434721\n",
      "Coefficient of 'calw_pct': -0.7899647808493098\n",
      "Standard Error of 'calw_pct' coefficient: 0.06883049219973834\n"
     ]
    }
   ],
   "source": [
    "model8 = smf.ols('testscr ~ str + el_pct  + calw_pct', data =df).fit(cov_type = 'HC2')\n",
    "print(model8.summary())\n",
    "print(\"*\"*90)\n",
    "print(f\"Number of Observations (nobs): {model8.nobs}\")\n",
    "print(f\"Adjusted R-squared: {model8.rsquared_adj}\")\n",
    "print(f\"Standard Error of Regression (SER): {math.sqrt(model8.ssr / model8.df_resid)}\")\n",
    "print(\"*\"*90)\n",
    "print(f\"Coefficient of 'str': {model8.params['str']}\")\n",
    "print(f\"Standard Error of 'str' coefficient: {model8.bse['str']}\")\n",
    "print(f\"Confidence Interval of 'str' coefficient: {model8.conf_int().loc['str']}\")\n",
    "print(\"*\"*90)\n",
    "print(f\"Coefficient of intercept: {model8.params['Intercept']}\")\n",
    "print(f\"Standard Error of 'intercept' coefficient: {model8.bse['Intercept']}\")\n",
    "print(\"*\"*90)\n",
    "print(\"Control Variables:\")\n",
    "print(f\"Coefficient of 'el_pct': {model8.params['el_pct']}\")\n",
    "print(f\"Standard Error of 'el_pct' coefficient: {model8.bse['el_pct']}\")\n",
    "print(f\"Coefficient of 'calw_pct': {model8.params['calw_pct']}\")\n",
    "print(f\"Standard Error of 'calw_pct' coefficient: {model8.bse['calw_pct']}\")"
   ]
  },
  {
   "cell_type": "markdown",
   "id": "09076117-a794-4bf9-bfb5-73b13072d0bb",
   "metadata": {},
   "source": [
    "### Interpretation"
   ]
  },
  {
   "cell_type": "markdown",
   "id": "f01b6f2a-83e0-4962-92f3-cbbf677c68e4",
   "metadata": {},
   "source": [
    "In contrast to the other two control variables, the percentage qualifying for\n",
    "income assistance appears to be redundant."
   ]
  },
  {
   "cell_type": "markdown",
   "id": "390fd5ff-83f8-425a-beed-272a91002639",
   "metadata": {},
   "source": [
    "R squared ajusted increases when adding student characteristics"
   ]
  },
  {
   "cell_type": "markdown",
   "id": "9a456fdd-d5c5-4273-90b7-4a45975fc2a4",
   "metadata": {},
   "source": [
    "Controlling for these student characteristics cuts the estimated effect of the\n",
    "student–teacher ratio on test scores approximately in half. This estimated\n",
    "effect is not very sensitive to which specific control variables are included in\n",
    "the regression. In all cases, the hypothesis that the coefficient on the student–\n",
    "teacher ratio is 0 can be rejected at the 5% level"
   ]
  },
  {
   "cell_type": "markdown",
   "id": "8f497020-3a0b-4b46-ac40-06ca9b91494c",
   "metadata": {},
   "source": [
    "## Exercises"
   ]
  },
  {
   "cell_type": "markdown",
   "id": "931a8331-5b65-4e53-acc2-05705ca9d2e4",
   "metadata": {},
   "source": [
    "🚧 Under Construction"
   ]
  }
 ],
 "metadata": {
  "kernelspec": {
   "display_name": "Python 3 (ipykernel)",
   "language": "python",
   "name": "python3"
  },
  "language_info": {
   "codemirror_mode": {
    "name": "ipython",
    "version": 3
   },
   "file_extension": ".py",
   "mimetype": "text/x-python",
   "name": "python",
   "nbconvert_exporter": "python",
   "pygments_lexer": "ipython3",
   "version": "3.12.4"
  }
 },
 "nbformat": 4,
 "nbformat_minor": 5
}
